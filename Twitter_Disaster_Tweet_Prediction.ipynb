{
  "nbformat": 4,
  "nbformat_minor": 0,
  "metadata": {
    "colab": {
      "provenance": [],
      "include_colab_link": true
    },
    "kernelspec": {
      "name": "python3",
      "display_name": "Python 3"
    },
    "language_info": {
      "name": "python"
    },
    "gpuClass": "standard"
  },
  "cells": [
    {
      "cell_type": "markdown",
      "metadata": {
        "id": "view-in-github",
        "colab_type": "text"
      },
      "source": [
        "<a href=\"https://colab.research.google.com/github/ashishyadav0501/Project/blob/main/Twitter_Disaster_Tweet_Prediction.ipynb\" target=\"_parent\"><img src=\"https://colab.research.google.com/assets/colab-badge.svg\" alt=\"Open In Colab\"/></a>"
      ]
    },
    {
      "cell_type": "code",
      "source": [
        "!nvidia-smi -L"
      ],
      "metadata": {
        "colab": {
          "base_uri": "https://localhost:8080/"
        },
        "id": "Xh1J60m6Xv04",
        "outputId": "17e2a7de-cfc2-4ad4-93d9-e066ab6a15d6"
      },
      "execution_count": null,
      "outputs": [
        {
          "output_type": "stream",
          "name": "stdout",
          "text": [
            "GPU 0: Tesla T4 (UUID: GPU-a50cab0e-a153-944d-68eb-ca8062b90ee5)\n"
          ]
        }
      ]
    },
    {
      "cell_type": "code",
      "source": [
        "!wget https://raw.githubusercontent.com/mrdbourke/tensorflow-deep-learning/main/extras/helper_functions.py"
      ],
      "metadata": {
        "colab": {
          "base_uri": "https://localhost:8080/"
        },
        "id": "V45V_LVDYKfI",
        "outputId": "32496bff-4b91-4d0a-a12c-84dad2ffad8a"
      },
      "execution_count": null,
      "outputs": [
        {
          "output_type": "stream",
          "name": "stdout",
          "text": [
            "--2023-04-14 03:39:22--  https://raw.githubusercontent.com/mrdbourke/tensorflow-deep-learning/main/extras/helper_functions.py\n",
            "Resolving raw.githubusercontent.com (raw.githubusercontent.com)... 185.199.108.133, 185.199.109.133, 185.199.110.133, ...\n",
            "Connecting to raw.githubusercontent.com (raw.githubusercontent.com)|185.199.108.133|:443... connected.\n",
            "HTTP request sent, awaiting response... 200 OK\n",
            "Length: 10246 (10K) [text/plain]\n",
            "Saving to: ‘helper_functions.py’\n",
            "\n",
            "helper_functions.py 100%[===================>]  10.01K  --.-KB/s    in 0s      \n",
            "\n",
            "2023-04-14 03:39:22 (74.1 MB/s) - ‘helper_functions.py’ saved [10246/10246]\n",
            "\n"
          ]
        }
      ]
    },
    {
      "cell_type": "code",
      "source": [
        "from  helper_functions import unzip_data, create_tensorboard_callback, compare_historys"
      ],
      "metadata": {
        "id": "R9bMor7xYVsg"
      },
      "execution_count": null,
      "outputs": []
    },
    {
      "cell_type": "code",
      "source": [
        "!wget https://storage.googleapis.com/ztm_tf_course/nlp_getting_started.zip"
      ],
      "metadata": {
        "colab": {
          "base_uri": "https://localhost:8080/"
        },
        "id": "1r5L5XUgY4J8",
        "outputId": "0ddfb3ad-637a-42e5-92c5-050cac7e8dfa"
      },
      "execution_count": null,
      "outputs": [
        {
          "output_type": "stream",
          "name": "stdout",
          "text": [
            "--2023-04-14 03:39:29--  https://storage.googleapis.com/ztm_tf_course/nlp_getting_started.zip\n",
            "Resolving storage.googleapis.com (storage.googleapis.com)... 74.125.200.128, 74.125.68.128, 74.125.24.128, ...\n",
            "Connecting to storage.googleapis.com (storage.googleapis.com)|74.125.200.128|:443... connected.\n",
            "HTTP request sent, awaiting response... 200 OK\n",
            "Length: 607343 (593K) [application/zip]\n",
            "Saving to: ‘nlp_getting_started.zip’\n",
            "\n",
            "nlp_getting_started 100%[===================>] 593.11K   726KB/s    in 0.8s    \n",
            "\n",
            "2023-04-14 03:39:30 (726 KB/s) - ‘nlp_getting_started.zip’ saved [607343/607343]\n",
            "\n"
          ]
        }
      ]
    },
    {
      "cell_type": "code",
      "source": [
        "# Unzip the data\n",
        "unzip_data(\"nlp_getting_started.zip\")"
      ],
      "metadata": {
        "id": "fYHPgnE9aImu"
      },
      "execution_count": null,
      "outputs": []
    },
    {
      "cell_type": "code",
      "source": [
        "import pandas as pd\n",
        "import numpy as np\n",
        "import tensorflow as tf\n",
        "\n",
        "train_df = pd.read_csv(\"train.csv\")\n",
        "test_df = pd.read_csv(\"test.csv\")\n",
        "train_df.head()"
      ],
      "metadata": {
        "colab": {
          "base_uri": "https://localhost:8080/",
          "height": 206
        },
        "id": "TAhA3HkfaWF9",
        "outputId": "8fc038d9-ca0c-4cfb-8266-e78f5bf029f0"
      },
      "execution_count": null,
      "outputs": [
        {
          "output_type": "execute_result",
          "data": {
            "text/plain": [
              "   id keyword location                                               text  \\\n",
              "0   1     NaN      NaN  Our Deeds are the Reason of this #earthquake M...   \n",
              "1   4     NaN      NaN             Forest fire near La Ronge Sask. Canada   \n",
              "2   5     NaN      NaN  All residents asked to 'shelter in place' are ...   \n",
              "3   6     NaN      NaN  13,000 people receive #wildfires evacuation or...   \n",
              "4   7     NaN      NaN  Just got sent this photo from Ruby #Alaska as ...   \n",
              "\n",
              "   target  \n",
              "0       1  \n",
              "1       1  \n",
              "2       1  \n",
              "3       1  \n",
              "4       1  "
            ],
            "text/html": [
              "\n",
              "  <div id=\"df-68df76e7-2796-4fb0-b68a-6ee69fb3a1ef\">\n",
              "    <div class=\"colab-df-container\">\n",
              "      <div>\n",
              "<style scoped>\n",
              "    .dataframe tbody tr th:only-of-type {\n",
              "        vertical-align: middle;\n",
              "    }\n",
              "\n",
              "    .dataframe tbody tr th {\n",
              "        vertical-align: top;\n",
              "    }\n",
              "\n",
              "    .dataframe thead th {\n",
              "        text-align: right;\n",
              "    }\n",
              "</style>\n",
              "<table border=\"1\" class=\"dataframe\">\n",
              "  <thead>\n",
              "    <tr style=\"text-align: right;\">\n",
              "      <th></th>\n",
              "      <th>id</th>\n",
              "      <th>keyword</th>\n",
              "      <th>location</th>\n",
              "      <th>text</th>\n",
              "      <th>target</th>\n",
              "    </tr>\n",
              "  </thead>\n",
              "  <tbody>\n",
              "    <tr>\n",
              "      <th>0</th>\n",
              "      <td>1</td>\n",
              "      <td>NaN</td>\n",
              "      <td>NaN</td>\n",
              "      <td>Our Deeds are the Reason of this #earthquake M...</td>\n",
              "      <td>1</td>\n",
              "    </tr>\n",
              "    <tr>\n",
              "      <th>1</th>\n",
              "      <td>4</td>\n",
              "      <td>NaN</td>\n",
              "      <td>NaN</td>\n",
              "      <td>Forest fire near La Ronge Sask. Canada</td>\n",
              "      <td>1</td>\n",
              "    </tr>\n",
              "    <tr>\n",
              "      <th>2</th>\n",
              "      <td>5</td>\n",
              "      <td>NaN</td>\n",
              "      <td>NaN</td>\n",
              "      <td>All residents asked to 'shelter in place' are ...</td>\n",
              "      <td>1</td>\n",
              "    </tr>\n",
              "    <tr>\n",
              "      <th>3</th>\n",
              "      <td>6</td>\n",
              "      <td>NaN</td>\n",
              "      <td>NaN</td>\n",
              "      <td>13,000 people receive #wildfires evacuation or...</td>\n",
              "      <td>1</td>\n",
              "    </tr>\n",
              "    <tr>\n",
              "      <th>4</th>\n",
              "      <td>7</td>\n",
              "      <td>NaN</td>\n",
              "      <td>NaN</td>\n",
              "      <td>Just got sent this photo from Ruby #Alaska as ...</td>\n",
              "      <td>1</td>\n",
              "    </tr>\n",
              "  </tbody>\n",
              "</table>\n",
              "</div>\n",
              "      <button class=\"colab-df-convert\" onclick=\"convertToInteractive('df-68df76e7-2796-4fb0-b68a-6ee69fb3a1ef')\"\n",
              "              title=\"Convert this dataframe to an interactive table.\"\n",
              "              style=\"display:none;\">\n",
              "        \n",
              "  <svg xmlns=\"http://www.w3.org/2000/svg\" height=\"24px\"viewBox=\"0 0 24 24\"\n",
              "       width=\"24px\">\n",
              "    <path d=\"M0 0h24v24H0V0z\" fill=\"none\"/>\n",
              "    <path d=\"M18.56 5.44l.94 2.06.94-2.06 2.06-.94-2.06-.94-.94-2.06-.94 2.06-2.06.94zm-11 1L8.5 8.5l.94-2.06 2.06-.94-2.06-.94L8.5 2.5l-.94 2.06-2.06.94zm10 10l.94 2.06.94-2.06 2.06-.94-2.06-.94-.94-2.06-.94 2.06-2.06.94z\"/><path d=\"M17.41 7.96l-1.37-1.37c-.4-.4-.92-.59-1.43-.59-.52 0-1.04.2-1.43.59L10.3 9.45l-7.72 7.72c-.78.78-.78 2.05 0 2.83L4 21.41c.39.39.9.59 1.41.59.51 0 1.02-.2 1.41-.59l7.78-7.78 2.81-2.81c.8-.78.8-2.07 0-2.86zM5.41 20L4 18.59l7.72-7.72 1.47 1.35L5.41 20z\"/>\n",
              "  </svg>\n",
              "      </button>\n",
              "      \n",
              "  <style>\n",
              "    .colab-df-container {\n",
              "      display:flex;\n",
              "      flex-wrap:wrap;\n",
              "      gap: 12px;\n",
              "    }\n",
              "\n",
              "    .colab-df-convert {\n",
              "      background-color: #E8F0FE;\n",
              "      border: none;\n",
              "      border-radius: 50%;\n",
              "      cursor: pointer;\n",
              "      display: none;\n",
              "      fill: #1967D2;\n",
              "      height: 32px;\n",
              "      padding: 0 0 0 0;\n",
              "      width: 32px;\n",
              "    }\n",
              "\n",
              "    .colab-df-convert:hover {\n",
              "      background-color: #E2EBFA;\n",
              "      box-shadow: 0px 1px 2px rgba(60, 64, 67, 0.3), 0px 1px 3px 1px rgba(60, 64, 67, 0.15);\n",
              "      fill: #174EA6;\n",
              "    }\n",
              "\n",
              "    [theme=dark] .colab-df-convert {\n",
              "      background-color: #3B4455;\n",
              "      fill: #D2E3FC;\n",
              "    }\n",
              "\n",
              "    [theme=dark] .colab-df-convert:hover {\n",
              "      background-color: #434B5C;\n",
              "      box-shadow: 0px 1px 3px 1px rgba(0, 0, 0, 0.15);\n",
              "      filter: drop-shadow(0px 1px 2px rgba(0, 0, 0, 0.3));\n",
              "      fill: #FFFFFF;\n",
              "    }\n",
              "  </style>\n",
              "\n",
              "      <script>\n",
              "        const buttonEl =\n",
              "          document.querySelector('#df-68df76e7-2796-4fb0-b68a-6ee69fb3a1ef button.colab-df-convert');\n",
              "        buttonEl.style.display =\n",
              "          google.colab.kernel.accessAllowed ? 'block' : 'none';\n",
              "\n",
              "        async function convertToInteractive(key) {\n",
              "          const element = document.querySelector('#df-68df76e7-2796-4fb0-b68a-6ee69fb3a1ef');\n",
              "          const dataTable =\n",
              "            await google.colab.kernel.invokeFunction('convertToInteractive',\n",
              "                                                     [key], {});\n",
              "          if (!dataTable) return;\n",
              "\n",
              "          const docLinkHtml = 'Like what you see? Visit the ' +\n",
              "            '<a target=\"_blank\" href=https://colab.research.google.com/notebooks/data_table.ipynb>data table notebook</a>'\n",
              "            + ' to learn more about interactive tables.';\n",
              "          element.innerHTML = '';\n",
              "          dataTable['output_type'] = 'display_data';\n",
              "          await google.colab.output.renderOutput(dataTable, element);\n",
              "          const docLink = document.createElement('div');\n",
              "          docLink.innerHTML = docLinkHtml;\n",
              "          element.appendChild(docLink);\n",
              "        }\n",
              "      </script>\n",
              "    </div>\n",
              "  </div>\n",
              "  "
            ]
          },
          "metadata": {},
          "execution_count": 7
        }
      ]
    },
    {
      "cell_type": "code",
      "source": [
        "train_df[\"text\"][1]"
      ],
      "metadata": {
        "colab": {
          "base_uri": "https://localhost:8080/",
          "height": 35
        },
        "id": "uwaVHge5b0DG",
        "outputId": "830f14d5-d0af-4633-f4f6-d77863fc253e"
      },
      "execution_count": null,
      "outputs": [
        {
          "output_type": "execute_result",
          "data": {
            "text/plain": [
              "'Forest fire near La Ronge Sask. Canada'"
            ],
            "application/vnd.google.colaboratory.intrinsic+json": {
              "type": "string"
            }
          },
          "metadata": {},
          "execution_count": 8
        }
      ]
    },
    {
      "cell_type": "code",
      "source": [
        "# Shuffle our training dataframe\n",
        "train_data_shuffled = train_df.sample(frac=1, random_state=42)\n",
        "train_data_shuffled.head()"
      ],
      "metadata": {
        "colab": {
          "base_uri": "https://localhost:8080/",
          "height": 206
        },
        "id": "xxudLDyfcHAg",
        "outputId": "8dd8d875-362c-49a9-b463-c1184b1ee135"
      },
      "execution_count": null,
      "outputs": [
        {
          "output_type": "execute_result",
          "data": {
            "text/plain": [
              "        id      keyword               location  \\\n",
              "2644  3796  destruction                    NaN   \n",
              "2227  3185       deluge                    NaN   \n",
              "5448  7769       police                     UK   \n",
              "132    191   aftershock                    NaN   \n",
              "6845  9810       trauma  Montgomery County, MD   \n",
              "\n",
              "                                                   text  target  \n",
              "2644  So you have a new weapon that can cause un-ima...       1  \n",
              "2227  The f$&amp;@ing things I do for #GISHWHES Just...       0  \n",
              "5448  DT @georgegalloway: RT @Galloway4Mayor: ÛÏThe...       1  \n",
              "132   Aftershock back to school kick off was great. ...       0  \n",
              "6845  in response to trauma Children of Addicts deve...       0  "
            ],
            "text/html": [
              "\n",
              "  <div id=\"df-f396ebd2-ebc4-42ad-94d5-43ff62871ded\">\n",
              "    <div class=\"colab-df-container\">\n",
              "      <div>\n",
              "<style scoped>\n",
              "    .dataframe tbody tr th:only-of-type {\n",
              "        vertical-align: middle;\n",
              "    }\n",
              "\n",
              "    .dataframe tbody tr th {\n",
              "        vertical-align: top;\n",
              "    }\n",
              "\n",
              "    .dataframe thead th {\n",
              "        text-align: right;\n",
              "    }\n",
              "</style>\n",
              "<table border=\"1\" class=\"dataframe\">\n",
              "  <thead>\n",
              "    <tr style=\"text-align: right;\">\n",
              "      <th></th>\n",
              "      <th>id</th>\n",
              "      <th>keyword</th>\n",
              "      <th>location</th>\n",
              "      <th>text</th>\n",
              "      <th>target</th>\n",
              "    </tr>\n",
              "  </thead>\n",
              "  <tbody>\n",
              "    <tr>\n",
              "      <th>2644</th>\n",
              "      <td>3796</td>\n",
              "      <td>destruction</td>\n",
              "      <td>NaN</td>\n",
              "      <td>So you have a new weapon that can cause un-ima...</td>\n",
              "      <td>1</td>\n",
              "    </tr>\n",
              "    <tr>\n",
              "      <th>2227</th>\n",
              "      <td>3185</td>\n",
              "      <td>deluge</td>\n",
              "      <td>NaN</td>\n",
              "      <td>The f$&amp;amp;@ing things I do for #GISHWHES Just...</td>\n",
              "      <td>0</td>\n",
              "    </tr>\n",
              "    <tr>\n",
              "      <th>5448</th>\n",
              "      <td>7769</td>\n",
              "      <td>police</td>\n",
              "      <td>UK</td>\n",
              "      <td>DT @georgegalloway: RT @Galloway4Mayor: ÛÏThe...</td>\n",
              "      <td>1</td>\n",
              "    </tr>\n",
              "    <tr>\n",
              "      <th>132</th>\n",
              "      <td>191</td>\n",
              "      <td>aftershock</td>\n",
              "      <td>NaN</td>\n",
              "      <td>Aftershock back to school kick off was great. ...</td>\n",
              "      <td>0</td>\n",
              "    </tr>\n",
              "    <tr>\n",
              "      <th>6845</th>\n",
              "      <td>9810</td>\n",
              "      <td>trauma</td>\n",
              "      <td>Montgomery County, MD</td>\n",
              "      <td>in response to trauma Children of Addicts deve...</td>\n",
              "      <td>0</td>\n",
              "    </tr>\n",
              "  </tbody>\n",
              "</table>\n",
              "</div>\n",
              "      <button class=\"colab-df-convert\" onclick=\"convertToInteractive('df-f396ebd2-ebc4-42ad-94d5-43ff62871ded')\"\n",
              "              title=\"Convert this dataframe to an interactive table.\"\n",
              "              style=\"display:none;\">\n",
              "        \n",
              "  <svg xmlns=\"http://www.w3.org/2000/svg\" height=\"24px\"viewBox=\"0 0 24 24\"\n",
              "       width=\"24px\">\n",
              "    <path d=\"M0 0h24v24H0V0z\" fill=\"none\"/>\n",
              "    <path d=\"M18.56 5.44l.94 2.06.94-2.06 2.06-.94-2.06-.94-.94-2.06-.94 2.06-2.06.94zm-11 1L8.5 8.5l.94-2.06 2.06-.94-2.06-.94L8.5 2.5l-.94 2.06-2.06.94zm10 10l.94 2.06.94-2.06 2.06-.94-2.06-.94-.94-2.06-.94 2.06-2.06.94z\"/><path d=\"M17.41 7.96l-1.37-1.37c-.4-.4-.92-.59-1.43-.59-.52 0-1.04.2-1.43.59L10.3 9.45l-7.72 7.72c-.78.78-.78 2.05 0 2.83L4 21.41c.39.39.9.59 1.41.59.51 0 1.02-.2 1.41-.59l7.78-7.78 2.81-2.81c.8-.78.8-2.07 0-2.86zM5.41 20L4 18.59l7.72-7.72 1.47 1.35L5.41 20z\"/>\n",
              "  </svg>\n",
              "      </button>\n",
              "      \n",
              "  <style>\n",
              "    .colab-df-container {\n",
              "      display:flex;\n",
              "      flex-wrap:wrap;\n",
              "      gap: 12px;\n",
              "    }\n",
              "\n",
              "    .colab-df-convert {\n",
              "      background-color: #E8F0FE;\n",
              "      border: none;\n",
              "      border-radius: 50%;\n",
              "      cursor: pointer;\n",
              "      display: none;\n",
              "      fill: #1967D2;\n",
              "      height: 32px;\n",
              "      padding: 0 0 0 0;\n",
              "      width: 32px;\n",
              "    }\n",
              "\n",
              "    .colab-df-convert:hover {\n",
              "      background-color: #E2EBFA;\n",
              "      box-shadow: 0px 1px 2px rgba(60, 64, 67, 0.3), 0px 1px 3px 1px rgba(60, 64, 67, 0.15);\n",
              "      fill: #174EA6;\n",
              "    }\n",
              "\n",
              "    [theme=dark] .colab-df-convert {\n",
              "      background-color: #3B4455;\n",
              "      fill: #D2E3FC;\n",
              "    }\n",
              "\n",
              "    [theme=dark] .colab-df-convert:hover {\n",
              "      background-color: #434B5C;\n",
              "      box-shadow: 0px 1px 3px 1px rgba(0, 0, 0, 0.15);\n",
              "      filter: drop-shadow(0px 1px 2px rgba(0, 0, 0, 0.3));\n",
              "      fill: #FFFFFF;\n",
              "    }\n",
              "  </style>\n",
              "\n",
              "      <script>\n",
              "        const buttonEl =\n",
              "          document.querySelector('#df-f396ebd2-ebc4-42ad-94d5-43ff62871ded button.colab-df-convert');\n",
              "        buttonEl.style.display =\n",
              "          google.colab.kernel.accessAllowed ? 'block' : 'none';\n",
              "\n",
              "        async function convertToInteractive(key) {\n",
              "          const element = document.querySelector('#df-f396ebd2-ebc4-42ad-94d5-43ff62871ded');\n",
              "          const dataTable =\n",
              "            await google.colab.kernel.invokeFunction('convertToInteractive',\n",
              "                                                     [key], {});\n",
              "          if (!dataTable) return;\n",
              "\n",
              "          const docLinkHtml = 'Like what you see? Visit the ' +\n",
              "            '<a target=\"_blank\" href=https://colab.research.google.com/notebooks/data_table.ipynb>data table notebook</a>'\n",
              "            + ' to learn more about interactive tables.';\n",
              "          element.innerHTML = '';\n",
              "          dataTable['output_type'] = 'display_data';\n",
              "          await google.colab.output.renderOutput(dataTable, element);\n",
              "          const docLink = document.createElement('div');\n",
              "          docLink.innerHTML = docLinkHtml;\n",
              "          element.appendChild(docLink);\n",
              "        }\n",
              "      </script>\n",
              "    </div>\n",
              "  </div>\n",
              "  "
            ]
          },
          "metadata": {},
          "execution_count": 9
        }
      ]
    },
    {
      "cell_type": "code",
      "source": [
        "test_df.head()"
      ],
      "metadata": {
        "colab": {
          "base_uri": "https://localhost:8080/",
          "height": 206
        },
        "id": "UdLoypEncfOK",
        "outputId": "5efc3fc5-06be-40f8-be11-4bbc3d870077"
      },
      "execution_count": null,
      "outputs": [
        {
          "output_type": "execute_result",
          "data": {
            "text/plain": [
              "   id keyword location                                               text\n",
              "0   0     NaN      NaN                 Just happened a terrible car crash\n",
              "1   2     NaN      NaN  Heard about #earthquake is different cities, s...\n",
              "2   3     NaN      NaN  there is a forest fire at spot pond, geese are...\n",
              "3   9     NaN      NaN           Apocalypse lighting. #Spokane #wildfires\n",
              "4  11     NaN      NaN      Typhoon Soudelor kills 28 in China and Taiwan"
            ],
            "text/html": [
              "\n",
              "  <div id=\"df-08f26fe4-84d6-41df-b955-3425854c5f36\">\n",
              "    <div class=\"colab-df-container\">\n",
              "      <div>\n",
              "<style scoped>\n",
              "    .dataframe tbody tr th:only-of-type {\n",
              "        vertical-align: middle;\n",
              "    }\n",
              "\n",
              "    .dataframe tbody tr th {\n",
              "        vertical-align: top;\n",
              "    }\n",
              "\n",
              "    .dataframe thead th {\n",
              "        text-align: right;\n",
              "    }\n",
              "</style>\n",
              "<table border=\"1\" class=\"dataframe\">\n",
              "  <thead>\n",
              "    <tr style=\"text-align: right;\">\n",
              "      <th></th>\n",
              "      <th>id</th>\n",
              "      <th>keyword</th>\n",
              "      <th>location</th>\n",
              "      <th>text</th>\n",
              "    </tr>\n",
              "  </thead>\n",
              "  <tbody>\n",
              "    <tr>\n",
              "      <th>0</th>\n",
              "      <td>0</td>\n",
              "      <td>NaN</td>\n",
              "      <td>NaN</td>\n",
              "      <td>Just happened a terrible car crash</td>\n",
              "    </tr>\n",
              "    <tr>\n",
              "      <th>1</th>\n",
              "      <td>2</td>\n",
              "      <td>NaN</td>\n",
              "      <td>NaN</td>\n",
              "      <td>Heard about #earthquake is different cities, s...</td>\n",
              "    </tr>\n",
              "    <tr>\n",
              "      <th>2</th>\n",
              "      <td>3</td>\n",
              "      <td>NaN</td>\n",
              "      <td>NaN</td>\n",
              "      <td>there is a forest fire at spot pond, geese are...</td>\n",
              "    </tr>\n",
              "    <tr>\n",
              "      <th>3</th>\n",
              "      <td>9</td>\n",
              "      <td>NaN</td>\n",
              "      <td>NaN</td>\n",
              "      <td>Apocalypse lighting. #Spokane #wildfires</td>\n",
              "    </tr>\n",
              "    <tr>\n",
              "      <th>4</th>\n",
              "      <td>11</td>\n",
              "      <td>NaN</td>\n",
              "      <td>NaN</td>\n",
              "      <td>Typhoon Soudelor kills 28 in China and Taiwan</td>\n",
              "    </tr>\n",
              "  </tbody>\n",
              "</table>\n",
              "</div>\n",
              "      <button class=\"colab-df-convert\" onclick=\"convertToInteractive('df-08f26fe4-84d6-41df-b955-3425854c5f36')\"\n",
              "              title=\"Convert this dataframe to an interactive table.\"\n",
              "              style=\"display:none;\">\n",
              "        \n",
              "  <svg xmlns=\"http://www.w3.org/2000/svg\" height=\"24px\"viewBox=\"0 0 24 24\"\n",
              "       width=\"24px\">\n",
              "    <path d=\"M0 0h24v24H0V0z\" fill=\"none\"/>\n",
              "    <path d=\"M18.56 5.44l.94 2.06.94-2.06 2.06-.94-2.06-.94-.94-2.06-.94 2.06-2.06.94zm-11 1L8.5 8.5l.94-2.06 2.06-.94-2.06-.94L8.5 2.5l-.94 2.06-2.06.94zm10 10l.94 2.06.94-2.06 2.06-.94-2.06-.94-.94-2.06-.94 2.06-2.06.94z\"/><path d=\"M17.41 7.96l-1.37-1.37c-.4-.4-.92-.59-1.43-.59-.52 0-1.04.2-1.43.59L10.3 9.45l-7.72 7.72c-.78.78-.78 2.05 0 2.83L4 21.41c.39.39.9.59 1.41.59.51 0 1.02-.2 1.41-.59l7.78-7.78 2.81-2.81c.8-.78.8-2.07 0-2.86zM5.41 20L4 18.59l7.72-7.72 1.47 1.35L5.41 20z\"/>\n",
              "  </svg>\n",
              "      </button>\n",
              "      \n",
              "  <style>\n",
              "    .colab-df-container {\n",
              "      display:flex;\n",
              "      flex-wrap:wrap;\n",
              "      gap: 12px;\n",
              "    }\n",
              "\n",
              "    .colab-df-convert {\n",
              "      background-color: #E8F0FE;\n",
              "      border: none;\n",
              "      border-radius: 50%;\n",
              "      cursor: pointer;\n",
              "      display: none;\n",
              "      fill: #1967D2;\n",
              "      height: 32px;\n",
              "      padding: 0 0 0 0;\n",
              "      width: 32px;\n",
              "    }\n",
              "\n",
              "    .colab-df-convert:hover {\n",
              "      background-color: #E2EBFA;\n",
              "      box-shadow: 0px 1px 2px rgba(60, 64, 67, 0.3), 0px 1px 3px 1px rgba(60, 64, 67, 0.15);\n",
              "      fill: #174EA6;\n",
              "    }\n",
              "\n",
              "    [theme=dark] .colab-df-convert {\n",
              "      background-color: #3B4455;\n",
              "      fill: #D2E3FC;\n",
              "    }\n",
              "\n",
              "    [theme=dark] .colab-df-convert:hover {\n",
              "      background-color: #434B5C;\n",
              "      box-shadow: 0px 1px 3px 1px rgba(0, 0, 0, 0.15);\n",
              "      filter: drop-shadow(0px 1px 2px rgba(0, 0, 0, 0.3));\n",
              "      fill: #FFFFFF;\n",
              "    }\n",
              "  </style>\n",
              "\n",
              "      <script>\n",
              "        const buttonEl =\n",
              "          document.querySelector('#df-08f26fe4-84d6-41df-b955-3425854c5f36 button.colab-df-convert');\n",
              "        buttonEl.style.display =\n",
              "          google.colab.kernel.accessAllowed ? 'block' : 'none';\n",
              "\n",
              "        async function convertToInteractive(key) {\n",
              "          const element = document.querySelector('#df-08f26fe4-84d6-41df-b955-3425854c5f36');\n",
              "          const dataTable =\n",
              "            await google.colab.kernel.invokeFunction('convertToInteractive',\n",
              "                                                     [key], {});\n",
              "          if (!dataTable) return;\n",
              "\n",
              "          const docLinkHtml = 'Like what you see? Visit the ' +\n",
              "            '<a target=\"_blank\" href=https://colab.research.google.com/notebooks/data_table.ipynb>data table notebook</a>'\n",
              "            + ' to learn more about interactive tables.';\n",
              "          element.innerHTML = '';\n",
              "          dataTable['output_type'] = 'display_data';\n",
              "          await google.colab.output.renderOutput(dataTable, element);\n",
              "          const docLink = document.createElement('div');\n",
              "          docLink.innerHTML = docLinkHtml;\n",
              "          element.appendChild(docLink);\n",
              "        }\n",
              "      </script>\n",
              "    </div>\n",
              "  </div>\n",
              "  "
            ]
          },
          "metadata": {},
          "execution_count": 10
        }
      ]
    },
    {
      "cell_type": "code",
      "source": [
        "train_df[\"target\"].value_counts()"
      ],
      "metadata": {
        "colab": {
          "base_uri": "https://localhost:8080/"
        },
        "id": "qgqfHLlZcwoe",
        "outputId": "5e9d166e-d93a-4c1f-f93e-3e90fcb7334a"
      },
      "execution_count": null,
      "outputs": [
        {
          "output_type": "execute_result",
          "data": {
            "text/plain": [
              "0    4342\n",
              "1    3271\n",
              "Name: target, dtype: int64"
            ]
          },
          "metadata": {},
          "execution_count": 11
        }
      ]
    },
    {
      "cell_type": "code",
      "source": [
        "# if the datasets is  imbalanced then vist - https://www.tensorflow.org/tutorials/structured_data/imbalanced_data"
      ],
      "metadata": {
        "id": "ZO2-n9uBcz4R"
      },
      "execution_count": null,
      "outputs": []
    },
    {
      "cell_type": "code",
      "source": [
        "# Visualize som random training examples\n",
        "import random\n",
        "\n",
        "random_index = random.randint(0, len(train_df)-5)\n",
        "for row in train_data_shuffled[[\"text\", \"target\"]][random_index:random_index+5].itertuples():\n",
        "  _ , text, target = row\n",
        "  print(f\"Index: {random_index}, Target: {target}\", \"real disaster\" if target>0 else \"not real disaster\")\n",
        "  print(f\"Text :\\n{text}\\n\")\n",
        "  print(\"-----\\n\")"
      ],
      "metadata": {
        "colab": {
          "base_uri": "https://localhost:8080/"
        },
        "id": "3nLs4jNsdwfX",
        "outputId": "86e4db0e-29a1-45c1-b07c-578c96d573de"
      },
      "execution_count": null,
      "outputs": [
        {
          "output_type": "stream",
          "name": "stdout",
          "text": [
            "Index: 1081, Target: 0 not real disaster\n",
            "Text :\n",
            "@rokiieee_ the game has officially collapsed\n",
            "\n",
            "-----\n",
            "\n",
            "Index: 1081, Target: 1 real disaster\n",
            "Text :\n",
            "Zotar(50 skeleton alchemist) was electrocuted to death by Atamathon the Giant Golem on Golem Graveyard 1.\n",
            "http://t.co/GpwrC1KZ5i\n",
            "\n",
            "-----\n",
            "\n",
            "Index: 1081, Target: 1 real disaster\n",
            "Text :\n",
            "Watch This Airport Get Swallowed Up By A Sandstorm In Under A Minute http://t.co/Z2Ph0ArzYI\n",
            "\n",
            "-----\n",
            "\n",
            "Index: 1081, Target: 0 not real disaster\n",
            "Text :\n",
            "Some days I drown in my tears but I don't let it get me down\n",
            "\n",
            "-----\n",
            "\n",
            "Index: 1081, Target: 1 real disaster\n",
            "Text :\n",
            "So all the store's fire alarms went off today at work and we had to evacuate. I was like 'OMG!! I.S.I.S. ITS HAPPENING!!!!'\n",
            "\n",
            "-----\n",
            "\n"
          ]
        }
      ]
    },
    {
      "cell_type": "code",
      "source": [
        "'''\n",
        "random_split = random.randint(0, len(test_df))\n",
        "validation_df = test_df[random_split:random_split+10]\n",
        "validation_df.head()\n",
        "'''"
      ],
      "metadata": {
        "colab": {
          "base_uri": "https://localhost:8080/",
          "height": 53
        },
        "id": "1LgW9qhjhZ8A",
        "outputId": "2c7f7f0d-40cc-4e58-bef5-fa12753ee07b"
      },
      "execution_count": null,
      "outputs": [
        {
          "output_type": "execute_result",
          "data": {
            "text/plain": [
              "'\\nrandom_split = random.randint(0, len(test_df))\\nvalidation_df = test_df[random_split:random_split+10]\\nvalidation_df.head()\\n'"
            ],
            "application/vnd.google.colaboratory.intrinsic+json": {
              "type": "string"
            }
          },
          "metadata": {},
          "execution_count": 14
        }
      ]
    },
    {
      "cell_type": "code",
      "source": [
        "train_textto_numpy = train_data_shuffled[\"text\"].to_numpy()\n",
        "train_textto_numpy[0]"
      ],
      "metadata": {
        "colab": {
          "base_uri": "https://localhost:8080/",
          "height": 35
        },
        "id": "-clU7T3bkrjG",
        "outputId": "324ab3d6-3879-4e8d-c980-2786c526f6fd"
      },
      "execution_count": null,
      "outputs": [
        {
          "output_type": "execute_result",
          "data": {
            "text/plain": [
              "'So you have a new weapon that can cause un-imaginable destruction.'"
            ],
            "application/vnd.google.colaboratory.intrinsic+json": {
              "type": "string"
            }
          },
          "metadata": {},
          "execution_count": 15
        }
      ]
    },
    {
      "cell_type": "markdown",
      "source": [
        "## Split data into training and validation sets\n"
      ],
      "metadata": {
        "id": "1cFIhegOj4_X"
      }
    },
    {
      "cell_type": "code",
      "source": [
        "from sklearn.model_selection import train_test_split"
      ],
      "metadata": {
        "id": "7YnGpOGjjJyc"
      },
      "execution_count": null,
      "outputs": []
    },
    {
      "cell_type": "code",
      "source": [
        "# Using train_test_split to split training data into training and validation sets\n",
        "train_sentences, val_sentences, train_labels, val_labels = train_test_split(train_data_shuffled[\"text\"].to_numpy(),\n",
        "                                                                            train_data_shuffled[\"target\"].to_numpy(),\n",
        "                                                                            test_size=0.1,\n",
        "                                                                            random_state=42)"
      ],
      "metadata": {
        "id": "C8k64mg3kC4X"
      },
      "execution_count": null,
      "outputs": []
    },
    {
      "cell_type": "code",
      "source": [
        "len(train_sentences), len(val_sentences) , len(train_labels), len(val_labels)"
      ],
      "metadata": {
        "colab": {
          "base_uri": "https://localhost:8080/"
        },
        "id": "OObZvJPVlo2a",
        "outputId": "04d7a8c7-701f-499a-9c9e-1f554d15958d"
      },
      "execution_count": null,
      "outputs": [
        {
          "output_type": "execute_result",
          "data": {
            "text/plain": [
              "(6851, 762, 6851, 762)"
            ]
          },
          "metadata": {},
          "execution_count": 18
        }
      ]
    },
    {
      "cell_type": "code",
      "source": [
        "train_sentences[0:10], train_labels[0:10]"
      ],
      "metadata": {
        "colab": {
          "base_uri": "https://localhost:8080/"
        },
        "id": "jdFT2WismFoR",
        "outputId": "4b396d5e-f4e6-4acf-aaff-663a4e5eee7d"
      },
      "execution_count": null,
      "outputs": [
        {
          "output_type": "execute_result",
          "data": {
            "text/plain": [
              "(array(['@mogacola @zamtriossu i screamed after hitting tweet',\n",
              "        'Imagine getting flattened by Kurt Zouma',\n",
              "        '@Gurmeetramrahim #MSGDoing111WelfareWorks Green S welfare force ke appx 65000 members har time disaster victim ki help ke liye tyar hai....',\n",
              "        \"@shakjn @C7 @Magnums im shaking in fear he's gonna hack the planet\",\n",
              "        'Somehow find you and I collide http://t.co/Ee8RpOahPk',\n",
              "        '@EvaHanderek @MarleyKnysh great times until the bus driver held us hostage in the mall parking lot lmfao',\n",
              "        'destroy the free fandom honestly',\n",
              "        'Weapons stolen from National Guard Armory in New Albany still missing #Gunsense http://t.co/lKNU8902JE',\n",
              "        '@wfaaweather Pete when will the heat wave pass? Is it really going to be mid month? Frisco Boy Scouts have a canoe trip in Okla.',\n",
              "        'Patient-reported outcomes in long-term survivors of metastatic colorectal cancer - British Journal of Surgery http://t.co/5Yl4DC1Tqt'],\n",
              "       dtype=object),\n",
              " array([0, 0, 1, 0, 0, 1, 1, 0, 1, 1]))"
            ]
          },
          "metadata": {},
          "execution_count": 19
        }
      ]
    },
    {
      "cell_type": "markdown",
      "source": [
        "# Converting text into numbers\n",
        "##### Tokenization - Direct mapping from word to token\n",
        "##### Embedding - Create a matrix of feature vector for each token"
      ],
      "metadata": {
        "id": "M4OertaAm6CA"
      }
    },
    {
      "cell_type": "markdown",
      "source": [
        " ### Text vectorization(tokenization)"
      ],
      "metadata": {
        "id": "YL7MCQUKqMC1"
      }
    },
    {
      "cell_type": "code",
      "source": [
        "import tensorflow as tf\n",
        "from tensorflow.keras.layers import TextVectorization\n",
        "\n",
        "text_vectorizer = TextVectorization(max_tokens=None, # how many words in vocabulary\n",
        "                                    standardize=\"lower_and_strip_punctuation\",\n",
        "                                    split = \"whitespace\",\n",
        "                                    ngrams=None, # Create group of n words\n",
        "                                    output_mode=\"int\", # How long do you want your sequences to be?\n",
        "                                    output_sequence_length=None)\n",
        "                                    #pad_to_max_tokens=True)"
      ],
      "metadata": {
        "id": "Z1TsNWxSwYN9"
      },
      "execution_count": null,
      "outputs": []
    },
    {
      "cell_type": "code",
      "source": [
        "# The average number of tokens(words) in training tweets\n",
        "round(sum(len(i.split()) for i in train_sentences)/len(train_sentences))"
      ],
      "metadata": {
        "id": "j5ApxJYSJiq0",
        "outputId": "2d5a01de-4e79-4f90-afe4-651796854964",
        "colab": {
          "base_uri": "https://localhost:8080/"
        }
      },
      "execution_count": null,
      "outputs": [
        {
          "output_type": "execute_result",
          "data": {
            "text/plain": [
              "15"
            ]
          },
          "metadata": {},
          "execution_count": 21
        }
      ]
    },
    {
      "cell_type": "code",
      "source": [
        "# Setup text vectorization variables\n",
        "max_vocab_length = 10000 # Max number of words to have in our vocabulary\n",
        "max_length = 15 # max length of our sequence,i.e, how many words from tweet our model is going to see\n",
        "\n",
        "text_vectorizer = TextVectorization(max_tokens=max_vocab_length,\n",
        "                                    output_mode=\"int\",\n",
        "                                    output_sequence_length=max_length)"
      ],
      "metadata": {
        "id": "OP7VkXeVLOrt"
      },
      "execution_count": null,
      "outputs": []
    },
    {
      "cell_type": "code",
      "source": [
        "#Fit the text vectorizer to the training text\n",
        "text_vectorizer.adapt(train_sentences)"
      ],
      "metadata": {
        "id": "7jl1c2ELN5fg"
      },
      "execution_count": null,
      "outputs": []
    },
    {
      "cell_type": "code",
      "source": [
        "# Create a sample sentence and tokenize it\n",
        "sample_sentence = \"There's a flood in my street!\"\n",
        "text_vectorizer(sample_sentence)"
      ],
      "metadata": {
        "id": "nmyl7q2bPl3u",
        "outputId": "a59d2579-0043-4c2e-8a95-dd3380ff495b",
        "colab": {
          "base_uri": "https://localhost:8080/"
        }
      },
      "execution_count": null,
      "outputs": [
        {
          "output_type": "execute_result",
          "data": {
            "text/plain": [
              "<tf.Tensor: shape=(15,), dtype=int64, numpy=\n",
              "array([264,   3, 232,   4,  13, 698,   0,   0,   0,   0,   0,   0,   0,\n",
              "         0,   0])>"
            ]
          },
          "metadata": {},
          "execution_count": 24
        }
      ]
    },
    {
      "cell_type": "code",
      "source": [
        "# Choose a random sentence and tokenize it\n",
        "random_sentence = random.choice(train_sentences)\n",
        "print(f\"Original Tweet: {random_sentence}\\\n",
        "    \\n\\n Vectorized version: \")\n",
        "text_vectorizer(random_sentence)"
      ],
      "metadata": {
        "id": "4dzm0ygVQBRD",
        "outputId": "f7351fb7-1372-4f56-bbf6-2bb18ff0a5c4",
        "colab": {
          "base_uri": "https://localhost:8080/"
        }
      },
      "execution_count": null,
      "outputs": [
        {
          "output_type": "stream",
          "name": "stdout",
          "text": [
            "Original Tweet: @CyhiThePrynce bombed on Kanye in that #ElephantInTheRoom ????????    \n",
            "\n",
            " Vectorized version: \n"
          ]
        },
        {
          "output_type": "execute_result",
          "data": {
            "text/plain": [
              "<tf.Tensor: shape=(15,), dtype=int64, numpy=\n",
              "array([   1,  467,   11, 5291,    4,   16,    1,    0,    0,    0,    0,\n",
              "          0,    0,    0,    0])>"
            ]
          },
          "metadata": {},
          "execution_count": 25
        }
      ]
    },
    {
      "cell_type": "code",
      "source": [
        "# Get the unique words in the vocabulary\n",
        "words_in_vocab = text_vectorizer.get_vocabulary()\n",
        "top_5_words = words_in_vocab[:5]\n",
        "bottom_5_words = words_in_vocab[-5:]\n",
        "print(f\"Number of words in vocabulary {len(words_in_vocab)}\") #[UNK] stands for Unknown\n",
        "print(f\"5 most common words: {top_5_words}\")\n",
        "print(f\"5 least common words : {bottom_5_words}\")"
      ],
      "metadata": {
        "id": "BXGQQIXzRBe6",
        "outputId": "eb3d8e64-1d38-40c5-e5b0-a86a8421d2db",
        "colab": {
          "base_uri": "https://localhost:8080/"
        }
      },
      "execution_count": null,
      "outputs": [
        {
          "output_type": "stream",
          "name": "stdout",
          "text": [
            "Number of words in vocabulary 10000\n",
            "5 most common words: ['', '[UNK]', 'the', 'a', 'in']\n",
            "5 least common words : ['pages', 'paeds', 'pads', 'padres', 'paddytomlinson1']\n"
          ]
        }
      ]
    },
    {
      "cell_type": "markdown",
      "source": [
        "### Creating an Embedding using Embedding Layer"
      ],
      "metadata": {
        "id": "CQ8FAcGGSJhZ"
      }
    },
    {
      "cell_type": "code",
      "source": [
        "from tensorflow.keras import layers\n",
        "\n",
        "embedding = layers.Embedding(input_dim=max_vocab_length, #set input shape\n",
        "                             output_dim=128, #output shape\n",
        "                             input_length=max_length #how long is each input\n",
        "                             )\n",
        "embedding"
      ],
      "metadata": {
        "id": "ffvhhJH8VUyY",
        "outputId": "261c19eb-ead9-4366-e27b-487ad90adca7",
        "colab": {
          "base_uri": "https://localhost:8080/"
        }
      },
      "execution_count": null,
      "outputs": [
        {
          "output_type": "execute_result",
          "data": {
            "text/plain": [
              "<keras.layers.core.embedding.Embedding at 0x7fa8e0b89c70>"
            ]
          },
          "metadata": {},
          "execution_count": 27
        }
      ]
    },
    {
      "cell_type": "code",
      "source": [
        "from tensorflow.keras.layers import Embedding\n",
        "emb = Embedding(input_dim=max_vocab_length, #set input shape\n",
        "                             output_dim=128, #output shape\n",
        "                             input_length=max_length #how long is each input\n",
        "                )\n",
        "emb"
      ],
      "metadata": {
        "id": "dTR0pfmmXON2",
        "colab": {
          "base_uri": "https://localhost:8080/"
        },
        "outputId": "583fec74-9fc5-4417-d400-54e491150fd3"
      },
      "execution_count": null,
      "outputs": [
        {
          "output_type": "execute_result",
          "data": {
            "text/plain": [
              "<keras.layers.core.embedding.Embedding at 0x7fa8e0b89c40>"
            ]
          },
          "metadata": {},
          "execution_count": 28
        }
      ]
    },
    {
      "cell_type": "code",
      "source": [
        "# Embed a random sentence\n",
        "random_sentence = random.choice(train_sentences)\n",
        "print(f\"Original Text : {random_sentence}\\\n",
        "      \\n\\n Embeded version\")\n",
        "\n",
        "# Embed the random sentence\n",
        "sample_embed = embedding(text_vectorizer([random_sentence]))\n",
        "sample_embed"
      ],
      "metadata": {
        "id": "PBFJ8BZPXT_P",
        "outputId": "b4346c5a-1b60-4d06-adca-71ce3396a362",
        "colab": {
          "base_uri": "https://localhost:8080/"
        }
      },
      "execution_count": null,
      "outputs": [
        {
          "output_type": "stream",
          "name": "stdout",
          "text": [
            "Original Text : An outbreak of Legionnaires' disease in New York has killed at least 8 people @BI_Video http://t.co/eRJ7YANjXm http://t.co/vbRPeuJANL      \n",
            "\n",
            " Embeded version\n"
          ]
        },
        {
          "output_type": "execute_result",
          "data": {
            "text/plain": [
              "<tf.Tensor: shape=(1, 15, 128), dtype=float32, numpy=\n",
              "array([[[-0.03542218, -0.03462261, -0.00156737, ..., -0.00882065,\n",
              "          0.01677057, -0.01685928],\n",
              "        [-0.00746549, -0.02900834,  0.02002103, ..., -0.03566829,\n",
              "          0.00348318,  0.02508818],\n",
              "        [ 0.01978064, -0.00647718, -0.01091878, ..., -0.04225085,\n",
              "         -0.01320641,  0.01165402],\n",
              "        ...,\n",
              "        [-0.04172343,  0.00633196, -0.04074869, ..., -0.02756672,\n",
              "         -0.03472664,  0.04871697],\n",
              "        [-0.0268633 ,  0.04036028,  0.03898616, ..., -0.02952192,\n",
              "         -0.00646184, -0.03640039],\n",
              "        [ 0.043654  ,  0.0352377 , -0.04618822, ...,  0.03545468,\n",
              "          0.00328263, -0.01302272]]], dtype=float32)>"
            ]
          },
          "metadata": {},
          "execution_count": 29
        }
      ]
    },
    {
      "cell_type": "code",
      "source": [
        "# Check out a single token's embedding\n",
        "sample_embed[0][0], sample_embed[0][0].shape, random_sentence"
      ],
      "metadata": {
        "id": "OQdjZhJlZjfn",
        "outputId": "d1fa3ed5-7af3-4337-a3ee-9a612e37cfe4",
        "colab": {
          "base_uri": "https://localhost:8080/"
        }
      },
      "execution_count": null,
      "outputs": [
        {
          "output_type": "execute_result",
          "data": {
            "text/plain": [
              "(<tf.Tensor: shape=(128,), dtype=float32, numpy=\n",
              " array([-0.03542218, -0.03462261, -0.00156737,  0.00423341, -0.02972605,\n",
              "         0.03941995, -0.02872586, -0.0139688 , -0.00497795, -0.01102481,\n",
              "        -0.0134839 ,  0.02857223,  0.04392047, -0.04044714,  0.0468908 ,\n",
              "        -0.04037581,  0.01575306,  0.04488622,  0.03881967,  0.03356327,\n",
              "        -0.0010975 ,  0.02021177,  0.04191575, -0.02392316,  0.03743449,\n",
              "        -0.02877524,  0.02943693, -0.01900595, -0.01017373, -0.034552  ,\n",
              "        -0.02012582,  0.01973081, -0.04078586,  0.04203817, -0.0283946 ,\n",
              "        -0.04483352, -0.03835955, -0.0003785 , -0.01057373, -0.033438  ,\n",
              "         0.04899334,  0.02109183,  0.0476517 ,  0.01663908,  0.00454519,\n",
              "         0.01044035, -0.01362933,  0.01634299,  0.00751083, -0.03053627,\n",
              "         0.00434837,  0.00848583,  0.04491508, -0.00557381,  0.01246545,\n",
              "        -0.03592055,  0.00583147, -0.0432894 ,  0.03462528,  0.04747151,\n",
              "        -0.01382046,  0.03590599,  0.00938787, -0.04978339, -0.02951744,\n",
              "         0.00450582, -0.01266621, -0.00143015, -0.04034777,  0.01235104,\n",
              "         0.03682543,  0.02303903,  0.0047889 ,  0.02321326,  0.01416664,\n",
              "         0.04923529,  0.02990014, -0.01109059, -0.0227321 , -0.00604308,\n",
              "        -0.00335705,  0.01842952,  0.02977221, -0.00305111,  0.02807521,\n",
              "        -0.01204972,  0.02574373, -0.01725857,  0.0300812 ,  0.04279957,\n",
              "        -0.01225249,  0.01790779, -0.01442555, -0.00335163,  0.04786647,\n",
              "         0.03105335, -0.04694456,  0.04455444, -0.01371403,  0.00782847,\n",
              "         0.00442676,  0.03892012,  0.01945532,  0.01416199, -0.03202536,\n",
              "        -0.01108097, -0.00543899,  0.00695666, -0.04167699,  0.04301227,\n",
              "         0.03312851, -0.02738655, -0.00866332,  0.04872105, -0.03699963,\n",
              "        -0.04902823,  0.04960145, -0.01320996,  0.04490726, -0.00073684,\n",
              "         0.00958834, -0.00704248, -0.03828418, -0.0247756 ,  0.03537684,\n",
              "        -0.00882065,  0.01677057, -0.01685928], dtype=float32)>,\n",
              " TensorShape([128]),\n",
              " \"An outbreak of Legionnaires' disease in New York has killed at least 8 people @BI_Video http://t.co/eRJ7YANjXm http://t.co/vbRPeuJANL\")"
            ]
          },
          "metadata": {},
          "execution_count": 30
        }
      ]
    },
    {
      "cell_type": "markdown",
      "source": [
        "# Modelling a text dataset"
      ],
      "metadata": {
        "id": "xnsHd2W7c4VU"
      }
    },
    {
      "cell_type": "markdown",
      "source": [
        "### Model 0: Getting a baseline model\n",
        "Creating a benchmark model to compare other models that will be built futher.\n",
        "For baseline model, I'll be using Sklearn's Multinomial Naive Bayes using TF-IDF formula to convert our words to numbers."
      ],
      "metadata": {
        "id": "y_YXs4xNOWds"
      }
    },
    {
      "cell_type": "code",
      "source": [
        "from sklearn.feature_extraction.text import TfidfVectorizer\n",
        "from sklearn.naive_bayes import MultinomialNB\n",
        "from sklearn.pipeline import Pipeline\n",
        "\n",
        "model_0 = Pipeline([\n",
        "    (\"tfidf\", TfidfVectorizer()), #convert words to numbers\n",
        "    (\"clf\", MultinomialNB())  # models the text\n",
        "])\n",
        "\n",
        "model_0.fit(train_sentences, train_labels)"
      ],
      "metadata": {
        "colab": {
          "base_uri": "https://localhost:8080/",
          "height": 126
        },
        "id": "WfY8wb0tQACI",
        "outputId": "41235053-3978-46a6-a6a7-242a5a240dd1"
      },
      "execution_count": null,
      "outputs": [
        {
          "output_type": "execute_result",
          "data": {
            "text/plain": [
              "Pipeline(steps=[('tfidf', TfidfVectorizer()), ('clf', MultinomialNB())])"
            ],
            "text/html": [
              "<style>#sk-container-id-1 {color: black;background-color: white;}#sk-container-id-1 pre{padding: 0;}#sk-container-id-1 div.sk-toggleable {background-color: white;}#sk-container-id-1 label.sk-toggleable__label {cursor: pointer;display: block;width: 100%;margin-bottom: 0;padding: 0.3em;box-sizing: border-box;text-align: center;}#sk-container-id-1 label.sk-toggleable__label-arrow:before {content: \"▸\";float: left;margin-right: 0.25em;color: #696969;}#sk-container-id-1 label.sk-toggleable__label-arrow:hover:before {color: black;}#sk-container-id-1 div.sk-estimator:hover label.sk-toggleable__label-arrow:before {color: black;}#sk-container-id-1 div.sk-toggleable__content {max-height: 0;max-width: 0;overflow: hidden;text-align: left;background-color: #f0f8ff;}#sk-container-id-1 div.sk-toggleable__content pre {margin: 0.2em;color: black;border-radius: 0.25em;background-color: #f0f8ff;}#sk-container-id-1 input.sk-toggleable__control:checked~div.sk-toggleable__content {max-height: 200px;max-width: 100%;overflow: auto;}#sk-container-id-1 input.sk-toggleable__control:checked~label.sk-toggleable__label-arrow:before {content: \"▾\";}#sk-container-id-1 div.sk-estimator input.sk-toggleable__control:checked~label.sk-toggleable__label {background-color: #d4ebff;}#sk-container-id-1 div.sk-label input.sk-toggleable__control:checked~label.sk-toggleable__label {background-color: #d4ebff;}#sk-container-id-1 input.sk-hidden--visually {border: 0;clip: rect(1px 1px 1px 1px);clip: rect(1px, 1px, 1px, 1px);height: 1px;margin: -1px;overflow: hidden;padding: 0;position: absolute;width: 1px;}#sk-container-id-1 div.sk-estimator {font-family: monospace;background-color: #f0f8ff;border: 1px dotted black;border-radius: 0.25em;box-sizing: border-box;margin-bottom: 0.5em;}#sk-container-id-1 div.sk-estimator:hover {background-color: #d4ebff;}#sk-container-id-1 div.sk-parallel-item::after {content: \"\";width: 100%;border-bottom: 1px solid gray;flex-grow: 1;}#sk-container-id-1 div.sk-label:hover label.sk-toggleable__label {background-color: #d4ebff;}#sk-container-id-1 div.sk-serial::before {content: \"\";position: absolute;border-left: 1px solid gray;box-sizing: border-box;top: 0;bottom: 0;left: 50%;z-index: 0;}#sk-container-id-1 div.sk-serial {display: flex;flex-direction: column;align-items: center;background-color: white;padding-right: 0.2em;padding-left: 0.2em;position: relative;}#sk-container-id-1 div.sk-item {position: relative;z-index: 1;}#sk-container-id-1 div.sk-parallel {display: flex;align-items: stretch;justify-content: center;background-color: white;position: relative;}#sk-container-id-1 div.sk-item::before, #sk-container-id-1 div.sk-parallel-item::before {content: \"\";position: absolute;border-left: 1px solid gray;box-sizing: border-box;top: 0;bottom: 0;left: 50%;z-index: -1;}#sk-container-id-1 div.sk-parallel-item {display: flex;flex-direction: column;z-index: 1;position: relative;background-color: white;}#sk-container-id-1 div.sk-parallel-item:first-child::after {align-self: flex-end;width: 50%;}#sk-container-id-1 div.sk-parallel-item:last-child::after {align-self: flex-start;width: 50%;}#sk-container-id-1 div.sk-parallel-item:only-child::after {width: 0;}#sk-container-id-1 div.sk-dashed-wrapped {border: 1px dashed gray;margin: 0 0.4em 0.5em 0.4em;box-sizing: border-box;padding-bottom: 0.4em;background-color: white;}#sk-container-id-1 div.sk-label label {font-family: monospace;font-weight: bold;display: inline-block;line-height: 1.2em;}#sk-container-id-1 div.sk-label-container {text-align: center;}#sk-container-id-1 div.sk-container {/* jupyter's `normalize.less` sets `[hidden] { display: none; }` but bootstrap.min.css set `[hidden] { display: none !important; }` so we also need the `!important` here to be able to override the default hidden behavior on the sphinx rendered scikit-learn.org. See: https://github.com/scikit-learn/scikit-learn/issues/21755 */display: inline-block !important;position: relative;}#sk-container-id-1 div.sk-text-repr-fallback {display: none;}</style><div id=\"sk-container-id-1\" class=\"sk-top-container\"><div class=\"sk-text-repr-fallback\"><pre>Pipeline(steps=[(&#x27;tfidf&#x27;, TfidfVectorizer()), (&#x27;clf&#x27;, MultinomialNB())])</pre><b>In a Jupyter environment, please rerun this cell to show the HTML representation or trust the notebook. <br />On GitHub, the HTML representation is unable to render, please try loading this page with nbviewer.org.</b></div><div class=\"sk-container\" hidden><div class=\"sk-item sk-dashed-wrapped\"><div class=\"sk-label-container\"><div class=\"sk-label sk-toggleable\"><input class=\"sk-toggleable__control sk-hidden--visually\" id=\"sk-estimator-id-1\" type=\"checkbox\" ><label for=\"sk-estimator-id-1\" class=\"sk-toggleable__label sk-toggleable__label-arrow\">Pipeline</label><div class=\"sk-toggleable__content\"><pre>Pipeline(steps=[(&#x27;tfidf&#x27;, TfidfVectorizer()), (&#x27;clf&#x27;, MultinomialNB())])</pre></div></div></div><div class=\"sk-serial\"><div class=\"sk-item\"><div class=\"sk-estimator sk-toggleable\"><input class=\"sk-toggleable__control sk-hidden--visually\" id=\"sk-estimator-id-2\" type=\"checkbox\" ><label for=\"sk-estimator-id-2\" class=\"sk-toggleable__label sk-toggleable__label-arrow\">TfidfVectorizer</label><div class=\"sk-toggleable__content\"><pre>TfidfVectorizer()</pre></div></div></div><div class=\"sk-item\"><div class=\"sk-estimator sk-toggleable\"><input class=\"sk-toggleable__control sk-hidden--visually\" id=\"sk-estimator-id-3\" type=\"checkbox\" ><label for=\"sk-estimator-id-3\" class=\"sk-toggleable__label sk-toggleable__label-arrow\">MultinomialNB</label><div class=\"sk-toggleable__content\"><pre>MultinomialNB()</pre></div></div></div></div></div></div></div>"
            ]
          },
          "metadata": {},
          "execution_count": 31
        }
      ]
    },
    {
      "cell_type": "code",
      "source": [
        "baseline_score = model_0.score(val_sentences, val_labels)"
      ],
      "metadata": {
        "id": "WFWipICDR_Xx"
      },
      "execution_count": null,
      "outputs": []
    },
    {
      "cell_type": "code",
      "source": [
        "baseline_preds = model_0.predict(val_sentences)\n",
        "print(val_sentences[:3])\n",
        "baseline_preds[:20]"
      ],
      "metadata": {
        "colab": {
          "base_uri": "https://localhost:8080/"
        },
        "id": "9i6QKZyqSZ4V",
        "outputId": "6c4df115-1acb-448a-ce83-2c01cd084f22"
      },
      "execution_count": null,
      "outputs": [
        {
          "output_type": "stream",
          "name": "stdout",
          "text": [
            "['DFR EP016 Monthly Meltdown - On Dnbheaven 2015.08.06 http://t.co/EjKRf8N8A8 #Drum and Bass #heavy #nasty http://t.co/SPHWE6wFI5'\n",
            " 'FedEx no longer to transport bioterror germs in wake of anthrax lab mishaps http://t.co/qZQc8WWwcN via @usatoday'\n",
            " 'Gunmen kill four in El Salvador bus attack: Suspected Salvadoran gang members killed four people and wounded s... http://t.co/CNtwB6ScZj']\n"
          ]
        },
        {
          "output_type": "execute_result",
          "data": {
            "text/plain": [
              "array([1, 1, 1, 0, 0, 1, 1, 1, 1, 0, 0, 1, 0, 0, 0, 0, 0, 0, 0, 1])"
            ]
          },
          "metadata": {},
          "execution_count": 33
        }
      ]
    },
    {
      "cell_type": "code",
      "source": [
        "val_sentences[:3]"
      ],
      "metadata": {
        "colab": {
          "base_uri": "https://localhost:8080/"
        },
        "id": "2zk2pfNyS69X",
        "outputId": "98e4afd3-c133-4a4f-a00d-855f2ac1be98"
      },
      "execution_count": null,
      "outputs": [
        {
          "output_type": "execute_result",
          "data": {
            "text/plain": [
              "array(['DFR EP016 Monthly Meltdown - On Dnbheaven 2015.08.06 http://t.co/EjKRf8N8A8 #Drum and Bass #heavy #nasty http://t.co/SPHWE6wFI5',\n",
              "       'FedEx no longer to transport bioterror germs in wake of anthrax lab mishaps http://t.co/qZQc8WWwcN via @usatoday',\n",
              "       'Gunmen kill four in El Salvador bus attack: Suspected Salvadoran gang members killed four people and wounded s... http://t.co/CNtwB6ScZj'],\n",
              "      dtype=object)"
            ]
          },
          "metadata": {},
          "execution_count": 34
        }
      ]
    },
    {
      "cell_type": "code",
      "source": [
        "val_labels[:10]"
      ],
      "metadata": {
        "colab": {
          "base_uri": "https://localhost:8080/"
        },
        "id": "iMuSDXVZYGPa",
        "outputId": "36c6c8fa-f383-45ac-fca8-479ad7cfce56"
      },
      "execution_count": null,
      "outputs": [
        {
          "output_type": "execute_result",
          "data": {
            "text/plain": [
              "array([0, 0, 1, 1, 1, 1, 1, 1, 1, 0])"
            ]
          },
          "metadata": {},
          "execution_count": 35
        }
      ]
    },
    {
      "cell_type": "code",
      "source": [
        "from sklearn.metrics import accuracy_score\n",
        "from sklearn.metrics import precision_score\n",
        "from sklearn.metrics import recall_score\n",
        "from sklearn.metrics import f1_score\n",
        "from sklearn.metrics import confusion_matrix\n",
        "def calculate_results(y_true, y_preds):\n",
        "  model_accuracy = accuracy_score(y_true, y_preds)*100\n",
        "  model_precision = precision_score(y_true, y_preds)\n",
        "  model_recall  = recall_score(y_true, y_preds)\n",
        "  model_f1score = f1_score(y_true, y_preds, average=\"weighted\")\n",
        "  model_results = {\"accuracy\":model_accuracy,\n",
        "                   \"Precision\": model_precision,\n",
        "                   \"Recall Score\":model_recall,\n",
        "                   \"F1 Score\": model_f1score}\n",
        "  return model_results\n",
        ""
      ],
      "metadata": {
        "id": "_GjEl6XcTEHR"
      },
      "execution_count": null,
      "outputs": []
    },
    {
      "cell_type": "code",
      "source": [
        "baseline_results = calculate_results(val_labels, baseline_preds)\n",
        "baseline_results"
      ],
      "metadata": {
        "colab": {
          "base_uri": "https://localhost:8080/"
        },
        "id": "a1aYnEfjVGXP",
        "outputId": "4da51bf7-e732-416f-9c3d-88ab4381a3c7"
      },
      "execution_count": null,
      "outputs": [
        {
          "output_type": "execute_result",
          "data": {
            "text/plain": [
              "{'accuracy': 79.26509186351706,\n",
              " 'Precision': 0.8861788617886179,\n",
              " 'Recall Score': 0.6264367816091954,\n",
              " 'F1 Score': 0.7862189758049549}"
            ]
          },
          "metadata": {},
          "execution_count": 37
        }
      ]
    },
    {
      "cell_type": "markdown",
      "source": [
        "### Model 1: A simple Dense Model"
      ],
      "metadata": {
        "id": "xgH54zHOYLap"
      }
    },
    {
      "cell_type": "code",
      "source": [
        "# Create a tensorboard callback which will allow us to track our models\n",
        "from helper_functions import create_tensorboard_callback\n",
        "\n",
        "# Save the logs in a directory\n",
        "SAVE_DIR = \"model_logs\""
      ],
      "metadata": {
        "id": "-CC-E4VykGLK"
      },
      "execution_count": null,
      "outputs": []
    },
    {
      "cell_type": "code",
      "source": [
        "# Build model with Functional API\n",
        "from tensorflow.keras import layers\n",
        "\n",
        "inputs = layers.Input(shape=(1,), dtype=tf.string) # inputs are 1- dimensional string\n",
        "x = text_vectorizer(inputs) # Converts our words into tokens\n",
        "x = embedding(x) # creates an embedding of the numberized inputs\n",
        "x = layers.GlobalAveragePooling1D()(x) # Lower the dimensionality of the embedding\n",
        "outputs = layers.Dense(1, activation=\"sigmoid\")(x) # Create the ooutput layer, want binary outputs so use the sigmoid activation function\n",
        "model_1 = tf.keras.Model(inputs,outputs,name=\"model_1_dense\")\n"
      ],
      "metadata": {
        "id": "fU8Bzsyamg6s"
      },
      "execution_count": null,
      "outputs": []
    },
    {
      "cell_type": "code",
      "source": [
        "model_1.summary()\n",
        "# Global Average pooling layer condenses model's reresentation form 15 vectors of 128 (in embeding layer) to single layer of 128 in pooling layer ---See below summary"
      ],
      "metadata": {
        "colab": {
          "base_uri": "https://localhost:8080/"
        },
        "id": "F0TDhGU6oUXB",
        "outputId": "4e7fdba5-21d8-45ad-cbc1-396f5ea35a66"
      },
      "execution_count": null,
      "outputs": [
        {
          "output_type": "stream",
          "name": "stdout",
          "text": [
            "Model: \"model_1_dense\"\n",
            "_________________________________________________________________\n",
            " Layer (type)                Output Shape              Param #   \n",
            "=================================================================\n",
            " input_1 (InputLayer)        [(None, 1)]               0         \n",
            "                                                                 \n",
            " text_vectorization_1 (TextV  (None, 15)               0         \n",
            " ectorization)                                                   \n",
            "                                                                 \n",
            " embedding (Embedding)       (None, 15, 128)           1280000   \n",
            "                                                                 \n",
            " global_average_pooling1d (G  (None, 128)              0         \n",
            " lobalAveragePooling1D)                                          \n",
            "                                                                 \n",
            " dense (Dense)               (None, 1)                 129       \n",
            "                                                                 \n",
            "=================================================================\n",
            "Total params: 1,280,129\n",
            "Trainable params: 1,280,129\n",
            "Non-trainable params: 0\n",
            "_________________________________________________________________\n"
          ]
        }
      ]
    },
    {
      "cell_type": "code",
      "source": [
        "model_1.compile(loss=\"binary_crossentropy\",\n",
        "                optimizer = tf.keras.optimizers.Adam(),\n",
        "                metrics=[\"accuracy\"])"
      ],
      "metadata": {
        "id": "X5GEZxkYoWwp"
      },
      "execution_count": null,
      "outputs": []
    },
    {
      "cell_type": "code",
      "source": [
        "model_1_history = model_1.fit(train_sentences,\n",
        "                              train_labels,\n",
        "                              epochs=5,\n",
        "                              validation_data=(val_sentences, val_labels),\n",
        "                              callbacks = [create_tensorboard_callback(dir_name=SAVE_DIR,\n",
        "                                                                       experiment_name=\"model_1_dense\")])"
      ],
      "metadata": {
        "colab": {
          "base_uri": "https://localhost:8080/"
        },
        "id": "U1ZLC3UxpA4v",
        "outputId": "9ba425aa-46ca-44f7-b20c-8243440cfa59"
      },
      "execution_count": null,
      "outputs": [
        {
          "output_type": "stream",
          "name": "stdout",
          "text": [
            "Saving TensorBoard log files to: model_logs/model_1_dense/20230414-033936\n",
            "Epoch 1/5\n",
            "215/215 [==============================] - 20s 69ms/step - loss: 0.6111 - accuracy: 0.6926 - val_loss: 0.5331 - val_accuracy: 0.7651\n",
            "Epoch 2/5\n",
            "215/215 [==============================] - 4s 20ms/step - loss: 0.4408 - accuracy: 0.8208 - val_loss: 0.4700 - val_accuracy: 0.7874\n",
            "Epoch 3/5\n",
            "215/215 [==============================] - 3s 12ms/step - loss: 0.3463 - accuracy: 0.8593 - val_loss: 0.4589 - val_accuracy: 0.7927\n",
            "Epoch 4/5\n",
            "215/215 [==============================] - 2s 8ms/step - loss: 0.2833 - accuracy: 0.8926 - val_loss: 0.4640 - val_accuracy: 0.7874\n",
            "Epoch 5/5\n",
            "215/215 [==============================] - 1s 6ms/step - loss: 0.2364 - accuracy: 0.9133 - val_loss: 0.4858 - val_accuracy: 0.7835\n"
          ]
        }
      ]
    },
    {
      "cell_type": "code",
      "source": [
        "model_1.evaluate(val_sentences, val_labels)"
      ],
      "metadata": {
        "colab": {
          "base_uri": "https://localhost:8080/"
        },
        "id": "LMDSrKabpoA6",
        "outputId": "9657c0e5-a654-4479-be3d-670dae0eea3b"
      },
      "execution_count": null,
      "outputs": [
        {
          "output_type": "stream",
          "name": "stdout",
          "text": [
            "24/24 [==============================] - 0s 3ms/step - loss: 0.4858 - accuracy: 0.7835\n"
          ]
        },
        {
          "output_type": "execute_result",
          "data": {
            "text/plain": [
              "[0.48577970266342163, 0.7834645509719849]"
            ]
          },
          "metadata": {},
          "execution_count": 43
        }
      ]
    },
    {
      "cell_type": "code",
      "source": [
        "# Make some predictions and evaluate that\n",
        "model_1_preds_probs = model_1.predict(val_sentences)\n",
        "model_1_preds_probs[0], model_1_preds_probs.shape"
      ],
      "metadata": {
        "colab": {
          "base_uri": "https://localhost:8080/"
        },
        "id": "ZTn1dYPDrE8X",
        "outputId": "08d54e4a-9709-4bce-89a7-003daf119cb6"
      },
      "execution_count": null,
      "outputs": [
        {
          "output_type": "stream",
          "name": "stdout",
          "text": [
            "24/24 [==============================] - 0s 2ms/step\n"
          ]
        },
        {
          "output_type": "execute_result",
          "data": {
            "text/plain": [
              "(array([0.2969938], dtype=float32), (762, 1))"
            ]
          },
          "metadata": {},
          "execution_count": 44
        }
      ]
    },
    {
      "cell_type": "code",
      "source": [
        "l = tf.squeeze(model_1_preds_probs)\n",
        "l.shape"
      ],
      "metadata": {
        "colab": {
          "base_uri": "https://localhost:8080/"
        },
        "id": "dboBWFqIuBBA",
        "outputId": "97d8929d-1902-4a5c-b1de-259fd729593e"
      },
      "execution_count": null,
      "outputs": [
        {
          "output_type": "execute_result",
          "data": {
            "text/plain": [
              "TensorShape([762])"
            ]
          },
          "metadata": {},
          "execution_count": 45
        }
      ]
    },
    {
      "cell_type": "code",
      "source": [
        "# Convert model_1 predictions probabilities to label format i.e 0 or 1\n",
        "model_1_preds = tf.cast(tf.squeeze(tf.round(model_1_preds_probs)), dtype =tf.float32)\n",
        "model_1_preds[:10]"
      ],
      "metadata": {
        "colab": {
          "base_uri": "https://localhost:8080/"
        },
        "id": "RoDm8qOfrS3k",
        "outputId": "69cd6c42-38a1-4f92-80a5-ac111011e797"
      },
      "execution_count": null,
      "outputs": [
        {
          "output_type": "execute_result",
          "data": {
            "text/plain": [
              "<tf.Tensor: shape=(10,), dtype=float32, numpy=array([0., 1., 1., 0., 0., 1., 1., 1., 1., 0.], dtype=float32)>"
            ]
          },
          "metadata": {},
          "execution_count": 46
        }
      ]
    },
    {
      "cell_type": "code",
      "source": [
        "# Calculate model_1 results\n",
        "model_1_results = calculate_results(y_true=val_labels, y_preds=model_1_preds)\n",
        "model_1_results"
      ],
      "metadata": {
        "colab": {
          "base_uri": "https://localhost:8080/"
        },
        "id": "UsKlwbPvuf0C",
        "outputId": "b773372a-cf1e-4c68-ab10-d1ec94d2b9ea"
      },
      "execution_count": null,
      "outputs": [
        {
          "output_type": "execute_result",
          "data": {
            "text/plain": [
              "{'accuracy': 78.34645669291339,\n",
              " 'Precision': 0.823321554770318,\n",
              " 'Recall Score': 0.6695402298850575,\n",
              " 'F1 Score': 0.780192419920975}"
            ]
          },
          "metadata": {},
          "execution_count": 47
        }
      ]
    },
    {
      "cell_type": "code",
      "source": [
        "import numpy as np\n",
        "np.array(list(model_1_results.values())) > np.array(list(baseline_results.values()))"
      ],
      "metadata": {
        "colab": {
          "base_uri": "https://localhost:8080/"
        },
        "id": "C8AONXpMu8vI",
        "outputId": "2989f34d-3d73-43da-e80e-39821009e0aa"
      },
      "execution_count": null,
      "outputs": [
        {
          "output_type": "execute_result",
          "data": {
            "text/plain": [
              "array([False, False,  True, False])"
            ]
          },
          "metadata": {},
          "execution_count": 48
        }
      ]
    },
    {
      "cell_type": "markdown",
      "source": [
        "## Making prediction on sample sentence"
      ],
      "metadata": {
        "id": "yQBqCATD2UYZ"
      }
    },
    {
      "cell_type": "code",
      "source": [
        "sample_sen = \"Earthquake of magnitude \"\n",
        "z = [sample_sen]\n",
        "z"
      ],
      "metadata": {
        "colab": {
          "base_uri": "https://localhost:8080/"
        },
        "id": "sz_-v5IkvlpF",
        "outputId": "686ae114-c2a8-4034-fc61-7f15c7d44c6a"
      },
      "execution_count": null,
      "outputs": [
        {
          "output_type": "execute_result",
          "data": {
            "text/plain": [
              "['Earthquake of magnitude ']"
            ]
          },
          "metadata": {},
          "execution_count": 49
        }
      ]
    },
    {
      "cell_type": "code",
      "source": [
        "predsenprob = model_1.predict([sample_sen])\n",
        "predsenlabel = tf.squeeze(tf.round(predsenprob)).numpy()\n",
        "predsenlabel"
      ],
      "metadata": {
        "colab": {
          "base_uri": "https://localhost:8080/"
        },
        "id": "XEeFL8EHzXQ1",
        "outputId": "6e2c9152-f4b0-42e3-9182-4a0affdca28e"
      },
      "execution_count": null,
      "outputs": [
        {
          "output_type": "stream",
          "name": "stdout",
          "text": [
            "1/1 [==============================] - 0s 32ms/step\n"
          ]
        },
        {
          "output_type": "execute_result",
          "data": {
            "text/plain": [
              "1.0"
            ]
          },
          "metadata": {},
          "execution_count": 50
        }
      ]
    },
    {
      "cell_type": "markdown",
      "source": [
        "# Visualizing learned embeddings"
      ],
      "metadata": {
        "id": "SMFljmc_1l5o"
      }
    },
    {
      "cell_type": "code",
      "source": [
        "words_in_vocab"
      ],
      "metadata": {
        "id": "AA0pwXOm4k4J",
        "colab": {
          "base_uri": "https://localhost:8080/"
        },
        "outputId": "ca4759c8-3be0-4a32-ea6c-031c74074ad4"
      },
      "execution_count": null,
      "outputs": [
        {
          "output_type": "execute_result",
          "data": {
            "text/plain": [
              "['',\n",
              " '[UNK]',\n",
              " 'the',\n",
              " 'a',\n",
              " 'in',\n",
              " 'to',\n",
              " 'of',\n",
              " 'and',\n",
              " 'i',\n",
              " 'is',\n",
              " 'for',\n",
              " 'on',\n",
              " 'you',\n",
              " 'my',\n",
              " 'with',\n",
              " 'it',\n",
              " 'that',\n",
              " 'at',\n",
              " 'by',\n",
              " 'this',\n",
              " 'from',\n",
              " 'be',\n",
              " 'are',\n",
              " 'was',\n",
              " 'have',\n",
              " 'like',\n",
              " 'as',\n",
              " 'up',\n",
              " 'so',\n",
              " 'just',\n",
              " 'but',\n",
              " 'me',\n",
              " 'im',\n",
              " 'your',\n",
              " 'not',\n",
              " 'amp',\n",
              " 'out',\n",
              " 'its',\n",
              " 'will',\n",
              " 'an',\n",
              " 'no',\n",
              " 'has',\n",
              " 'fire',\n",
              " 'after',\n",
              " 'all',\n",
              " 'when',\n",
              " 'we',\n",
              " 'if',\n",
              " 'now',\n",
              " 'via',\n",
              " 'new',\n",
              " 'more',\n",
              " 'get',\n",
              " 'or',\n",
              " 'about',\n",
              " 'what',\n",
              " 'he',\n",
              " 'people',\n",
              " 'news',\n",
              " 'been',\n",
              " 'over',\n",
              " 'one',\n",
              " 'how',\n",
              " 'dont',\n",
              " 'they',\n",
              " 'who',\n",
              " 'into',\n",
              " 'were',\n",
              " 'do',\n",
              " 'us',\n",
              " '2',\n",
              " 'can',\n",
              " 'video',\n",
              " 'emergency',\n",
              " 'there',\n",
              " 'disaster',\n",
              " 'than',\n",
              " 'police',\n",
              " 'would',\n",
              " 'his',\n",
              " 'still',\n",
              " 'her',\n",
              " 'some',\n",
              " 'body',\n",
              " 'storm',\n",
              " 'crash',\n",
              " 'burning',\n",
              " 'suicide',\n",
              " 'back',\n",
              " 'man',\n",
              " 'california',\n",
              " 'why',\n",
              " 'time',\n",
              " 'them',\n",
              " 'had',\n",
              " 'buildings',\n",
              " 'rt',\n",
              " 'first',\n",
              " 'cant',\n",
              " 'see',\n",
              " 'got',\n",
              " 'day',\n",
              " 'off',\n",
              " 'our',\n",
              " 'going',\n",
              " 'nuclear',\n",
              " 'know',\n",
              " 'world',\n",
              " 'bomb',\n",
              " 'fires',\n",
              " 'love',\n",
              " 'killed',\n",
              " 'go',\n",
              " 'attack',\n",
              " 'youtube',\n",
              " 'dead',\n",
              " 'two',\n",
              " 'families',\n",
              " '3',\n",
              " 'train',\n",
              " 'full',\n",
              " 'being',\n",
              " 'war',\n",
              " 'many',\n",
              " 'today',\n",
              " 'think',\n",
              " 'only',\n",
              " 'car',\n",
              " 'accident',\n",
              " 'life',\n",
              " 'hiroshima',\n",
              " 'their',\n",
              " 'say',\n",
              " 'may',\n",
              " 'down',\n",
              " 'watch',\n",
              " 'good',\n",
              " 'could',\n",
              " 'want',\n",
              " 'last',\n",
              " 'here',\n",
              " 'years',\n",
              " 'u',\n",
              " 'then',\n",
              " 'make',\n",
              " 'did',\n",
              " 'wildfire',\n",
              " 'way',\n",
              " 'help',\n",
              " 'best',\n",
              " 'too',\n",
              " 'even',\n",
              " 'because',\n",
              " 'home',\n",
              " 'death',\n",
              " 'collapse',\n",
              " 'bombing',\n",
              " 'mass',\n",
              " 'him',\n",
              " 'black',\n",
              " 'am',\n",
              " 'those',\n",
              " 'need',\n",
              " 'fatal',\n",
              " 'army',\n",
              " 'another',\n",
              " 'work',\n",
              " 'take',\n",
              " 'should',\n",
              " 'really',\n",
              " 'please',\n",
              " 'mh370',\n",
              " 'youre',\n",
              " 'look',\n",
              " 'lol',\n",
              " 'hot',\n",
              " 'pm',\n",
              " 'legionnaires',\n",
              " '4',\n",
              " 'right',\n",
              " '5',\n",
              " 'let',\n",
              " 'city',\n",
              " 'year',\n",
              " 'wreck',\n",
              " 'school',\n",
              " 'northern',\n",
              " 'much',\n",
              " 'forest',\n",
              " 'bomber',\n",
              " 'water',\n",
              " 'she',\n",
              " 'never',\n",
              " 'read',\n",
              " 'latest',\n",
              " 'homes',\n",
              " 'great',\n",
              " 'every',\n",
              " '1',\n",
              " 'live',\n",
              " 'god',\n",
              " 'fear',\n",
              " 'any',\n",
              " '\\x89Û',\n",
              " 'under',\n",
              " 'said',\n",
              " 'old',\n",
              " 'floods',\n",
              " '2015',\n",
              " 'getting',\n",
              " 'atomic',\n",
              " 'while',\n",
              " 'top',\n",
              " 'obama',\n",
              " 'feel',\n",
              " 'thats',\n",
              " 'since',\n",
              " 'near',\n",
              " 'flames',\n",
              " 'ever',\n",
              " 'come',\n",
              " 'where',\n",
              " 'these',\n",
              " 'military',\n",
              " 'japan',\n",
              " 'found',\n",
              " 'content',\n",
              " 'ass',\n",
              " 'without',\n",
              " 'weather',\n",
              " 'most',\n",
              " 'flooding',\n",
              " 'flood',\n",
              " 'damage',\n",
              " 'which',\n",
              " 'shit',\n",
              " 's',\n",
              " 'hope',\n",
              " 'everyone',\n",
              " 'before',\n",
              " 'stop',\n",
              " 'plan',\n",
              " 'malaysia',\n",
              " 'injured',\n",
              " 'hit',\n",
              " 'evacuation',\n",
              " 'during',\n",
              " 'debris',\n",
              " 'cross',\n",
              " 'coming',\n",
              " 'wild',\n",
              " 'well',\n",
              " 'times',\n",
              " 'sinking',\n",
              " 'oil',\n",
              " 'fucking',\n",
              " 'check',\n",
              " 'cause',\n",
              " 'weapons',\n",
              " 'truck',\n",
              " 'food',\n",
              " 'bloody',\n",
              " 'always',\n",
              " 'weapon',\n",
              " 'theres',\n",
              " 'state',\n",
              " 'little',\n",
              " 'injuries',\n",
              " 'free',\n",
              " 'wounded',\n",
              " 'summer',\n",
              " 'smoke',\n",
              " 'severe',\n",
              " 'reddit',\n",
              " 'next',\n",
              " 'movie',\n",
              " 'ive',\n",
              " 'hes',\n",
              " 'fall',\n",
              " 'evacuate',\n",
              " 'confirmed',\n",
              " 'bad',\n",
              " 'again',\n",
              " 'thunderstorm',\n",
              " 'set',\n",
              " 'night',\n",
              " 'natural',\n",
              " 'looks',\n",
              " 'heat',\n",
              " 'face',\n",
              " 'earthquake',\n",
              " 'boy',\n",
              " 'whole',\n",
              " 'until',\n",
              " 'thunder',\n",
              " 'through',\n",
              " 'says',\n",
              " 'panic',\n",
              " 'outbreak',\n",
              " 'made',\n",
              " 'lightning',\n",
              " 'fatalities',\n",
              " 'family',\n",
              " 'explosion',\n",
              " 'end',\n",
              " 'destroy',\n",
              " 'derailment',\n",
              " 'air',\n",
              " 'w',\n",
              " 'terrorist',\n",
              " 'survive',\n",
              " 'screaming',\n",
              " 'saudi',\n",
              " 'refugees',\n",
              " 'rain',\n",
              " 'murder',\n",
              " 'loud',\n",
              " 'liked',\n",
              " 'house',\n",
              " 'gonna',\n",
              " 'failure',\n",
              " 'collided',\n",
              " 'bag',\n",
              " 'attacked',\n",
              " 'ambulance',\n",
              " '70',\n",
              " 'wind',\n",
              " 'services',\n",
              " 'save',\n",
              " 'report',\n",
              " 'migrants',\n",
              " 'head',\n",
              " 'explode',\n",
              " 'charged',\n",
              " 'change',\n",
              " 'big',\n",
              " 'also',\n",
              " 'wrecked',\n",
              " 'warning',\n",
              " 'update',\n",
              " 'run',\n",
              " 'rescuers',\n",
              " 'released',\n",
              " 'photo',\n",
              " 'massacre',\n",
              " 'injury',\n",
              " 'hurricane',\n",
              " 'high',\n",
              " 'hail',\n",
              " 'fuck',\n",
              " 'does',\n",
              " 'destroyed',\n",
              " 'bus',\n",
              " 'blood',\n",
              " '40',\n",
              " '\\x89ÛÒ',\n",
              " 'wreckage',\n",
              " 'violent',\n",
              " 'twister',\n",
              " 'trauma',\n",
              " 'tragedy',\n",
              " 'terrorism',\n",
              " 'survivors',\n",
              " 'survived',\n",
              " 'sinkhole',\n",
              " 'sandstorm',\n",
              " 'road',\n",
              " 'rioting',\n",
              " 'red',\n",
              " 'real',\n",
              " 'put',\n",
              " 'post',\n",
              " 'national',\n",
              " 'missing',\n",
              " 'landslide',\n",
              " 'keep',\n",
              " 'girl',\n",
              " 'drought',\n",
              " 'curfew',\n",
              " 'breaking',\n",
              " 'bags',\n",
              " 'white',\n",
              " 'twitter',\n",
              " 'tonight',\n",
              " 'structural',\n",
              " 'spill',\n",
              " 'service',\n",
              " 'screamed',\n",
              " 'rescued',\n",
              " 'rescue',\n",
              " 'phone',\n",
              " 'ok',\n",
              " 'oh',\n",
              " 'mosque',\n",
              " 'lives',\n",
              " 'horrible',\n",
              " 'harm',\n",
              " 'game',\n",
              " 'dust',\n",
              " 'destruction',\n",
              " 'deluge',\n",
              " 'deaths',\n",
              " 'crashed',\n",
              " 'cliff',\n",
              " 'catastrophe',\n",
              " 'boat',\n",
              " 'away',\n",
              " 'august',\n",
              " 'area',\n",
              " 'apocalypse',\n",
              " 'woman',\n",
              " 'whirlwind',\n",
              " 'traumatised',\n",
              " 'stock',\n",
              " 'saw',\n",
              " 'ruin',\n",
              " 'riot',\n",
              " 'quarantine',\n",
              " 'kills',\n",
              " 'island',\n",
              " 'investigators',\n",
              " 'ill',\n",
              " 'hostages',\n",
              " 'hazard',\n",
              " 'danger',\n",
              " 'call',\n",
              " '15',\n",
              " 'women',\n",
              " 'windstorm',\n",
              " 'things',\n",
              " 'suspect',\n",
              " 'show',\n",
              " 'reunion',\n",
              " 'quarantined',\n",
              " 'lava',\n",
              " 'heart',\n",
              " 'engulfed',\n",
              " 'detonate',\n",
              " 'crush',\n",
              " 'collapsed',\n",
              " 'came',\n",
              " 'better',\n",
              " 'battle',\n",
              " 'armageddon',\n",
              " 'airplane',\n",
              " 'against',\n",
              " 'affected',\n",
              " 'use',\n",
              " 'trapped',\n",
              " 'thank',\n",
              " 'sunk',\n",
              " 'story',\n",
              " 'send',\n",
              " 'part',\n",
              " 'other',\n",
              " 'must',\n",
              " 'mudslide',\n",
              " 'market',\n",
              " 'iran',\n",
              " 'famine',\n",
              " 'exploded',\n",
              " 'electrocuted',\n",
              " 'ebay',\n",
              " 'displaced',\n",
              " 'derailed',\n",
              " 'derail',\n",
              " 'burned',\n",
              " 'bombed',\n",
              " 'blown',\n",
              " 'baby',\n",
              " 'around',\n",
              " 'zone',\n",
              " 'wave',\n",
              " 'wanna',\n",
              " 'sure',\n",
              " 'someone',\n",
              " 'screams',\n",
              " 'razed',\n",
              " 'power',\n",
              " 'obliterated',\n",
              " 'long',\n",
              " 'land',\n",
              " 'hundreds',\n",
              " 'heard',\n",
              " 'group',\n",
              " 'flattened',\n",
              " 'drown',\n",
              " 'doing',\n",
              " 'care',\n",
              " 'bridge',\n",
              " 'bagging',\n",
              " '9',\n",
              " 'went',\n",
              " 'used',\n",
              " 'typhoon',\n",
              " 'trouble',\n",
              " 'tornado',\n",
              " 'thought',\n",
              " 'thing',\n",
              " 'river',\n",
              " 'responders',\n",
              " 'past',\n",
              " 'pandemonium',\n",
              " 'officials',\n",
              " 'meltdown',\n",
              " 'lot',\n",
              " 'least',\n",
              " 'inundated',\n",
              " 'id',\n",
              " 'hostage',\n",
              " 'hijacking',\n",
              " 'hazardous',\n",
              " 'goes',\n",
              " 'drowning',\n",
              " 'didnt',\n",
              " 'devastation',\n",
              " 'demolish',\n",
              " 'collide',\n",
              " 'casualties',\n",
              " 'calgary',\n",
              " 'bang',\n",
              " 'anniversary',\n",
              " 'yet',\n",
              " 'wounds',\n",
              " 'volcano',\n",
              " 'tsunami',\n",
              " 'sue',\n",
              " 'st',\n",
              " 'song',\n",
              " 'something',\n",
              " 'shoulder',\n",
              " 'security',\n",
              " 'prebreak',\n",
              " 'possible',\n",
              " 'pkk',\n",
              " 'panicking',\n",
              " 'obliteration',\n",
              " 'obliterate',\n",
              " 'murderer',\n",
              " 'minute',\n",
              " 'light',\n",
              " 'lets',\n",
              " 'kill',\n",
              " 'isis',\n",
              " 'india',\n",
              " 'hijacker',\n",
              " 'hellfire',\n",
              " 'government',\n",
              " 'few',\n",
              " 'evacuated',\n",
              " 'due',\n",
              " 'detonated',\n",
              " 'desolation',\n",
              " 'crushed',\n",
              " 'chemical',\n",
              " 'blew',\n",
              " 'blazing',\n",
              " 'blast',\n",
              " 'annihilated',\n",
              " 'airport',\n",
              " '6',\n",
              " 'week',\n",
              " 'upheaval',\n",
              " 'trying',\n",
              " 'three',\n",
              " 'thanks',\n",
              " 'sound',\n",
              " 'soon',\n",
              " 'sirens',\n",
              " 'rainstorm',\n",
              " 'plane',\n",
              " 'music',\n",
              " 'making',\n",
              " 'kids',\n",
              " 'issues',\n",
              " 'half',\n",
              " 'guys',\n",
              " 'fedex',\n",
              " 'done',\n",
              " 'died',\n",
              " 'detonation',\n",
              " 'days',\n",
              " 'cyclone',\n",
              " 'county',\n",
              " 'collision',\n",
              " 'caused',\n",
              " 'catastrophic',\n",
              " 'bleeding',\n",
              " 'beautiful',\n",
              " '8',\n",
              " 'words',\n",
              " 'very',\n",
              " 'traffic',\n",
              " 'south',\n",
              " 'remember',\n",
              " 'policy',\n",
              " 'place',\n",
              " 'nothing',\n",
              " 'north',\n",
              " 'mp',\n",
              " 'longer',\n",
              " 'left',\n",
              " 'israeli',\n",
              " 'hell',\n",
              " 'fun',\n",
              " 'drowned',\n",
              " 'demolished',\n",
              " 'cool',\n",
              " 'both',\n",
              " 'bioterror',\n",
              " 'believe',\n",
              " 'avalanche',\n",
              " 'arson',\n",
              " 'turkey',\n",
              " 'snowstorm',\n",
              " 'site',\n",
              " 'shot',\n",
              " 'shooting',\n",
              " 'pic',\n",
              " 'nowplaying',\n",
              " 'media',\n",
              " 'islam',\n",
              " 'inside',\n",
              " 'hijack',\n",
              " 'helicopter',\n",
              " 'fight',\n",
              " 'fatality',\n",
              " 'fan',\n",
              " 'electrocute',\n",
              " 'doesnt',\n",
              " 'building',\n",
              " 'brown',\n",
              " 'bc',\n",
              " 'actually',\n",
              " '16yr',\n",
              " 'yes',\n",
              " 'watching',\n",
              " 'wait',\n",
              " 'ur',\n",
              " 'tell',\n",
              " 'swallowed',\n",
              " 'seismic',\n",
              " 'second',\n",
              " 'rubble',\n",
              " 're\\x89Û',\n",
              " 'plans',\n",
              " 'men',\n",
              " 'memories',\n",
              " 'line',\n",
              " 'la',\n",
              " 'horror',\n",
              " 'health',\n",
              " 'having',\n",
              " 'find',\n",
              " 'eyewitness',\n",
              " 'deluged',\n",
              " 'children',\n",
              " 'bush',\n",
              " 'anything',\n",
              " 'already',\n",
              " 'almost',\n",
              " 'aircraft',\n",
              " 'yourself',\n",
              " 'yeah',\n",
              " 'whats',\n",
              " 'tomorrow',\n",
              " 'such',\n",
              " 'start',\n",
              " 'side',\n",
              " 'searching',\n",
              " 'saved',\n",
              " 'reactor',\n",
              " 'probably',\n",
              " 'play',\n",
              " 'person',\n",
              " 'peace',\n",
              " 'outside',\n",
              " 'officer',\n",
              " 'nearby',\n",
              " 'n',\n",
              " 'maybe',\n",
              " 'lost',\n",
              " 'literally',\n",
              " 'hours',\n",
              " 'hear',\n",
              " 'far',\n",
              " 'die',\n",
              " 'demolition',\n",
              " 'data',\n",
              " 'crews',\n",
              " 'conclusively',\n",
              " 'business',\n",
              " 'american',\n",
              " '20',\n",
              " '\\x89ÛÓ',\n",
              " 'west',\n",
              " 'waves',\n",
              " 'team',\n",
              " 'street',\n",
              " 'stay',\n",
              " 'soudelor',\n",
              " 'reuters',\n",
              " 'manslaughter',\n",
              " 'leather',\n",
              " 'job',\n",
              " 'history',\n",
              " 'hey',\n",
              " 'feeling',\n",
              " 'eyes',\n",
              " 'everything',\n",
              " 'declares',\n",
              " 'deal',\n",
              " 'casualty',\n",
              " 'bodies',\n",
              " 'amid',\n",
              " 'ablaze',\n",
              " '7',\n",
              " '50',\n",
              " '30',\n",
              " '12',\n",
              " 'youth',\n",
              " 'wont',\n",
              " 'wake',\n",
              " 'theyre',\n",
              " 'support',\n",
              " 'stretcher',\n",
              " 'same',\n",
              " 'rise',\n",
              " 'picking',\n",
              " 'photos',\n",
              " 'own',\n",
              " 'others',\n",
              " 'order',\n",
              " 'omg',\n",
              " 'okay',\n",
              " 'name',\n",
              " 'myself',\n",
              " 'money',\n",
              " 'makes',\n",
              " 'leave',\n",
              " 'lab',\n",
              " 'gt',\n",
              " 'gets',\n",
              " 'flag',\n",
              " 'desolate',\n",
              " 'crisis',\n",
              " 'center',\n",
              " 'book',\n",
              " 'blight',\n",
              " 'blaze',\n",
              " 'ago',\n",
              " 'abc',\n",
              " '11yearold',\n",
              " 'womens',\n",
              " 'typhoondevastated',\n",
              " 'tv',\n",
              " 'trench',\n",
              " 'trains',\n",
              " 'texas',\n",
              " 'space',\n",
              " 'siren',\n",
              " 'shes',\n",
              " 'self',\n",
              " 'saipan',\n",
              " 'reason',\n",
              " 'rd',\n",
              " 'pretty',\n",
              " 'pick',\n",
              " 'offensive',\n",
              " 'move',\n",
              " 'meek',\n",
              " 'major',\n",
              " 'm',\n",
              " 'low',\n",
              " 'lord',\n",
              " 'huge',\n",
              " 'hat',\n",
              " 'flash',\n",
              " 'feared',\n",
              " 'fast',\n",
              " 'effect',\n",
              " 'course',\n",
              " 'country',\n",
              " 'control',\n",
              " 'class',\n",
              " 'child',\n",
              " 'chance',\n",
              " 'caught',\n",
              " 'called',\n",
              " 'bioterrorism',\n",
              " 'bestnaijamade',\n",
              " 'become',\n",
              " 'bar',\n",
              " 'banned',\n",
              " 'ball',\n",
              " 'aug',\n",
              " 'annihilation',\n",
              " 'wrong',\n",
              " 'win',\n",
              " 'usa',\n",
              " 'united',\n",
              " 'town',\n",
              " 'totally',\n",
              " 'toddler',\n",
              " 'though',\n",
              " 'temple',\n",
              " 'taken',\n",
              " 'stand',\n",
              " 'spot',\n",
              " 'signs',\n",
              " 'ship',\n",
              " 'pakistan',\n",
              " 'online',\n",
              " 'level',\n",
              " 'ladies',\n",
              " 'jobs',\n",
              " 'isnt',\n",
              " 'happy',\n",
              " 'hailstorm',\n",
              " 'friends',\n",
              " 'disea',\n",
              " 'damn',\n",
              " 'couple',\n",
              " 'case',\n",
              " 'blue',\n",
              " 'bigger',\n",
              " 'america',\n",
              " 'across',\n",
              " '10',\n",
              " 'yours',\n",
              " 'village',\n",
              " 'try',\n",
              " 'transport',\n",
              " 'talk',\n",
              " 'seen',\n",
              " 'russian',\n",
              " 'radio',\n",
              " 'projected',\n",
              " 'once',\n",
              " 'official',\n",
              " 'needs',\n",
              " 'nearly',\n",
              " 'mount',\n",
              " 'might',\n",
              " 'mayhem',\n",
              " 'instead',\n",
              " 'hollywood',\n",
              " 'haha',\n",
              " 'guy',\n",
              " 'gun',\n",
              " 'green',\n",
              " 'front',\n",
              " 'finally',\n",
              " 'favorite',\n",
              " 'experts',\n",
              " 'entire',\n",
              " 'east',\n",
              " 'daily',\n",
              " 'crazy',\n",
              " 'computers',\n",
              " 'coaches',\n",
              " 'christian',\n",
              " 'china',\n",
              " 'blizzard',\n",
              " 'anyone',\n",
              " 'aint',\n",
              " 'action',\n",
              " '25',\n",
              " 'virgin',\n",
              " 'vehicle',\n",
              " 'truth',\n",
              " 'trust',\n",
              " 'takes',\n",
              " 't',\n",
              " 'star',\n",
              " 'sorry',\n",
              " 'running',\n",
              " 'refugio',\n",
              " 'reddits',\n",
              " 'poor',\n",
              " 'pain',\n",
              " 'mom',\n",
              " 'miners',\n",
              " 'marks',\n",
              " 'looking',\n",
              " 'knock',\n",
              " 'issued',\n",
              " 'insurance',\n",
              " 'ignition',\n",
              " 'houses',\n",
              " 'heavy',\n",
              " 'hate',\n",
              " 'hard',\n",
              " 'happened',\n",
              " 'global',\n",
              " 'giant',\n",
              " 'gbbo',\n",
              " 'flight',\n",
              " 'eye',\n",
              " 'emmerdale',\n",
              " 'driver',\n",
              " 'devastated',\n",
              " 'd',\n",
              " 'costlier',\n",
              " 'cnn',\n",
              " 'cars',\n",
              " 'camp',\n",
              " 'beach',\n",
              " 'arsonist',\n",
              " 'angry',\n",
              " 'alone',\n",
              " 'added',\n",
              " '05',\n",
              " 'york',\n",
              " 'wonder',\n",
              " 'uk',\n",
              " 'turn',\n",
              " 'taking',\n",
              " 'subreddits',\n",
              " 'sounds',\n",
              " 'scared',\n",
              " 'russia',\n",
              " 'rly',\n",
              " 'reports',\n",
              " 'ready',\n",
              " 'quiz',\n",
              " 'public',\n",
              " 'property',\n",
              " 'pradesh',\n",
              " 'ppl',\n",
              " 'playing',\n",
              " 'pay',\n",
              " 'parole',\n",
              " 'pamela',\n",
              " 'pakistani',\n",
              " 'outrage',\n",
              " 'niggas',\n",
              " 'nagasaki',\n",
              " 'myanmar',\n",
              " 'muslims',\n",
              " 'mop',\n",
              " 'madhya',\n",
              " 'mad',\n",
              " 'lmao',\n",
              " 'learn',\n",
              " 'large',\n",
              " 'govt',\n",
              " 'give',\n",
              " 'gems',\n",
              " 'gave',\n",
              " 'funtenna',\n",
              " 'fukushima',\n",
              " 'former',\n",
              " 'film',\n",
              " 'earth',\n",
              " 'drive',\n",
              " 'downtown',\n",
              " 'dog',\n",
              " 'comes',\n",
              " 'closed',\n",
              " 'cake',\n",
              " 'british',\n",
              " 'bring',\n",
              " 'bbc',\n",
              " 'b',\n",
              " 'appears',\n",
              " 'aftershock',\n",
              " '13',\n",
              " '11',\n",
              " 'young',\n",
              " 'wow',\n",
              " 'worst',\n",
              " 'waving',\n",
              " 'washington',\n",
              " 'wanted',\n",
              " 'vs',\n",
              " 'view',\n",
              " 'upon',\n",
              " 'tweet',\n",
              " 'tree',\n",
              " 'tote',\n",
              " 'thousands',\n",
              " 'thinking',\n",
              " 'theater',\n",
              " 'soul',\n",
              " 'sky',\n",
              " 'sign',\n",
              " 'shows',\n",
              " 'shift',\n",
              " 'seeing',\n",
              " 'sea',\n",
              " 'scene',\n",
              " 'safety',\n",
              " 'rules',\n",
              " 'rock',\n",
              " 'reported',\n",
              " 'r',\n",
              " 'pray',\n",
              " 'playlist',\n",
              " 'patience',\n",
              " ...]"
            ]
          },
          "metadata": {},
          "execution_count": 51
        }
      ]
    },
    {
      "cell_type": "code",
      "source": [
        "words_in_vocab = text_vectorizer.get_vocabulary()\n",
        "len(words_in_vocab), words_in_vocab[:10]"
      ],
      "metadata": {
        "colab": {
          "base_uri": "https://localhost:8080/"
        },
        "id": "saNTjIxB4tIl",
        "outputId": "63ee305a-3d75-4924-8f1d-906a54b806d6"
      },
      "execution_count": null,
      "outputs": [
        {
          "output_type": "execute_result",
          "data": {
            "text/plain": [
              "(10000, ['', '[UNK]', 'the', 'a', 'in', 'to', 'of', 'and', 'i', 'is'])"
            ]
          },
          "metadata": {},
          "execution_count": 52
        }
      ]
    },
    {
      "cell_type": "code",
      "source": [
        "# Model 1 summary\n",
        "model_1.summary()"
      ],
      "metadata": {
        "colab": {
          "base_uri": "https://localhost:8080/"
        },
        "id": "4OUipyyf6IoY",
        "outputId": "f52c1939-d027-41da-9e8c-b1ecc776e044"
      },
      "execution_count": null,
      "outputs": [
        {
          "output_type": "stream",
          "name": "stdout",
          "text": [
            "Model: \"model_1_dense\"\n",
            "_________________________________________________________________\n",
            " Layer (type)                Output Shape              Param #   \n",
            "=================================================================\n",
            " input_1 (InputLayer)        [(None, 1)]               0         \n",
            "                                                                 \n",
            " text_vectorization_1 (TextV  (None, 15)               0         \n",
            " ectorization)                                                   \n",
            "                                                                 \n",
            " embedding (Embedding)       (None, 15, 128)           1280000   \n",
            "                                                                 \n",
            " global_average_pooling1d (G  (None, 128)              0         \n",
            " lobalAveragePooling1D)                                          \n",
            "                                                                 \n",
            " dense (Dense)               (None, 1)                 129       \n",
            "                                                                 \n",
            "=================================================================\n",
            "Total params: 1,280,129\n",
            "Trainable params: 1,280,129\n",
            "Non-trainable params: 0\n",
            "_________________________________________________________________\n"
          ]
        }
      ]
    },
    {
      "cell_type": "code",
      "source": [
        "# Get the weight matrix of the embedding layer\n",
        "# these are numerical representation of each token in our training data - which have been learned from 5 epochs\n",
        "embed_weights = model_1.get_layer(\"embedding\").get_weights()[0]\n",
        "print(embed_weights.shape) # same size as vocab size and embedding_dim (output_dim of our embedding layer)"
      ],
      "metadata": {
        "colab": {
          "base_uri": "https://localhost:8080/"
        },
        "id": "crg-sth06PZK",
        "outputId": "1e26945d-8519-46b4-93e6-63038c45a07e"
      },
      "execution_count": null,
      "outputs": [
        {
          "output_type": "stream",
          "name": "stdout",
          "text": [
            "(10000, 128)\n"
          ]
        }
      ]
    },
    {
      "cell_type": "code",
      "source": [
        "# Create enbedding files\n",
        "import io\n",
        "out_v = io.open('vectors.tsv', 'w', encoding='utf-8')\n",
        "out_m = io.open('metadata.tsv', 'w', encoding='utf-8')\n",
        "\n",
        "for index, word in enumerate(words_in_vocab):\n",
        "  if index == 0:\n",
        "    continue  # skip 0, it's padding.\n",
        "  vec = embed_weights[index]\n",
        "  out_v.write('\\t'.join([str(x) for x in vec]) + \"\\n\")\n",
        "  out_m.write(word + \"\\n\")\n",
        "out_v.close()\n",
        "out_m.close()"
      ],
      "metadata": {
        "id": "_7Ja2zyf7sBB"
      },
      "execution_count": null,
      "outputs": []
    },
    {
      "cell_type": "code",
      "source": [
        "# Download files from colab to upload to projector\n",
        "try:\n",
        "  from google.colab import files\n",
        "  files.download('vectors.tsv')\n",
        "  files.download('metadata.tsv')\n",
        "except Exception:\n",
        "  pass"
      ],
      "metadata": {
        "colab": {
          "base_uri": "https://localhost:8080/",
          "height": 17
        },
        "id": "IOAEMPqz_la1",
        "outputId": "6407b926-7c6b-419c-f9cc-fb8895552e5b"
      },
      "execution_count": null,
      "outputs": [
        {
          "output_type": "display_data",
          "data": {
            "text/plain": [
              "<IPython.core.display.Javascript object>"
            ],
            "application/javascript": [
              "\n",
              "    async function download(id, filename, size) {\n",
              "      if (!google.colab.kernel.accessAllowed) {\n",
              "        return;\n",
              "      }\n",
              "      const div = document.createElement('div');\n",
              "      const label = document.createElement('label');\n",
              "      label.textContent = `Downloading \"${filename}\": `;\n",
              "      div.appendChild(label);\n",
              "      const progress = document.createElement('progress');\n",
              "      progress.max = size;\n",
              "      div.appendChild(progress);\n",
              "      document.body.appendChild(div);\n",
              "\n",
              "      const buffers = [];\n",
              "      let downloaded = 0;\n",
              "\n",
              "      const channel = await google.colab.kernel.comms.open(id);\n",
              "      // Send a message to notify the kernel that we're ready.\n",
              "      channel.send({})\n",
              "\n",
              "      for await (const message of channel.messages) {\n",
              "        // Send a message to notify the kernel that we're ready.\n",
              "        channel.send({})\n",
              "        if (message.buffers) {\n",
              "          for (const buffer of message.buffers) {\n",
              "            buffers.push(buffer);\n",
              "            downloaded += buffer.byteLength;\n",
              "            progress.value = downloaded;\n",
              "          }\n",
              "        }\n",
              "      }\n",
              "      const blob = new Blob(buffers, {type: 'application/binary'});\n",
              "      const a = document.createElement('a');\n",
              "      a.href = window.URL.createObjectURL(blob);\n",
              "      a.download = filename;\n",
              "      div.appendChild(a);\n",
              "      a.click();\n",
              "      div.remove();\n",
              "    }\n",
              "  "
            ]
          },
          "metadata": {}
        },
        {
          "output_type": "display_data",
          "data": {
            "text/plain": [
              "<IPython.core.display.Javascript object>"
            ],
            "application/javascript": [
              "download(\"download_b0e62728-98f5-4766-be83-eba78d43c2b7\", \"vectors.tsv\", 15385725)"
            ]
          },
          "metadata": {}
        },
        {
          "output_type": "display_data",
          "data": {
            "text/plain": [
              "<IPython.core.display.Javascript object>"
            ],
            "application/javascript": [
              "\n",
              "    async function download(id, filename, size) {\n",
              "      if (!google.colab.kernel.accessAllowed) {\n",
              "        return;\n",
              "      }\n",
              "      const div = document.createElement('div');\n",
              "      const label = document.createElement('label');\n",
              "      label.textContent = `Downloading \"${filename}\": `;\n",
              "      div.appendChild(label);\n",
              "      const progress = document.createElement('progress');\n",
              "      progress.max = size;\n",
              "      div.appendChild(progress);\n",
              "      document.body.appendChild(div);\n",
              "\n",
              "      const buffers = [];\n",
              "      let downloaded = 0;\n",
              "\n",
              "      const channel = await google.colab.kernel.comms.open(id);\n",
              "      // Send a message to notify the kernel that we're ready.\n",
              "      channel.send({})\n",
              "\n",
              "      for await (const message of channel.messages) {\n",
              "        // Send a message to notify the kernel that we're ready.\n",
              "        channel.send({})\n",
              "        if (message.buffers) {\n",
              "          for (const buffer of message.buffers) {\n",
              "            buffers.push(buffer);\n",
              "            downloaded += buffer.byteLength;\n",
              "            progress.value = downloaded;\n",
              "          }\n",
              "        }\n",
              "      }\n",
              "      const blob = new Blob(buffers, {type: 'application/binary'});\n",
              "      const a = document.createElement('a');\n",
              "      a.href = window.URL.createObjectURL(blob);\n",
              "      a.download = filename;\n",
              "      div.appendChild(a);\n",
              "      a.click();\n",
              "      div.remove();\n",
              "    }\n",
              "  "
            ]
          },
          "metadata": {}
        },
        {
          "output_type": "display_data",
          "data": {
            "text/plain": [
              "<IPython.core.display.Javascript object>"
            ],
            "application/javascript": [
              "download(\"download_7ce56821-ca02-4898-9b80-4ff971781f0a\", \"metadata.tsv\", 80388)"
            ]
          },
          "metadata": {}
        }
      ]
    },
    {
      "cell_type": "markdown",
      "source": [
        "## Recurrent Neural Network (RNN's)\n",
        "\n",
        "Sources to study -\n",
        "MIT's sequence modelling lecture -https://youtu.be/ySEx_Bqxvvo\n",
        "Chris Olah's LSTM - https://colah.github.io/posts/2015-08-Understanding-LSTMs/"
      ],
      "metadata": {
        "id": "QeXwdHvtE-fv"
      }
    },
    {
      "cell_type": "markdown",
      "source": [
        "### Model 2 : LSTM\n",
        "LSTM = long short term memory"
      ],
      "metadata": {
        "id": "lh7GLZqkHi9g"
      }
    },
    {
      "cell_type": "code",
      "source": [
        "# Creating LSTM model\n",
        "from tensorflow.keras import layers\n",
        "inputs = layers.Input(shape=(1,), dtype=\"string\")\n",
        "x = text_vectorizer(inputs)\n",
        "x = embedding(x)\n",
        "# print(x.shape)\n",
        "# x = layers.LSTM(64, return_sequences=True)(x) # when stacking RNN cells together, need to set return_sequences=True\n",
        "# print(x.shape)\n",
        "x = layers.LSTM(64)(x)\n",
        "# print(x.shape)\n",
        "x = layers.Dense(64, activation=\"relu\")(x)\n",
        "outputs = layers.Dense(1, activation=\"sigmoid\")(x)\n",
        "model_2 = tf.keras.Model(inputs, outputs, name=\"model_2_LSTM\")\n"
      ],
      "metadata": {
        "id": "evoIHB0mKBOm"
      },
      "execution_count": null,
      "outputs": []
    },
    {
      "cell_type": "code",
      "source": [
        "model_2.summary()"
      ],
      "metadata": {
        "colab": {
          "base_uri": "https://localhost:8080/"
        },
        "id": "zMg6y4mxOvdf",
        "outputId": "6e04df54-4e44-4796-e8ff-39ffda88bace"
      },
      "execution_count": null,
      "outputs": [
        {
          "output_type": "stream",
          "name": "stdout",
          "text": [
            "Model: \"model_2_LSTM\"\n",
            "_________________________________________________________________\n",
            " Layer (type)                Output Shape              Param #   \n",
            "=================================================================\n",
            " input_2 (InputLayer)        [(None, 1)]               0         \n",
            "                                                                 \n",
            " text_vectorization_1 (TextV  (None, 15)               0         \n",
            " ectorization)                                                   \n",
            "                                                                 \n",
            " embedding (Embedding)       (None, 15, 128)           1280000   \n",
            "                                                                 \n",
            " lstm (LSTM)                 (None, 64)                49408     \n",
            "                                                                 \n",
            " dense_1 (Dense)             (None, 64)                4160      \n",
            "                                                                 \n",
            " dense_2 (Dense)             (None, 1)                 65        \n",
            "                                                                 \n",
            "=================================================================\n",
            "Total params: 1,333,633\n",
            "Trainable params: 1,333,633\n",
            "Non-trainable params: 0\n",
            "_________________________________________________________________\n"
          ]
        }
      ]
    },
    {
      "cell_type": "code",
      "source": [
        "# Compile model_2\n",
        "model_2.compile(loss=\"binary_crossentropy\",\n",
        "                optimizer = tf.keras.optimizers.Adam(),\n",
        "                metrics = [\"accuracy\"])"
      ],
      "metadata": {
        "id": "uXvY4b89VpWx"
      },
      "execution_count": null,
      "outputs": []
    },
    {
      "cell_type": "code",
      "source": [
        "model_2_history = model_2.fit(train_sentences, train_labels,\n",
        "                              epochs=5,\n",
        "                              validation_data=(val_sentences, val_labels),\n",
        "                              callbacks = [create_tensorboard_callback(SAVE_DIR, \"model_2_LSTM\")])"
      ],
      "metadata": {
        "colab": {
          "base_uri": "https://localhost:8080/"
        },
        "id": "mT3U1pPRWKkO",
        "outputId": "d9178c35-e46d-4cc8-c45b-c5fa40e4894f"
      },
      "execution_count": null,
      "outputs": [
        {
          "output_type": "stream",
          "name": "stdout",
          "text": [
            "Saving TensorBoard log files to: model_logs/model_2_LSTM/20230414-034025\n",
            "Epoch 1/5\n",
            "215/215 [==============================] - 17s 64ms/step - loss: 0.2265 - accuracy: 0.9250 - val_loss: 0.5958 - val_accuracy: 0.7808\n",
            "Epoch 2/5\n",
            "215/215 [==============================] - 3s 12ms/step - loss: 0.1570 - accuracy: 0.9416 - val_loss: 0.7343 - val_accuracy: 0.7808\n",
            "Epoch 3/5\n",
            "215/215 [==============================] - 4s 18ms/step - loss: 0.1271 - accuracy: 0.9540 - val_loss: 0.6859 - val_accuracy: 0.7782\n",
            "Epoch 4/5\n",
            "215/215 [==============================] - 2s 9ms/step - loss: 0.1064 - accuracy: 0.9599 - val_loss: 0.8553 - val_accuracy: 0.7769\n",
            "Epoch 5/5\n",
            "215/215 [==============================] - 2s 11ms/step - loss: 0.0848 - accuracy: 0.9664 - val_loss: 0.7908 - val_accuracy: 0.7769\n"
          ]
        }
      ]
    },
    {
      "cell_type": "code",
      "source": [
        "model_2_pred_probs = model_2.predict(val_sentences)\n",
        "model_2_pred_probs[:10]"
      ],
      "metadata": {
        "colab": {
          "base_uri": "https://localhost:8080/"
        },
        "id": "Fd3GZDZ0Wt2u",
        "outputId": "fadc075d-e3a0-4c48-b924-dbfbf9466990"
      },
      "execution_count": null,
      "outputs": [
        {
          "output_type": "stream",
          "name": "stdout",
          "text": [
            "24/24 [==============================] - 0s 3ms/step\n"
          ]
        },
        {
          "output_type": "execute_result",
          "data": {
            "text/plain": [
              "array([[0.01566515],\n",
              "       [0.7295331 ],\n",
              "       [0.9999521 ],\n",
              "       [0.13486505],\n",
              "       [0.00150503],\n",
              "       [0.99959975],\n",
              "       [0.93724585],\n",
              "       [0.9999832 ],\n",
              "       [0.99994683],\n",
              "       [0.5606535 ]], dtype=float32)"
            ]
          },
          "metadata": {},
          "execution_count": 63
        }
      ]
    },
    {
      "cell_type": "code",
      "source": [
        "# Convert model_2_pred_probs to pred labels\n",
        "model_2_pred= tf.squeeze(tf.round(model_2_pred_probs))\n",
        "model_2_pred[:10]"
      ],
      "metadata": {
        "colab": {
          "base_uri": "https://localhost:8080/"
        },
        "id": "CsSEyI9eW5ze",
        "outputId": "97903143-1988-4c76-ba8c-b610bbd69667"
      },
      "execution_count": null,
      "outputs": [
        {
          "output_type": "execute_result",
          "data": {
            "text/plain": [
              "<tf.Tensor: shape=(10,), dtype=float32, numpy=array([0., 1., 1., 0., 0., 1., 1., 1., 1., 1.], dtype=float32)>"
            ]
          },
          "metadata": {},
          "execution_count": 64
        }
      ]
    },
    {
      "cell_type": "code",
      "source": [
        "# Calculate model_2 results\n",
        "model_2_results = calculate_results(val_labels, model_2_pred)\n",
        "model_2_results"
      ],
      "metadata": {
        "colab": {
          "base_uri": "https://localhost:8080/"
        },
        "id": "_AFhJa53XebI",
        "outputId": "73168d89-d8d9-4f06-bcec-d499896bc26c"
      },
      "execution_count": null,
      "outputs": [
        {
          "output_type": "execute_result",
          "data": {
            "text/plain": [
              "{'accuracy': 77.69028871391076,\n",
              " 'Precision': 0.8068965517241379,\n",
              " 'Recall Score': 0.6724137931034483,\n",
              " 'F1 Score': 0.774064384984916}"
            ]
          },
          "metadata": {},
          "execution_count": 65
        }
      ]
    },
    {
      "cell_type": "markdown",
      "source": [
        "### Model 3: GRU\n",
        "GRU - Gated Recurrent Unit\n",
        "Structure of RNN typically looks like -\n",
        "\n",
        "` (Input- text) - Tokenize - Embedding - Layers(RNNs/Dense) - Output`"
      ],
      "metadata": {
        "id": "OIh3g8SzX4M7"
      }
    },
    {
      "cell_type": "code",
      "source": [
        "# Building RNN for GRU cell\n",
        "from tensorflow.keras import layers\n",
        "\n",
        "inputs = layers.Input(shape=(1,), dtype=tf.string)\n",
        "x = text_vectorizer(inputs)\n",
        "x = embedding(x)\n",
        "x = layers.GRU(64)(x)\n",
        "# print(x.shape)\n",
        "# x = layers.GRU(64, return_sequences=True)(x) #Set return_sequences if you want to stack GRU layers\n",
        "# x = layers.LSTM(64, return_sequences=True)(x)\n",
        "# print(x.shape)\n",
        "# x = layers.GRU(64)(x)\n",
        "# print(x.shape)\n",
        "# x = layers.Dense(64, activation=\"relu\")(x)\n",
        "# x = layers.GlobalAveragePooling1D()(x)\n",
        "outputs = layers.Dense(1, activation=\"sigmoid\")(x)\n",
        "model_3 = tf.keras.Model(inputs, outputs, name=\"model_3_GRU\")"
      ],
      "metadata": {
        "id": "SQ_kNFhMoydh"
      },
      "execution_count": null,
      "outputs": []
    },
    {
      "cell_type": "code",
      "source": [
        "model_3.summary()"
      ],
      "metadata": {
        "colab": {
          "base_uri": "https://localhost:8080/"
        },
        "id": "D7uMLqejqYhd",
        "outputId": "cd8a7ab3-06d1-49eb-ed04-623587b03510"
      },
      "execution_count": null,
      "outputs": [
        {
          "output_type": "stream",
          "name": "stdout",
          "text": [
            "Model: \"model_3_GRU\"\n",
            "_________________________________________________________________\n",
            " Layer (type)                Output Shape              Param #   \n",
            "=================================================================\n",
            " input_3 (InputLayer)        [(None, 1)]               0         \n",
            "                                                                 \n",
            " text_vectorization_1 (TextV  (None, 15)               0         \n",
            " ectorization)                                                   \n",
            "                                                                 \n",
            " embedding (Embedding)       (None, 15, 128)           1280000   \n",
            "                                                                 \n",
            " gru (GRU)                   (None, 64)                37248     \n",
            "                                                                 \n",
            " dense_3 (Dense)             (None, 1)                 65        \n",
            "                                                                 \n",
            "=================================================================\n",
            "Total params: 1,317,313\n",
            "Trainable params: 1,317,313\n",
            "Non-trainable params: 0\n",
            "_________________________________________________________________\n"
          ]
        }
      ]
    },
    {
      "cell_type": "code",
      "source": [
        "# Compile model\n",
        "model_3.compile(loss=\"binary_crossentropy\",\n",
        "                optimizer = tf.keras.optimizers.Adam(),\n",
        "                metrics = [\"accuracy\"])"
      ],
      "metadata": {
        "id": "rq_hKnivt86G"
      },
      "execution_count": null,
      "outputs": []
    },
    {
      "cell_type": "code",
      "source": [
        "model_3_history = model_3.fit(train_sentences, train_labels,\n",
        "                              epochs=5,\n",
        "                              validation_data = (val_sentences, val_labels),\n",
        "                              callbacks = [create_tensorboard_callback(SAVE_DIR, \"model_3_logs\")])"
      ],
      "metadata": {
        "colab": {
          "base_uri": "https://localhost:8080/"
        },
        "id": "Cd93ny-gvomQ",
        "outputId": "dded9f1c-de1f-43ad-fa58-510cf8302a94"
      },
      "execution_count": null,
      "outputs": [
        {
          "output_type": "stream",
          "name": "stdout",
          "text": [
            "Saving TensorBoard log files to: model_logs/model_3_logs/20230414-034054\n",
            "Epoch 1/5\n",
            "215/215 [==============================] - 15s 58ms/step - loss: 0.1642 - accuracy: 0.9337 - val_loss: 0.7226 - val_accuracy: 0.7703\n",
            "Epoch 2/5\n",
            "215/215 [==============================] - 4s 20ms/step - loss: 0.0826 - accuracy: 0.9691 - val_loss: 0.8064 - val_accuracy: 0.7756\n",
            "Epoch 3/5\n",
            "215/215 [==============================] - 2s 10ms/step - loss: 0.0711 - accuracy: 0.9723 - val_loss: 0.9993 - val_accuracy: 0.7822\n",
            "Epoch 4/5\n",
            "215/215 [==============================] - 2s 11ms/step - loss: 0.0623 - accuracy: 0.9750 - val_loss: 1.0153 - val_accuracy: 0.7638\n",
            "Epoch 5/5\n",
            "215/215 [==============================] - 2s 11ms/step - loss: 0.0498 - accuracy: 0.9785 - val_loss: 1.3182 - val_accuracy: 0.7703\n"
          ]
        }
      ]
    },
    {
      "cell_type": "code",
      "source": [
        "# Making predictions with GRU model\n",
        "model_3_pred_proba = model_3.predict(val_sentences)\n",
        "model_3_pred_proba.shape"
      ],
      "metadata": {
        "colab": {
          "base_uri": "https://localhost:8080/"
        },
        "id": "5WvYdBFMwOw2",
        "outputId": "ea59687f-5912-462a-c3f0-62767505d58b"
      },
      "execution_count": null,
      "outputs": [
        {
          "output_type": "stream",
          "name": "stdout",
          "text": [
            "24/24 [==============================] - 0s 3ms/step\n"
          ]
        },
        {
          "output_type": "execute_result",
          "data": {
            "text/plain": [
              "(762, 1)"
            ]
          },
          "metadata": {},
          "execution_count": 70
        }
      ]
    },
    {
      "cell_type": "code",
      "source": [
        "# Converting pred probability in labels\n",
        "model_3_label = tf.squeeze(tf.round(model_3_pred_proba))\n",
        "model_3_label[:5], model_3_label.shape"
      ],
      "metadata": {
        "colab": {
          "base_uri": "https://localhost:8080/"
        },
        "id": "SNnyjfWdweqt",
        "outputId": "80bd51d8-6014-4d2b-f231-c8ef4dcf2658"
      },
      "execution_count": null,
      "outputs": [
        {
          "output_type": "execute_result",
          "data": {
            "text/plain": [
              "(<tf.Tensor: shape=(5,), dtype=float32, numpy=array([0., 1., 1., 0., 0.], dtype=float32)>,\n",
              " TensorShape([762]))"
            ]
          },
          "metadata": {},
          "execution_count": 71
        }
      ]
    },
    {
      "cell_type": "code",
      "source": [
        "# Evaluating the model\n",
        "model_3_results = calculate_results(val_labels,model_3_label)\n",
        "model_3_results"
      ],
      "metadata": {
        "colab": {
          "base_uri": "https://localhost:8080/"
        },
        "id": "IYwQAcFVw0LO",
        "outputId": "60524ff9-a9d4-4eb8-b4fe-fe99e6f44cb6"
      },
      "execution_count": null,
      "outputs": [
        {
          "output_type": "execute_result",
          "data": {
            "text/plain": [
              "{'accuracy': 77.03412073490814,\n",
              " 'Precision': 0.7836065573770492,\n",
              " 'Recall Score': 0.6867816091954023,\n",
              " 'F1 Score': 0.7684486602580174}"
            ]
          },
          "metadata": {},
          "execution_count": 72
        }
      ]
    },
    {
      "cell_type": "markdown",
      "source": [
        "### Model 4: Bidirectional RNN"
      ],
      "metadata": {
        "id": "9Ig1BHxPxFPz"
      }
    },
    {
      "cell_type": "code",
      "source": [
        "# Build a bidirectional RNN layer\n",
        "from tensorflow.keras import layers\n",
        "inputs = layers.Input(shape=(1,), dtype = \"string\")\n",
        "x = text_vectorizer(inputs)\n",
        "x = embedding(x)\n",
        "# x = tf.keras.layers.Bidirectional(layers.LSTM(64, return_sequences=True))(x)\n",
        "x = layers.Bidirectional(layers.LSTM(64))(x)\n",
        "# x = layers.Dense(64,activation=\"relu\")(x)\n",
        "outputs = layers.Dense(1, activation=\"sigmoid\")(x)\n",
        "model_4 = tf.keras.Model(inputs,outputs, name=\"model_4_bidirectional\")"
      ],
      "metadata": {
        "id": "-aagEGYX0jK7"
      },
      "execution_count": null,
      "outputs": []
    },
    {
      "cell_type": "code",
      "source": [
        "model_4.summary()"
      ],
      "metadata": {
        "colab": {
          "base_uri": "https://localhost:8080/"
        },
        "id": "-w5wdv2T2sNa",
        "outputId": "1f0cd6c6-66f9-49f7-c031-a6c6c65c784c"
      },
      "execution_count": null,
      "outputs": [
        {
          "output_type": "stream",
          "name": "stdout",
          "text": [
            "Model: \"model_4_bidirectional\"\n",
            "_________________________________________________________________\n",
            " Layer (type)                Output Shape              Param #   \n",
            "=================================================================\n",
            " input_4 (InputLayer)        [(None, 1)]               0         \n",
            "                                                                 \n",
            " text_vectorization_1 (TextV  (None, 15)               0         \n",
            " ectorization)                                                   \n",
            "                                                                 \n",
            " embedding (Embedding)       (None, 15, 128)           1280000   \n",
            "                                                                 \n",
            " bidirectional (Bidirectiona  (None, 128)              98816     \n",
            " l)                                                              \n",
            "                                                                 \n",
            " dense_4 (Dense)             (None, 1)                 129       \n",
            "                                                                 \n",
            "=================================================================\n",
            "Total params: 1,378,945\n",
            "Trainable params: 1,378,945\n",
            "Non-trainable params: 0\n",
            "_________________________________________________________________\n"
          ]
        }
      ]
    },
    {
      "cell_type": "markdown",
      "source": [
        "##### Check once"
      ],
      "metadata": {
        "id": "LR1EGtm05V7Q"
      }
    },
    {
      "cell_type": "code",
      "source": [
        "model_4_bidirectional_weights = model_4.layers[3].get_weights()\n",
        "print(model_4_bidirectional_weights[:2])\n",
        "for layer in model_4.layers:\n",
        "  print(layer.name, layer.dtype_policy)"
      ],
      "metadata": {
        "colab": {
          "base_uri": "https://localhost:8080/"
        },
        "id": "ttveNYuy24Aa",
        "outputId": "4ddf8bfb-f0cf-4cc3-ac67-dd7f1cd78e48"
      },
      "execution_count": null,
      "outputs": [
        {
          "output_type": "stream",
          "name": "stdout",
          "text": [
            "[array([[ 0.05768481, -0.02191314,  0.02481142, ..., -0.08748719,\n",
            "        -0.03974059, -0.01311705],\n",
            "       [-0.04595482,  0.10340035, -0.08277932, ...,  0.07127887,\n",
            "        -0.00429142,  0.07218468],\n",
            "       [ 0.09684256,  0.02698445,  0.02207533, ..., -0.08038068,\n",
            "         0.07868287, -0.03535011],\n",
            "       ...,\n",
            "       [-0.11577153, -0.06183624,  0.05782199, ..., -0.03870291,\n",
            "        -0.08065754,  0.03580397],\n",
            "       [-0.00554982, -0.05300364,  0.01301733, ...,  0.05108306,\n",
            "         0.11711481, -0.04786178],\n",
            "       [ 0.03034046, -0.04263625, -0.03090709, ...,  0.05350766,\n",
            "         0.08612007,  0.08278209]], dtype=float32), array([[-0.00587595,  0.01560116,  0.03123943, ..., -0.02979661,\n",
            "         0.02837755,  0.0552936 ],\n",
            "       [ 0.03805555,  0.02050948,  0.07659915, ..., -0.04840483,\n",
            "        -0.15097964,  0.01162691],\n",
            "       [-0.02143887,  0.04460004, -0.01374042, ..., -0.05620595,\n",
            "        -0.02067996, -0.09594656],\n",
            "       ...,\n",
            "       [ 0.02907428,  0.11587412, -0.03167658, ...,  0.03552574,\n",
            "        -0.09070055,  0.06913298],\n",
            "       [-0.04067754, -0.10516854, -0.03634352, ...,  0.0499767 ,\n",
            "         0.13117376,  0.04526715],\n",
            "       [-0.12746684,  0.01424356, -0.00508056, ..., -0.04154002,\n",
            "         0.0740866 ,  0.07909847]], dtype=float32)]\n",
            "input_4 <Policy \"string\">\n",
            "text_vectorization_1 <Policy \"string\">\n",
            "embedding <Policy \"float32\">\n",
            "bidirectional <Policy \"float32\">\n",
            "dense_4 <Policy \"float32\">\n"
          ]
        }
      ]
    },
    {
      "cell_type": "code",
      "source": [
        "model_4.compile(loss=\"binary_crossentropy\",\n",
        "                optimizer = tf.keras.optimizers.Adam(),\n",
        "                metrics= [\"accuracy\"])"
      ],
      "metadata": {
        "id": "nmR8-ruT360P"
      },
      "execution_count": null,
      "outputs": []
    },
    {
      "cell_type": "code",
      "source": [
        "model_4_history = model_4.fit(train_sentences, train_labels,\n",
        "                              epochs=5,\n",
        "                              validation_data=(val_sentences, val_labels),\n",
        "                              callbacks = [create_tensorboard_callback(SAVE_DIR, \"model_4_bidirectional\")])"
      ],
      "metadata": {
        "colab": {
          "base_uri": "https://localhost:8080/"
        },
        "id": "TmjFk3Db6Fla",
        "outputId": "970958d8-9854-4c03-b2ad-d4c9f87af23a"
      },
      "execution_count": null,
      "outputs": [
        {
          "output_type": "stream",
          "name": "stdout",
          "text": [
            "Saving TensorBoard log files to: model_logs/model_4_bidirectional/20230414-034138\n",
            "Epoch 1/5\n",
            "215/215 [==============================] - 18s 64ms/step - loss: 0.1135 - accuracy: 0.9612 - val_loss: 0.9353 - val_accuracy: 0.7612\n",
            "Epoch 2/5\n",
            "215/215 [==============================] - 4s 18ms/step - loss: 0.0538 - accuracy: 0.9768 - val_loss: 1.2061 - val_accuracy: 0.7717\n",
            "Epoch 3/5\n",
            "215/215 [==============================] - 2s 11ms/step - loss: 0.0475 - accuracy: 0.9785 - val_loss: 1.1992 - val_accuracy: 0.7756\n",
            "Epoch 4/5\n",
            "215/215 [==============================] - 2s 10ms/step - loss: 0.0411 - accuracy: 0.9813 - val_loss: 1.3280 - val_accuracy: 0.7717\n",
            "Epoch 5/5\n",
            "215/215 [==============================] - 2s 11ms/step - loss: 0.0393 - accuracy: 0.9810 - val_loss: 1.4642 - val_accuracy: 0.7717\n"
          ]
        }
      ]
    },
    {
      "cell_type": "code",
      "source": [
        "model_4_pred_probs = model_4.predict(val_sentences)\n",
        "model_4_pred_probs[:5]"
      ],
      "metadata": {
        "colab": {
          "base_uri": "https://localhost:8080/"
        },
        "id": "6-IopGs-64pc",
        "outputId": "08e18b16-cef6-469e-bbdd-f6d7af45014b"
      },
      "execution_count": null,
      "outputs": [
        {
          "output_type": "stream",
          "name": "stdout",
          "text": [
            "24/24 [==============================] - 1s 4ms/step\n"
          ]
        },
        {
          "output_type": "execute_result",
          "data": {
            "text/plain": [
              "array([[2.3818756e-03],\n",
              "       [7.9266280e-01],\n",
              "       [9.9995875e-01],\n",
              "       [1.0475153e-01],\n",
              "       [2.3938639e-05]], dtype=float32)"
            ]
          },
          "metadata": {},
          "execution_count": 78
        }
      ]
    },
    {
      "cell_type": "code",
      "source": [
        "model_4_label = tf.squeeze(tf.round(model_4_pred_probs))\n",
        "model_4_label[:4]"
      ],
      "metadata": {
        "colab": {
          "base_uri": "https://localhost:8080/"
        },
        "id": "jMD6HxKV7PAf",
        "outputId": "914a3403-73d6-4f52-c375-69f646421b93"
      },
      "execution_count": null,
      "outputs": [
        {
          "output_type": "execute_result",
          "data": {
            "text/plain": [
              "<tf.Tensor: shape=(4,), dtype=float32, numpy=array([0., 1., 1., 0.], dtype=float32)>"
            ]
          },
          "metadata": {},
          "execution_count": 79
        }
      ]
    },
    {
      "cell_type": "code",
      "source": [
        "model_4_results = calculate_results(val_labels, model_4_label)\n",
        "model_4_results"
      ],
      "metadata": {
        "colab": {
          "base_uri": "https://localhost:8080/"
        },
        "id": "pK1msq0Y7Zzk",
        "outputId": "9c5d1486-3265-4216-c4f2-06172f645f3b"
      },
      "execution_count": null,
      "outputs": [
        {
          "output_type": "execute_result",
          "data": {
            "text/plain": [
              "{'accuracy': 77.16535433070865,\n",
              " 'Precision': 0.7824675324675324,\n",
              " 'Recall Score': 0.6925287356321839,\n",
              " 'F1 Score': 0.7699532001851459}"
            ]
          },
          "metadata": {},
          "execution_count": 80
        }
      ]
    },
    {
      "cell_type": "code",
      "source": [
        "import numpy as np\n",
        "sample_sen = \"Tsunami in Japan\"\n",
        "model_res = model_4.predict([sample_sen])\n",
        "if model_res > 0.5:\n",
        "  print(\"Disaster\")\n",
        "else:\n",
        "  print(\"All well\")"
      ],
      "metadata": {
        "colab": {
          "base_uri": "https://localhost:8080/"
        },
        "id": "qOrYvm228NDV",
        "outputId": "e1808797-e055-4565-f2f4-55519e5dddf0"
      },
      "execution_count": null,
      "outputs": [
        {
          "output_type": "stream",
          "name": "stdout",
          "text": [
            "1/1 [==============================] - 0s 43ms/step\n",
            "Disaster\n"
          ]
        }
      ]
    },
    {
      "cell_type": "markdown",
      "source": [
        "### Model 5 : Conv1D\n",
        "Typical Structure of Conv1D model for sequences:\n",
        "``` Inputs(text) -- Tokenization -- Embedding -- Layers(typically Conv1D + pooling) -- Outputs(class_probabilities) ```\n",
        "\n",
        "https://poloclub.github.io/cnn-explainer/"
      ],
      "metadata": {
        "id": "uqB4Ux_o9Oo1"
      }
    },
    {
      "cell_type": "code",
      "source": [
        "# Test out our embedding layer, Conv1D layer and max pooling\n",
        "import tensorflow as tf\n",
        "from tensorflow.keras import layers\n",
        "\n",
        "embedding_test = embedding(text_vectorizer([\"this is a sentence\"]))\n",
        "conv_1d = layers.Conv1D(filters=32,\n",
        "                        kernel_size = 5, #each filter will look at 5 words at a time\n",
        "                        strides=1, # looks at each single word\n",
        "                        activation=\"relu\",\n",
        "                        padding=\"valid\")\n",
        "conv_1d_output = conv_1d(embedding_test) # pass test embedding through conv2d layer\n",
        "max_pool = layers.GlobalMaxPool1D()\n",
        "max_pool_output = max_pool(conv_1d_output) # equivalent to \"get the most important feature\"\n",
        "\n",
        "embedding_test.shape, conv_1d_output.shape, max_pool_output.shape"
      ],
      "metadata": {
        "colab": {
          "base_uri": "https://localhost:8080/"
        },
        "id": "GJGSx5S8sM_b",
        "outputId": "5b5f3eab-92a7-4824-c451-d1ae788a7135"
      },
      "execution_count": null,
      "outputs": [
        {
          "output_type": "execute_result",
          "data": {
            "text/plain": [
              "(TensorShape([1, 15, 128]), TensorShape([1, 11, 32]), TensorShape([1, 32]))"
            ]
          },
          "metadata": {},
          "execution_count": 82
        }
      ]
    },
    {
      "cell_type": "code",
      "source": [
        "# embedding_test"
      ],
      "metadata": {
        "id": "_4MebwCY8dXa"
      },
      "execution_count": null,
      "outputs": []
    },
    {
      "cell_type": "code",
      "source": [
        "# max_pool_output"
      ],
      "metadata": {
        "id": "uW9sNq7W8gBJ"
      },
      "execution_count": null,
      "outputs": []
    },
    {
      "cell_type": "code",
      "source": [
        "# conv_1d_output"
      ],
      "metadata": {
        "id": "lzTBUBoU9bMO"
      },
      "execution_count": null,
      "outputs": []
    },
    {
      "cell_type": "code",
      "source": [
        "# Create 1-dimensional convolutional layer to model sequences\n",
        "inputs = layers.Input(shape=(1,), dtype=tf.string)\n",
        "x = text_vectorizer(inputs)\n",
        "x = embedding(x)\n",
        "x = layers.Conv1D(filters=64, kernel_size=5, strides=1, activation=\"relu\", padding=\"valid\")(x)\n",
        "x = layers.GlobalMaxPool1D()(x)\n",
        "# x = layers.Dense(64, activation=\"relu\")(x)\n",
        "outputs = layers.Dense(1, activation = \"sigmoid\")(x)\n",
        "model_5 = tf.keras.Model(inputs, outputs, name=\"model_5_Conv_1D\")"
      ],
      "metadata": {
        "id": "2ATZRL3H-W3X"
      },
      "execution_count": null,
      "outputs": []
    },
    {
      "cell_type": "code",
      "source": [
        "model_5.compile(loss=\"binary_crossentropy\",\n",
        "                optimizer = tf.keras.optimizers.Adam(),\n",
        "                metrics= [\"accuracy\"])"
      ],
      "metadata": {
        "id": "siMo_1bRDQEM"
      },
      "execution_count": null,
      "outputs": []
    },
    {
      "cell_type": "code",
      "source": [
        "history_model_5 = model_5.fit(train_sentences, train_labels,\n",
        "                              epochs=5,\n",
        "                              validation_data=(val_sentences, val_labels),\n",
        "                              callbacks=[create_tensorboard_callback(SAVE_DIR, \"model_5_Conv1D\")])"
      ],
      "metadata": {
        "colab": {
          "base_uri": "https://localhost:8080/"
        },
        "id": "GJEzprdlESOJ",
        "outputId": "b4f9fb0a-30f7-4a4d-d49e-8420acce5576"
      },
      "execution_count": null,
      "outputs": [
        {
          "output_type": "stream",
          "name": "stdout",
          "text": [
            "Saving TensorBoard log files to: model_logs/model_5_Conv1D/20230414-034227\n",
            "Epoch 1/5\n",
            "215/215 [==============================] - 16s 65ms/step - loss: 0.1265 - accuracy: 0.9593 - val_loss: 0.9016 - val_accuracy: 0.7638\n",
            "Epoch 2/5\n",
            "215/215 [==============================] - 4s 19ms/step - loss: 0.0734 - accuracy: 0.9730 - val_loss: 1.0357 - val_accuracy: 0.7625\n",
            "Epoch 3/5\n",
            "215/215 [==============================] - 2s 9ms/step - loss: 0.0601 - accuracy: 0.9765 - val_loss: 1.1566 - val_accuracy: 0.7598\n",
            "Epoch 4/5\n",
            "215/215 [==============================] - 2s 10ms/step - loss: 0.0541 - accuracy: 0.9788 - val_loss: 1.1975 - val_accuracy: 0.7572\n",
            "Epoch 5/5\n",
            "215/215 [==============================] - 2s 8ms/step - loss: 0.0509 - accuracy: 0.9788 - val_loss: 1.2271 - val_accuracy: 0.7625\n"
          ]
        }
      ]
    },
    {
      "cell_type": "code",
      "source": [
        "model_5_pred_probs = model_5.predict(val_sentences)\n",
        "model_5_pred_probs[:5]"
      ],
      "metadata": {
        "colab": {
          "base_uri": "https://localhost:8080/"
        },
        "id": "in21wvFWEtUi",
        "outputId": "32e25ee6-54e4-4380-ec88-47678c912db5"
      },
      "execution_count": null,
      "outputs": [
        {
          "output_type": "stream",
          "name": "stdout",
          "text": [
            "24/24 [==============================] - 0s 2ms/step\n"
          ]
        },
        {
          "output_type": "execute_result",
          "data": {
            "text/plain": [
              "array([[2.2849578e-01],\n",
              "       [8.2706648e-01],\n",
              "       [9.9992621e-01],\n",
              "       [5.9476335e-02],\n",
              "       [9.6957919e-08]], dtype=float32)"
            ]
          },
          "metadata": {},
          "execution_count": 89
        }
      ]
    },
    {
      "cell_type": "code",
      "source": [
        "model_5_label = tf.squeeze(tf.round(model_5_pred_probs))\n",
        "model_5_label[:5]"
      ],
      "metadata": {
        "colab": {
          "base_uri": "https://localhost:8080/"
        },
        "id": "nlVzAufWE5M5",
        "outputId": "29807bee-9f25-454b-dbee-36d4f665f2f5"
      },
      "execution_count": null,
      "outputs": [
        {
          "output_type": "execute_result",
          "data": {
            "text/plain": [
              "<tf.Tensor: shape=(5,), dtype=float32, numpy=array([0., 1., 1., 0., 0.], dtype=float32)>"
            ]
          },
          "metadata": {},
          "execution_count": 90
        }
      ]
    },
    {
      "cell_type": "code",
      "source": [
        "model_5_results = calculate_results(val_labels, model_5_label)\n",
        "model_5_results"
      ],
      "metadata": {
        "colab": {
          "base_uri": "https://localhost:8080/"
        },
        "id": "z1V_Y4jgFCaw",
        "outputId": "0e85eb03-eba5-4cc7-8567-67f644c292d8"
      },
      "execution_count": null,
      "outputs": [
        {
          "output_type": "execute_result",
          "data": {
            "text/plain": [
              "{'accuracy': 76.24671916010499,\n",
              " 'Precision': 0.7684887459807074,\n",
              " 'Recall Score': 0.6867816091954023,\n",
              " 'F1 Score': 0.7608791530897157}"
            ]
          },
          "metadata": {},
          "execution_count": 91
        }
      ]
    },
    {
      "cell_type": "code",
      "source": [
        "baseline_results"
      ],
      "metadata": {
        "colab": {
          "base_uri": "https://localhost:8080/"
        },
        "id": "NiBqMPN7FN6L",
        "outputId": "120221cf-8771-4132-d2b8-bd4b24a47425"
      },
      "execution_count": null,
      "outputs": [
        {
          "output_type": "execute_result",
          "data": {
            "text/plain": [
              "{'accuracy': 79.26509186351706,\n",
              " 'Precision': 0.8861788617886179,\n",
              " 'Recall Score': 0.6264367816091954,\n",
              " 'F1 Score': 0.7862189758049549}"
            ]
          },
          "metadata": {},
          "execution_count": 92
        }
      ]
    },
    {
      "cell_type": "markdown",
      "source": [
        "## Model 6: TensorFlowHub Pretrained Sentence Encoder"
      ],
      "metadata": {
        "id": "AMALYXvwFcmk"
      }
    },
    {
      "cell_type": "code",
      "source": [
        "import tensorflow_hub as hub\n",
        "embed = hub.load(\"https://tfhub.dev/google/universal-sentence-encoder/4\")\n",
        "embed_samples = embed([sample_sentence,\n",
        "                       \"When you call universal sentence encoder on a sentence, it turns it into numbers\"])\n",
        "print(embed_samples[0][:50])"
      ],
      "metadata": {
        "colab": {
          "base_uri": "https://localhost:8080/"
        },
        "id": "J2z7DrsTjtgo",
        "outputId": "4ac2710b-f8f0-4195-946c-ab66259c920a"
      },
      "execution_count": null,
      "outputs": [
        {
          "output_type": "stream",
          "name": "stdout",
          "text": [
            "tf.Tensor(\n",
            "[-0.01157028  0.0248591   0.02878048 -0.012715    0.03971538  0.0882776\n",
            "  0.02680984  0.05589836 -0.0106873  -0.00597291  0.00639323 -0.01819518\n",
            "  0.00030813  0.09105888  0.05874644 -0.03180628  0.01512474 -0.05162929\n",
            "  0.00991367 -0.06865347 -0.04209306  0.02678981  0.03011006  0.00321069\n",
            " -0.00337973 -0.04787357  0.0226672  -0.00985925 -0.04063613 -0.01292092\n",
            " -0.04666384  0.05630299 -0.03949255  0.00517686  0.02495829 -0.0701444\n",
            "  0.02871508  0.04947684 -0.00633979 -0.08960192  0.02807118 -0.00808364\n",
            " -0.01360602  0.0599865  -0.10361787 -0.05195374  0.00232954 -0.02332531\n",
            " -0.03758105  0.03327728], shape=(50,), dtype=float32)\n"
          ]
        }
      ]
    },
    {
      "cell_type": "code",
      "source": [
        "# Create a keras layer using USE pretrained layer from tensorflow hub\n",
        "sentence_encoder_layer = hub.KerasLayer(\"https://tfhub.dev/google/universal-sentence-encoder/4\",\n",
        "                                        input_shape=[],\n",
        "                                        dtype=tf.string,\n",
        "                                        trainable=False,\n",
        "                                        name=\"USE\")\n"
      ],
      "metadata": {
        "id": "B2gHT_ffrjkL"
      },
      "execution_count": null,
      "outputs": []
    },
    {
      "cell_type": "code",
      "source": [
        "from tensorflow.keras import Sequential\n",
        "\n",
        "model_6 = Sequential([\n",
        "    sentence_encoder_layer,\n",
        "    # layers.Dense(64, activation=\"relu\"),\n",
        "    layers.Dense(1, activation=\"sigmoid\")\n",
        "])\n",
        "\n",
        "model_6.compile(loss=\"binary_crossentropy\",\n",
        "                optimizer = tf.keras.optimizers.Adam(),\n",
        "                metrics = [\"accuracy\"])\n",
        "\n",
        "model_6.summary()"
      ],
      "metadata": {
        "colab": {
          "base_uri": "https://localhost:8080/"
        },
        "id": "NmXt-9Nf79Fy",
        "outputId": "8a96ca25-5d41-45cd-d925-dc7d80aa592c"
      },
      "execution_count": null,
      "outputs": [
        {
          "output_type": "stream",
          "name": "stdout",
          "text": [
            "Model: \"sequential\"\n",
            "_________________________________________________________________\n",
            " Layer (type)                Output Shape              Param #   \n",
            "=================================================================\n",
            " USE (KerasLayer)            (None, 512)               256797824 \n",
            "                                                                 \n",
            " dense_6 (Dense)             (None, 1)                 513       \n",
            "                                                                 \n",
            "=================================================================\n",
            "Total params: 256,798,337\n",
            "Trainable params: 513\n",
            "Non-trainable params: 256,797,824\n",
            "_________________________________________________________________\n"
          ]
        }
      ]
    },
    {
      "cell_type": "code",
      "source": [
        "# Train a classifier on top of USE pretrained embeddings\n",
        "history_model_6 = model_6.fit(train_sentences, train_labels,\n",
        "                              epochs=5,\n",
        "                              validation_data = (val_sentences, val_labels),\n",
        "                              callbacks = [create_tensorboard_callback(SAVE_DIR, \"tf_hub_sentence_encoder\")])"
      ],
      "metadata": {
        "colab": {
          "base_uri": "https://localhost:8080/"
        },
        "id": "az4IOZZsDIr0",
        "outputId": "5fc7fe0d-5bb4-495b-8a47-b90ac01754a1"
      },
      "execution_count": null,
      "outputs": [
        {
          "output_type": "stream",
          "name": "stdout",
          "text": [
            "Saving TensorBoard log files to: model_logs/tf_hub_sentence_encoder/20230414-034357\n",
            "Epoch 1/5\n",
            "215/215 [==============================] - 7s 15ms/step - loss: 0.6491 - accuracy: 0.7330 - val_loss: 0.6133 - val_accuracy: 0.7808\n",
            "Epoch 2/5\n",
            "215/215 [==============================] - 3s 13ms/step - loss: 0.5819 - accuracy: 0.7917 - val_loss: 0.5636 - val_accuracy: 0.7940\n",
            "Epoch 3/5\n",
            "215/215 [==============================] - 3s 13ms/step - loss: 0.5389 - accuracy: 0.7959 - val_loss: 0.5317 - val_accuracy: 0.7900\n",
            "Epoch 4/5\n",
            "215/215 [==============================] - 4s 17ms/step - loss: 0.5100 - accuracy: 0.7981 - val_loss: 0.5107 - val_accuracy: 0.7913\n",
            "Epoch 5/5\n",
            "215/215 [==============================] - 3s 13ms/step - loss: 0.4898 - accuracy: 0.7996 - val_loss: 0.4961 - val_accuracy: 0.7940\n"
          ]
        }
      ]
    },
    {
      "cell_type": "code",
      "source": [
        "# Make predictions with USE TF Hub model\n",
        "model_6_pred_probs = model_6.predict(val_sentences)\n",
        "model_6_pred_probs[:5]"
      ],
      "metadata": {
        "colab": {
          "base_uri": "https://localhost:8080/"
        },
        "id": "jU_9JyyWEm7B",
        "outputId": "660d6744-8c0f-410e-fa94-801382ee5679"
      },
      "execution_count": null,
      "outputs": [
        {
          "output_type": "stream",
          "name": "stdout",
          "text": [
            "24/24 [==============================] - 1s 9ms/step\n"
          ]
        },
        {
          "output_type": "execute_result",
          "data": {
            "text/plain": [
              "array([[0.36380562],\n",
              "       [0.6725907 ],\n",
              "       [0.8604714 ],\n",
              "       [0.3511473 ],\n",
              "       [0.64129496]], dtype=float32)"
            ]
          },
          "metadata": {},
          "execution_count": 97
        }
      ]
    },
    {
      "cell_type": "code",
      "source": [
        "model_6_pred_labels = tf.squeeze(tf.round(model_6_pred_probs))\n",
        "model_6_pred_labels[:5]"
      ],
      "metadata": {
        "colab": {
          "base_uri": "https://localhost:8080/"
        },
        "id": "If_1GxHlEVTR",
        "outputId": "e7b6bdd1-83bb-4a8f-af36-b547a619616a"
      },
      "execution_count": null,
      "outputs": [
        {
          "output_type": "execute_result",
          "data": {
            "text/plain": [
              "<tf.Tensor: shape=(5,), dtype=float32, numpy=array([0., 1., 1., 0., 1.], dtype=float32)>"
            ]
          },
          "metadata": {},
          "execution_count": 98
        }
      ]
    },
    {
      "cell_type": "code",
      "source": [
        "model_6_results = calculate_results(val_labels, model_6_pred_labels)\n",
        "model_6_results"
      ],
      "metadata": {
        "colab": {
          "base_uri": "https://localhost:8080/"
        },
        "id": "4vPB3cgbFA11",
        "outputId": "517dabf2-0edb-4e24-e85e-c035c9d83853"
      },
      "execution_count": null,
      "outputs": [
        {
          "output_type": "execute_result",
          "data": {
            "text/plain": [
              "{'accuracy': 79.39632545931758,\n",
              " 'Precision': 0.8070739549839229,\n",
              " 'Recall Score': 0.7212643678160919,\n",
              " 'F1 Score': 0.7925857847242284}"
            ]
          },
          "metadata": {},
          "execution_count": 99
        }
      ]
    },
    {
      "cell_type": "markdown",
      "source": [
        "### Model 7"
      ],
      "metadata": {
        "id": "NLE2xLLSFLUa"
      }
    },
    {
      "cell_type": "code",
      "source": [
        "emb2 = hub.load(\"https://tfhub.dev/google/universal-sentence-encoder/4\")\n",
        "sentence_encoder_layer2 = hub.KerasLayer(\"https://tfhub.dev/google/universal-sentence-encoder/4\",\n",
        "                                         input_shape=[],\n",
        "                                         trainable = False,\n",
        "                                         dtype=tf.string,\n",
        "                                         name = \"USE2\")"
      ],
      "metadata": {
        "id": "Jd-MYQ7RFxKK"
      },
      "execution_count": null,
      "outputs": []
    },
    {
      "cell_type": "code",
      "source": [
        "from tensorflow.keras import Sequential\n",
        "\n",
        "model_7 = Sequential([\n",
        "    sentence_encoder_layer2,\n",
        "    layers.Dense(64, activation=\"relu\"),\n",
        "    layers.Dense(1, activation=\"sigmoid\", name=\"output\")\n",
        "], name=\"model_7_USE\")\n",
        "\n",
        "model_7.compile(loss=\"binary_crossentropy\",\n",
        "                optimizer = tf.keras.optimizers.Adam(),\n",
        "                metrics = [\"accuracy\"])\n",
        "\n",
        "model_7.summary()"
      ],
      "metadata": {
        "colab": {
          "base_uri": "https://localhost:8080/"
        },
        "id": "9xIu7ez3Gjgt",
        "outputId": "63588a17-bfaa-4abe-d602-d0b4c4f056a9"
      },
      "execution_count": null,
      "outputs": [
        {
          "output_type": "stream",
          "name": "stdout",
          "text": [
            "Model: \"model_7_USE\"\n",
            "_________________________________________________________________\n",
            " Layer (type)                Output Shape              Param #   \n",
            "=================================================================\n",
            " USE2 (KerasLayer)           (None, 512)               256797824 \n",
            "                                                                 \n",
            " dense_7 (Dense)             (None, 64)                32832     \n",
            "                                                                 \n",
            " output (Dense)              (None, 1)                 65        \n",
            "                                                                 \n",
            "=================================================================\n",
            "Total params: 256,830,721\n",
            "Trainable params: 32,897\n",
            "Non-trainable params: 256,797,824\n",
            "_________________________________________________________________\n"
          ]
        }
      ]
    },
    {
      "cell_type": "code",
      "source": [
        "model_7_history = model_7.fit(train_sentences, train_labels,\n",
        "                                  epochs=5,\n",
        "                                  validation_data=(val_sentences, val_labels),\n",
        "                                  callbacks=[create_tensorboard_callback(SAVE_DIR,\"model_7_USE\")])"
      ],
      "metadata": {
        "colab": {
          "base_uri": "https://localhost:8080/"
        },
        "id": "qAD7QOukHYA8",
        "outputId": "d0f2d55e-5111-4450-baac-98fb6ed6878a"
      },
      "execution_count": null,
      "outputs": [
        {
          "output_type": "stream",
          "name": "stdout",
          "text": [
            "Saving TensorBoard log files to: model_logs/model_7_USE/20230414-034432\n",
            "Epoch 1/5\n",
            "215/215 [==============================] - 7s 20ms/step - loss: 0.5035 - accuracy: 0.7840 - val_loss: 0.4464 - val_accuracy: 0.8005\n",
            "Epoch 2/5\n",
            "215/215 [==============================] - 3s 13ms/step - loss: 0.4133 - accuracy: 0.8154 - val_loss: 0.4393 - val_accuracy: 0.8031\n",
            "Epoch 3/5\n",
            "215/215 [==============================] - 3s 13ms/step - loss: 0.3997 - accuracy: 0.8227 - val_loss: 0.4312 - val_accuracy: 0.8110\n",
            "Epoch 4/5\n",
            "215/215 [==============================] - 3s 13ms/step - loss: 0.3915 - accuracy: 0.8238 - val_loss: 0.4270 - val_accuracy: 0.8110\n",
            "Epoch 5/5\n",
            "215/215 [==============================] - 4s 18ms/step - loss: 0.3837 - accuracy: 0.8342 - val_loss: 0.4259 - val_accuracy: 0.8189\n"
          ]
        }
      ]
    },
    {
      "cell_type": "code",
      "source": [
        "model_7.compile(loss = \"binary_cross_entropy\",\n",
        "                optimizer = tf.keras.optimizers.Adam(),\n",
        "                metrics = [\"accuracy\"])"
      ],
      "metadata": {
        "id": "ScFsNW5Rp4ho"
      },
      "execution_count": null,
      "outputs": []
    },
    {
      "cell_type": "code",
      "source": [
        "model_7_pred_probs = model_7.predict(val_sentences)\n",
        "model_7_pred_labels = tf.squeeze(tf.round(model_7_pred_probs))\n",
        "model_7_pred_labels[:10]"
      ],
      "metadata": {
        "colab": {
          "base_uri": "https://localhost:8080/"
        },
        "id": "oSgkRkGwqGwb",
        "outputId": "51bb4a9a-878d-46f9-fc6b-8126fd09b81e"
      },
      "execution_count": null,
      "outputs": [
        {
          "output_type": "stream",
          "name": "stdout",
          "text": [
            "24/24 [==============================] - 1s 10ms/step\n"
          ]
        },
        {
          "output_type": "execute_result",
          "data": {
            "text/plain": [
              "<tf.Tensor: shape=(10,), dtype=float32, numpy=array([0., 1., 1., 0., 1., 1., 1., 1., 1., 0.], dtype=float32)>"
            ]
          },
          "metadata": {},
          "execution_count": 104
        }
      ]
    },
    {
      "cell_type": "code",
      "source": [
        "model_7_results = calculate_results(val_labels, model_7_pred_labels)\n",
        "model_7_results"
      ],
      "metadata": {
        "colab": {
          "base_uri": "https://localhost:8080/"
        },
        "id": "90oPiHZbqfo9",
        "outputId": "e2b4ffaa-1aa3-4b1d-f277-c1034db5c8e7"
      },
      "execution_count": null,
      "outputs": [
        {
          "output_type": "execute_result",
          "data": {
            "text/plain": [
              "{'accuracy': 81.88976377952756,\n",
              " 'Precision': 0.8301886792452831,\n",
              " 'Recall Score': 0.7586206896551724,\n",
              " 'F1 Score': 0.817984880977007}"
            ]
          },
          "metadata": {},
          "execution_count": 105
        }
      ]
    },
    {
      "cell_type": "markdown",
      "source": [
        "### Model 8: TF Hub Pretrained USE but with 10% of training data"
      ],
      "metadata": {
        "id": "QSYbogkJIRQ3"
      }
    },
    {
      "cell_type": "code",
      "source": [
        "# Create 10 percent of our data\n",
        "train_10_percent = train_data_shuffled[[\"text\",\"target\"]].sample(frac=0.1, random_state=42)\n",
        "# train_10_precent.head()\n",
        "train_10_percent_sentences = train_10_percent[\"text\"]\n",
        "train_10_percent_labels = train_10_percent[\"target\"]\n",
        "val_10_percent = train_10_percent[[\"text\",\"target\"]].sample(frac=0.1, random_state=42)\n",
        "val_10_percent_sentences = val_10_percent[\"text\"]\n",
        "val_10_percent_labels = val_10_percent[\"target\"]"
      ],
      "metadata": {
        "id": "Wf86mz6CJpMd"
      },
      "execution_count": null,
      "outputs": []
    },
    {
      "cell_type": "code",
      "source": [
        "val_10_percent.shape"
      ],
      "metadata": {
        "colab": {
          "base_uri": "https://localhost:8080/"
        },
        "id": "i77Sh51jKhyL",
        "outputId": "2661a31f-6245-4fbe-e755-24a9d30b00a1"
      },
      "execution_count": null,
      "outputs": [
        {
          "output_type": "execute_result",
          "data": {
            "text/plain": [
              "(76, 2)"
            ]
          },
          "metadata": {},
          "execution_count": 107
        }
      ]
    },
    {
      "cell_type": "code",
      "source": [
        "# Check the number of targets in our subsets\n",
        "train_10_percent[\"target\"].value_counts()"
      ],
      "metadata": {
        "colab": {
          "base_uri": "https://localhost:8080/"
        },
        "id": "9tl_Gtt1P_0W",
        "outputId": "7cc2f004-3584-48ef-c508-8e9f99f6da0b"
      },
      "execution_count": null,
      "outputs": [
        {
          "output_type": "execute_result",
          "data": {
            "text/plain": [
              "0    413\n",
              "1    348\n",
              "Name: target, dtype: int64"
            ]
          },
          "metadata": {},
          "execution_count": 108
        }
      ]
    },
    {
      "cell_type": "code",
      "source": [
        "train_data_shuffled[\"target\"].value_counts()"
      ],
      "metadata": {
        "colab": {
          "base_uri": "https://localhost:8080/"
        },
        "id": "71sLZGIwQKW9",
        "outputId": "82d730e6-89c4-49a1-c072-ac215e6a6993"
      },
      "execution_count": null,
      "outputs": [
        {
          "output_type": "execute_result",
          "data": {
            "text/plain": [
              "0    4342\n",
              "1    3271\n",
              "Name: target, dtype: int64"
            ]
          },
          "metadata": {},
          "execution_count": 109
        }
      ]
    },
    {
      "cell_type": "code",
      "source": [
        "train_10_percent_labels.value_counts()"
      ],
      "metadata": {
        "colab": {
          "base_uri": "https://localhost:8080/"
        },
        "id": "MHQ3lcz3QRsx",
        "outputId": "fe6f44a1-2de0-42f3-9e56-2d126f0351d3"
      },
      "execution_count": null,
      "outputs": [
        {
          "output_type": "execute_result",
          "data": {
            "text/plain": [
              "0    413\n",
              "1    348\n",
              "Name: target, dtype: int64"
            ]
          },
          "metadata": {},
          "execution_count": 110
        }
      ]
    },
    {
      "cell_type": "code",
      "source": [
        "val_10_percent[\"target\"].value_counts()"
      ],
      "metadata": {
        "colab": {
          "base_uri": "https://localhost:8080/"
        },
        "id": "RihFUxuRQe9I",
        "outputId": "e5d109a6-eeed-4437-fd18-9aee9cd0df20"
      },
      "execution_count": null,
      "outputs": [
        {
          "output_type": "execute_result",
          "data": {
            "text/plain": [
              "0    45\n",
              "1    31\n",
              "Name: target, dtype: int64"
            ]
          },
          "metadata": {},
          "execution_count": 111
        }
      ]
    },
    {
      "cell_type": "code",
      "source": [
        "emb3 = hub.load(\"https://tfhub.dev/google/universal-sentence-encoder/4\")\n",
        "sentence_encoder_3 = hub.KerasLayer(\"https://tfhub.dev/google/universal-sentence-encoder/4\",\n",
        "                                     input_shape=[],\n",
        "                                     trainable=False,\n",
        "                                     dtype = tf.string,\n",
        "                                     name=\"TenPercentEncoder\")"
      ],
      "metadata": {
        "id": "cakdQvHTLbvQ"
      },
      "execution_count": null,
      "outputs": []
    },
    {
      "cell_type": "code",
      "source": [
        "# Creating a model for 10 percent data\n",
        "\n",
        "model_8 = Sequential([\n",
        "    sentence_encoder_3,\n",
        "    layers.Dense(128, activation=\"relu\"),\n",
        "    layers.Dense(1, activation=\"sigmoid\", name=\"output\")\n",
        "], name=\"model_8_10_precent_USE\")\n",
        "\n",
        "model_8.compile(loss=\"binary_crossentropy\",\n",
        "                optimizer=tf.keras.optimizers.Adam(),\n",
        "                metrics=[\"accuracy\"])\n",
        "model_8.summary()"
      ],
      "metadata": {
        "colab": {
          "base_uri": "https://localhost:8080/"
        },
        "id": "yQKrzxRQMO8G",
        "outputId": "2e2c5234-5407-416d-f378-fda7fb3c066b"
      },
      "execution_count": null,
      "outputs": [
        {
          "output_type": "stream",
          "name": "stdout",
          "text": [
            "Model: \"model_8_10_precent_USE\"\n",
            "_________________________________________________________________\n",
            " Layer (type)                Output Shape              Param #   \n",
            "=================================================================\n",
            " TenPercentEncoder (KerasLay  (None, 512)              256797824 \n",
            " er)                                                             \n",
            "                                                                 \n",
            " dense_8 (Dense)             (None, 128)               65664     \n",
            "                                                                 \n",
            " output (Dense)              (None, 1)                 129       \n",
            "                                                                 \n",
            "=================================================================\n",
            "Total params: 256,863,617\n",
            "Trainable params: 65,793\n",
            "Non-trainable params: 256,797,824\n",
            "_________________________________________________________________\n"
          ]
        }
      ]
    },
    {
      "cell_type": "code",
      "source": [
        "model_8_history = model_8.fit(train_10_percent_sentences, train_10_percent_labels,\n",
        "                              epochs=5,\n",
        "                              validation_data = (val_10_percent_sentences, val_10_percent_labels),\n",
        "                              callbacks = [create_tensorboard_callback(SAVE_DIR, \"TenPercent\")])"
      ],
      "metadata": {
        "colab": {
          "base_uri": "https://localhost:8080/"
        },
        "id": "OnhMIcN5M95t",
        "outputId": "407dc4f2-4827-4f9b-a7ba-2d487112df5c"
      },
      "execution_count": null,
      "outputs": [
        {
          "output_type": "stream",
          "name": "stdout",
          "text": [
            "Saving TensorBoard log files to: model_logs/TenPercent/20230414-034503\n",
            "Epoch 1/5\n",
            "24/24 [==============================] - 4s 33ms/step - loss: 0.6551 - accuracy: 0.7148 - val_loss: 0.5941 - val_accuracy: 0.7500\n",
            "Epoch 2/5\n",
            "24/24 [==============================] - 0s 14ms/step - loss: 0.5589 - accuracy: 0.7976 - val_loss: 0.4910 - val_accuracy: 0.8026\n",
            "Epoch 3/5\n",
            "24/24 [==============================] - 0s 15ms/step - loss: 0.4742 - accuracy: 0.8055 - val_loss: 0.4317 - val_accuracy: 0.8158\n",
            "Epoch 4/5\n",
            "24/24 [==============================] - 0s 15ms/step - loss: 0.4258 - accuracy: 0.8200 - val_loss: 0.3914 - val_accuracy: 0.8289\n",
            "Epoch 5/5\n",
            "24/24 [==============================] - 0s 16ms/step - loss: 0.3911 - accuracy: 0.8292 - val_loss: 0.3606 - val_accuracy: 0.8158\n"
          ]
        }
      ]
    },
    {
      "cell_type": "code",
      "source": [
        "model_8_pred_probs = model_8.predict(val_10_percent_sentences)\n",
        "model_8_pred_probs[:5]"
      ],
      "metadata": {
        "colab": {
          "base_uri": "https://localhost:8080/"
        },
        "id": "_t-zYlz0OU7G",
        "outputId": "081c581f-a09c-463c-9b1c-7034fc603165"
      },
      "execution_count": null,
      "outputs": [
        {
          "output_type": "stream",
          "name": "stdout",
          "text": [
            "3/3 [==============================] - 0s 12ms/step\n"
          ]
        },
        {
          "output_type": "execute_result",
          "data": {
            "text/plain": [
              "array([[0.12051384],\n",
              "       [0.61293715],\n",
              "       [0.8675848 ],\n",
              "       [0.07327186],\n",
              "       [0.66101557]], dtype=float32)"
            ]
          },
          "metadata": {},
          "execution_count": 115
        }
      ]
    },
    {
      "cell_type": "code",
      "source": [
        "model_8_pred_labels = tf.squeeze(tf.round(model_8_pred_probs))\n",
        "model_8_pred_labels[:5]"
      ],
      "metadata": {
        "colab": {
          "base_uri": "https://localhost:8080/"
        },
        "id": "L_ir1SDlOgYB",
        "outputId": "5dac956b-8671-4a2c-e7fa-51cde697ebbe"
      },
      "execution_count": null,
      "outputs": [
        {
          "output_type": "execute_result",
          "data": {
            "text/plain": [
              "<tf.Tensor: shape=(5,), dtype=float32, numpy=array([0., 1., 1., 0., 1.], dtype=float32)>"
            ]
          },
          "metadata": {},
          "execution_count": 116
        }
      ]
    },
    {
      "cell_type": "code",
      "source": [
        "model_8_results = calculate_results(val_10_percent_labels, model_8_pred_labels)\n",
        "model_8_results"
      ],
      "metadata": {
        "colab": {
          "base_uri": "https://localhost:8080/"
        },
        "id": "7EM2XybNOpwi",
        "outputId": "ca4de74e-afe8-4a81-974a-d21948cdb666"
      },
      "execution_count": null,
      "outputs": [
        {
          "output_type": "execute_result",
          "data": {
            "text/plain": [
              "{'accuracy': 81.57894736842105,\n",
              " 'Precision': 0.7297297297297297,\n",
              " 'Recall Score': 0.8709677419354839,\n",
              " 'F1 Score': 0.8173374613003096}"
            ]
          },
          "metadata": {},
          "execution_count": 117
        }
      ]
    },
    {
      "cell_type": "code",
      "source": [
        "baseline_results"
      ],
      "metadata": {
        "colab": {
          "base_uri": "https://localhost:8080/"
        },
        "id": "cWyHfE7AO3OK",
        "outputId": "c036173a-d6f5-4592-a5d7-fea466f0c20b"
      },
      "execution_count": null,
      "outputs": [
        {
          "output_type": "execute_result",
          "data": {
            "text/plain": [
              "{'accuracy': 79.26509186351706,\n",
              " 'Precision': 0.8861788617886179,\n",
              " 'Recall Score': 0.6264367816091954,\n",
              " 'F1 Score': 0.7862189758049549}"
            ]
          },
          "metadata": {},
          "execution_count": 118
        }
      ]
    },
    {
      "cell_type": "code",
      "source": [],
      "metadata": {
        "id": "4Y4NL95hPH9W"
      },
      "execution_count": null,
      "outputs": []
    },
    {
      "cell_type": "markdown",
      "source": [
        "### Warning - Data Leakage Check 246\n",
        "In upper case there might be data leakage, this might be due the split that we are making."
      ],
      "metadata": {
        "id": "ImX8dqbYiBaC"
      }
    },
    {
      "cell_type": "markdown",
      "source": [
        "### Making the correct split"
      ],
      "metadata": {
        "id": "ALq2ZEsqidmz"
      }
    },
    {
      "cell_type": "code",
      "source": [
        "train_10_percent_split = int(0.1*len(train_sentences))\n",
        "train_10_percent_split"
      ],
      "metadata": {
        "colab": {
          "base_uri": "https://localhost:8080/"
        },
        "id": "Qi5NhWPaikY7",
        "outputId": "0911d2b2-25ed-4345-f8ce-6e0bd887476f"
      },
      "execution_count": null,
      "outputs": [
        {
          "output_type": "execute_result",
          "data": {
            "text/plain": [
              "685"
            ]
          },
          "metadata": {},
          "execution_count": 119
        }
      ]
    },
    {
      "cell_type": "code",
      "source": [
        "train_sentences_10_percent = train_sentences[:train_10_percent_split]\n",
        "train_labels_10_percent = train_labels[:train_10_percent_split]\n",
        "len(train_labels_10_percent)"
      ],
      "metadata": {
        "colab": {
          "base_uri": "https://localhost:8080/"
        },
        "id": "wHmtQ1b-jNXE",
        "outputId": "ee1e97fe-6b68-4c2e-8016-ad51a7658b5f"
      },
      "execution_count": null,
      "outputs": [
        {
          "output_type": "execute_result",
          "data": {
            "text/plain": [
              "685"
            ]
          },
          "metadata": {},
          "execution_count": 120
        }
      ]
    },
    {
      "cell_type": "code",
      "source": [
        "pd.Series(train_labels_10_percent).value_counts()"
      ],
      "metadata": {
        "colab": {
          "base_uri": "https://localhost:8080/"
        },
        "id": "0QU3a0BNjzRE",
        "outputId": "16efc2df-c6a7-48a6-a72d-4c9f80002890"
      },
      "execution_count": null,
      "outputs": [
        {
          "output_type": "execute_result",
          "data": {
            "text/plain": [
              "0    406\n",
              "1    279\n",
              "dtype: int64"
            ]
          },
          "metadata": {},
          "execution_count": 121
        }
      ]
    },
    {
      "cell_type": "code",
      "source": [
        "emb4 = hub.load(\"https://tfhub.dev/google/universal-sentence-encoder/4\")\n",
        "sentence_encoder_4 = hub.KerasLayer(\"https://tfhub.dev/google/universal-sentence-encoder/4\",\n",
        "                               input_shape=[],\n",
        "                               trainable = False,\n",
        "                               dtype = tf.string,\n",
        "                               name = \"10percentcorrectsplit\")"
      ],
      "metadata": {
        "id": "zc1AroQekF-C"
      },
      "execution_count": null,
      "outputs": []
    },
    {
      "cell_type": "markdown",
      "source": [
        "### Building correct split model - Model 9"
      ],
      "metadata": {
        "id": "4fcWksQ0ksMP"
      }
    },
    {
      "cell_type": "code",
      "source": [
        "from tensorflow.keras import Sequential\n",
        "\n",
        "model_9 = Sequential([\n",
        "    sentence_encoder_4,\n",
        "    layers.Dense(64, activation=\"relu\"),\n",
        "    layers.Dense(1, activation=\"sigmoid\")\n",
        "])\n",
        "\n",
        "\n",
        "model_9.compile(loss=\"binary_crossentropy\",\n",
        "                optimizer = tf.keras.optimizers.Adam(),\n",
        "                metrics = [\"accuracy\"])"
      ],
      "metadata": {
        "id": "PR1P7r_Ik_L8"
      },
      "execution_count": null,
      "outputs": []
    },
    {
      "cell_type": "code",
      "source": [
        "model_9_history = model_9.fit(train_sentences_10_percent, train_labels_10_percent,\n",
        "                              epochs = 5,\n",
        "                              validation_data = (val_sentences, val_labels),\n",
        "                              callbacks = [create_tensorboard_callback(SAVE_DIR, \"tf_hub_sentence_10_percent_correct_split\")])"
      ],
      "metadata": {
        "colab": {
          "base_uri": "https://localhost:8080/"
        },
        "id": "q5sLqRnnlKSb",
        "outputId": "d5a92eaf-0a6b-4609-f74b-72477ee08375"
      },
      "execution_count": null,
      "outputs": [
        {
          "output_type": "stream",
          "name": "stdout",
          "text": [
            "Saving TensorBoard log files to: model_logs/tf_hub_sentence_10_percent_correct_split/20230414-034520\n",
            "Epoch 1/5\n",
            "22/22 [==============================] - 4s 48ms/step - loss: 0.6680 - accuracy: 0.7022 - val_loss: 0.6465 - val_accuracy: 0.7257\n",
            "Epoch 2/5\n",
            "22/22 [==============================] - 1s 25ms/step - loss: 0.5966 - accuracy: 0.8044 - val_loss: 0.5889 - val_accuracy: 0.7625\n",
            "Epoch 3/5\n",
            "22/22 [==============================] - 1s 27ms/step - loss: 0.5203 - accuracy: 0.8204 - val_loss: 0.5339 - val_accuracy: 0.7808\n",
            "Epoch 4/5\n",
            "22/22 [==============================] - 1s 24ms/step - loss: 0.4596 - accuracy: 0.8161 - val_loss: 0.5035 - val_accuracy: 0.7717\n",
            "Epoch 5/5\n",
            "22/22 [==============================] - 1s 34ms/step - loss: 0.4188 - accuracy: 0.8307 - val_loss: 0.4897 - val_accuracy: 0.7795\n"
          ]
        }
      ]
    },
    {
      "cell_type": "code",
      "source": [
        "model_9_pred_prob = model_9.predict(val_sentences)\n",
        "model_9_pred_labels = tf.squeeze(tf.round(model_9_pred_prob))\n",
        "model_9_pred_labels[:5]"
      ],
      "metadata": {
        "colab": {
          "base_uri": "https://localhost:8080/"
        },
        "id": "iXQkacBNnDlS",
        "outputId": "e62c42ad-a19a-48d6-e980-a85c29f90493"
      },
      "execution_count": null,
      "outputs": [
        {
          "output_type": "stream",
          "name": "stdout",
          "text": [
            "24/24 [==============================] - 1s 9ms/step\n"
          ]
        },
        {
          "output_type": "execute_result",
          "data": {
            "text/plain": [
              "<tf.Tensor: shape=(5,), dtype=float32, numpy=array([0., 1., 1., 0., 1.], dtype=float32)>"
            ]
          },
          "metadata": {},
          "execution_count": 125
        }
      ]
    },
    {
      "cell_type": "code",
      "source": [
        "model_9_results = calculate_results(val_labels, model_9_pred_labels)\n",
        "model_9_results"
      ],
      "metadata": {
        "colab": {
          "base_uri": "https://localhost:8080/"
        },
        "id": "QXWKuaBnnaaR",
        "outputId": "cc9ddb3b-6db2-4d72-920a-2a054b9c8742"
      },
      "execution_count": null,
      "outputs": [
        {
          "output_type": "execute_result",
          "data": {
            "text/plain": [
              "{'accuracy': 77.95275590551181,\n",
              " 'Precision': 0.8,\n",
              " 'Recall Score': 0.6896551724137931,\n",
              " 'F1 Score': 0.7774022539420016}"
            ]
          },
          "metadata": {},
          "execution_count": 126
        }
      ]
    },
    {
      "cell_type": "markdown",
      "source": [
        "# Comparing Performance of each model"
      ],
      "metadata": {
        "id": "3sRhgXijn3ND"
      }
    },
    {
      "cell_type": "code",
      "source": [
        "# Combine model results in dataframe\n",
        "all_model_results = pd.DataFrame({\"Baseline\": baseline_results,\n",
        "                                 \"1 Simple Dense\" : model_1_results,\n",
        "                                 \"2 LSTM\": model_2_results,\n",
        "                                 \"3 GRU\" : model_3_results,\n",
        "                                 \"4 Bidirectional\" : model_4_results,\n",
        "                                 \"5 Conv1D\" : model_5_results,\n",
        "                                 \"6 Hub USE encoder\" : model_6_results,\n",
        "                                 \"7 USE 10%\" : model_7_results,\n",
        "                                 \"Model 8\" : model_8_results,\n",
        "                                 \"Model 9\" : model_9_results})\n",
        "all_model_results = all_model_results.transpose()\n",
        "all_model_results"
      ],
      "metadata": {
        "colab": {
          "base_uri": "https://localhost:8080/",
          "height": 363
        },
        "id": "LXoH0WNmobYB",
        "outputId": "3de4f291-9648-462b-dbb5-d16f64fe52aa"
      },
      "execution_count": null,
      "outputs": [
        {
          "output_type": "execute_result",
          "data": {
            "text/plain": [
              "                    accuracy  Precision  Recall Score  F1 Score\n",
              "Baseline           79.265092   0.886179      0.626437  0.786219\n",
              "1 Simple Dense     78.346457   0.823322      0.669540  0.780192\n",
              "2 LSTM             77.690289   0.806897      0.672414  0.774064\n",
              "3 GRU              77.034121   0.783607      0.686782  0.768449\n",
              "4 Bidirectional    77.165354   0.782468      0.692529  0.769953\n",
              "5 Conv1D           76.246719   0.768489      0.686782  0.760879\n",
              "6 Hub USE encoder  79.396325   0.807074      0.721264  0.792586\n",
              "7 USE 10%          81.889764   0.830189      0.758621  0.817985\n",
              "Model 8            81.578947   0.729730      0.870968  0.817337\n",
              "Model 9            77.952756   0.800000      0.689655  0.777402"
            ],
            "text/html": [
              "\n",
              "  <div id=\"df-c5ab5b69-7f37-441e-b96c-0da3d9fada17\">\n",
              "    <div class=\"colab-df-container\">\n",
              "      <div>\n",
              "<style scoped>\n",
              "    .dataframe tbody tr th:only-of-type {\n",
              "        vertical-align: middle;\n",
              "    }\n",
              "\n",
              "    .dataframe tbody tr th {\n",
              "        vertical-align: top;\n",
              "    }\n",
              "\n",
              "    .dataframe thead th {\n",
              "        text-align: right;\n",
              "    }\n",
              "</style>\n",
              "<table border=\"1\" class=\"dataframe\">\n",
              "  <thead>\n",
              "    <tr style=\"text-align: right;\">\n",
              "      <th></th>\n",
              "      <th>accuracy</th>\n",
              "      <th>Precision</th>\n",
              "      <th>Recall Score</th>\n",
              "      <th>F1 Score</th>\n",
              "    </tr>\n",
              "  </thead>\n",
              "  <tbody>\n",
              "    <tr>\n",
              "      <th>Baseline</th>\n",
              "      <td>79.265092</td>\n",
              "      <td>0.886179</td>\n",
              "      <td>0.626437</td>\n",
              "      <td>0.786219</td>\n",
              "    </tr>\n",
              "    <tr>\n",
              "      <th>1 Simple Dense</th>\n",
              "      <td>78.346457</td>\n",
              "      <td>0.823322</td>\n",
              "      <td>0.669540</td>\n",
              "      <td>0.780192</td>\n",
              "    </tr>\n",
              "    <tr>\n",
              "      <th>2 LSTM</th>\n",
              "      <td>77.690289</td>\n",
              "      <td>0.806897</td>\n",
              "      <td>0.672414</td>\n",
              "      <td>0.774064</td>\n",
              "    </tr>\n",
              "    <tr>\n",
              "      <th>3 GRU</th>\n",
              "      <td>77.034121</td>\n",
              "      <td>0.783607</td>\n",
              "      <td>0.686782</td>\n",
              "      <td>0.768449</td>\n",
              "    </tr>\n",
              "    <tr>\n",
              "      <th>4 Bidirectional</th>\n",
              "      <td>77.165354</td>\n",
              "      <td>0.782468</td>\n",
              "      <td>0.692529</td>\n",
              "      <td>0.769953</td>\n",
              "    </tr>\n",
              "    <tr>\n",
              "      <th>5 Conv1D</th>\n",
              "      <td>76.246719</td>\n",
              "      <td>0.768489</td>\n",
              "      <td>0.686782</td>\n",
              "      <td>0.760879</td>\n",
              "    </tr>\n",
              "    <tr>\n",
              "      <th>6 Hub USE encoder</th>\n",
              "      <td>79.396325</td>\n",
              "      <td>0.807074</td>\n",
              "      <td>0.721264</td>\n",
              "      <td>0.792586</td>\n",
              "    </tr>\n",
              "    <tr>\n",
              "      <th>7 USE 10%</th>\n",
              "      <td>81.889764</td>\n",
              "      <td>0.830189</td>\n",
              "      <td>0.758621</td>\n",
              "      <td>0.817985</td>\n",
              "    </tr>\n",
              "    <tr>\n",
              "      <th>Model 8</th>\n",
              "      <td>81.578947</td>\n",
              "      <td>0.729730</td>\n",
              "      <td>0.870968</td>\n",
              "      <td>0.817337</td>\n",
              "    </tr>\n",
              "    <tr>\n",
              "      <th>Model 9</th>\n",
              "      <td>77.952756</td>\n",
              "      <td>0.800000</td>\n",
              "      <td>0.689655</td>\n",
              "      <td>0.777402</td>\n",
              "    </tr>\n",
              "  </tbody>\n",
              "</table>\n",
              "</div>\n",
              "      <button class=\"colab-df-convert\" onclick=\"convertToInteractive('df-c5ab5b69-7f37-441e-b96c-0da3d9fada17')\"\n",
              "              title=\"Convert this dataframe to an interactive table.\"\n",
              "              style=\"display:none;\">\n",
              "        \n",
              "  <svg xmlns=\"http://www.w3.org/2000/svg\" height=\"24px\"viewBox=\"0 0 24 24\"\n",
              "       width=\"24px\">\n",
              "    <path d=\"M0 0h24v24H0V0z\" fill=\"none\"/>\n",
              "    <path d=\"M18.56 5.44l.94 2.06.94-2.06 2.06-.94-2.06-.94-.94-2.06-.94 2.06-2.06.94zm-11 1L8.5 8.5l.94-2.06 2.06-.94-2.06-.94L8.5 2.5l-.94 2.06-2.06.94zm10 10l.94 2.06.94-2.06 2.06-.94-2.06-.94-.94-2.06-.94 2.06-2.06.94z\"/><path d=\"M17.41 7.96l-1.37-1.37c-.4-.4-.92-.59-1.43-.59-.52 0-1.04.2-1.43.59L10.3 9.45l-7.72 7.72c-.78.78-.78 2.05 0 2.83L4 21.41c.39.39.9.59 1.41.59.51 0 1.02-.2 1.41-.59l7.78-7.78 2.81-2.81c.8-.78.8-2.07 0-2.86zM5.41 20L4 18.59l7.72-7.72 1.47 1.35L5.41 20z\"/>\n",
              "  </svg>\n",
              "      </button>\n",
              "      \n",
              "  <style>\n",
              "    .colab-df-container {\n",
              "      display:flex;\n",
              "      flex-wrap:wrap;\n",
              "      gap: 12px;\n",
              "    }\n",
              "\n",
              "    .colab-df-convert {\n",
              "      background-color: #E8F0FE;\n",
              "      border: none;\n",
              "      border-radius: 50%;\n",
              "      cursor: pointer;\n",
              "      display: none;\n",
              "      fill: #1967D2;\n",
              "      height: 32px;\n",
              "      padding: 0 0 0 0;\n",
              "      width: 32px;\n",
              "    }\n",
              "\n",
              "    .colab-df-convert:hover {\n",
              "      background-color: #E2EBFA;\n",
              "      box-shadow: 0px 1px 2px rgba(60, 64, 67, 0.3), 0px 1px 3px 1px rgba(60, 64, 67, 0.15);\n",
              "      fill: #174EA6;\n",
              "    }\n",
              "\n",
              "    [theme=dark] .colab-df-convert {\n",
              "      background-color: #3B4455;\n",
              "      fill: #D2E3FC;\n",
              "    }\n",
              "\n",
              "    [theme=dark] .colab-df-convert:hover {\n",
              "      background-color: #434B5C;\n",
              "      box-shadow: 0px 1px 3px 1px rgba(0, 0, 0, 0.15);\n",
              "      filter: drop-shadow(0px 1px 2px rgba(0, 0, 0, 0.3));\n",
              "      fill: #FFFFFF;\n",
              "    }\n",
              "  </style>\n",
              "\n",
              "      <script>\n",
              "        const buttonEl =\n",
              "          document.querySelector('#df-c5ab5b69-7f37-441e-b96c-0da3d9fada17 button.colab-df-convert');\n",
              "        buttonEl.style.display =\n",
              "          google.colab.kernel.accessAllowed ? 'block' : 'none';\n",
              "\n",
              "        async function convertToInteractive(key) {\n",
              "          const element = document.querySelector('#df-c5ab5b69-7f37-441e-b96c-0da3d9fada17');\n",
              "          const dataTable =\n",
              "            await google.colab.kernel.invokeFunction('convertToInteractive',\n",
              "                                                     [key], {});\n",
              "          if (!dataTable) return;\n",
              "\n",
              "          const docLinkHtml = 'Like what you see? Visit the ' +\n",
              "            '<a target=\"_blank\" href=https://colab.research.google.com/notebooks/data_table.ipynb>data table notebook</a>'\n",
              "            + ' to learn more about interactive tables.';\n",
              "          element.innerHTML = '';\n",
              "          dataTable['output_type'] = 'display_data';\n",
              "          await google.colab.output.renderOutput(dataTable, element);\n",
              "          const docLink = document.createElement('div');\n",
              "          docLink.innerHTML = docLinkHtml;\n",
              "          element.appendChild(docLink);\n",
              "        }\n",
              "      </script>\n",
              "    </div>\n",
              "  </div>\n",
              "  "
            ]
          },
          "metadata": {},
          "execution_count": 127
        }
      ]
    },
    {
      "cell_type": "code",
      "source": [
        "all_model_results[\"accuracy\"] = all_model_results[\"accuracy\"]/100\n",
        "all_model_results"
      ],
      "metadata": {
        "colab": {
          "base_uri": "https://localhost:8080/",
          "height": 363
        },
        "id": "-aCh1nqfpJj4",
        "outputId": "b2451849-8fa0-4687-f456-177fdda3e8f6"
      },
      "execution_count": null,
      "outputs": [
        {
          "output_type": "execute_result",
          "data": {
            "text/plain": [
              "                   accuracy  Precision  Recall Score  F1 Score\n",
              "Baseline           0.792651   0.886179      0.626437  0.786219\n",
              "1 Simple Dense     0.783465   0.823322      0.669540  0.780192\n",
              "2 LSTM             0.776903   0.806897      0.672414  0.774064\n",
              "3 GRU              0.770341   0.783607      0.686782  0.768449\n",
              "4 Bidirectional    0.771654   0.782468      0.692529  0.769953\n",
              "5 Conv1D           0.762467   0.768489      0.686782  0.760879\n",
              "6 Hub USE encoder  0.793963   0.807074      0.721264  0.792586\n",
              "7 USE 10%          0.818898   0.830189      0.758621  0.817985\n",
              "Model 8            0.815789   0.729730      0.870968  0.817337\n",
              "Model 9            0.779528   0.800000      0.689655  0.777402"
            ],
            "text/html": [
              "\n",
              "  <div id=\"df-d51ae191-f0f0-4304-b229-826858541c05\">\n",
              "    <div class=\"colab-df-container\">\n",
              "      <div>\n",
              "<style scoped>\n",
              "    .dataframe tbody tr th:only-of-type {\n",
              "        vertical-align: middle;\n",
              "    }\n",
              "\n",
              "    .dataframe tbody tr th {\n",
              "        vertical-align: top;\n",
              "    }\n",
              "\n",
              "    .dataframe thead th {\n",
              "        text-align: right;\n",
              "    }\n",
              "</style>\n",
              "<table border=\"1\" class=\"dataframe\">\n",
              "  <thead>\n",
              "    <tr style=\"text-align: right;\">\n",
              "      <th></th>\n",
              "      <th>accuracy</th>\n",
              "      <th>Precision</th>\n",
              "      <th>Recall Score</th>\n",
              "      <th>F1 Score</th>\n",
              "    </tr>\n",
              "  </thead>\n",
              "  <tbody>\n",
              "    <tr>\n",
              "      <th>Baseline</th>\n",
              "      <td>0.792651</td>\n",
              "      <td>0.886179</td>\n",
              "      <td>0.626437</td>\n",
              "      <td>0.786219</td>\n",
              "    </tr>\n",
              "    <tr>\n",
              "      <th>1 Simple Dense</th>\n",
              "      <td>0.783465</td>\n",
              "      <td>0.823322</td>\n",
              "      <td>0.669540</td>\n",
              "      <td>0.780192</td>\n",
              "    </tr>\n",
              "    <tr>\n",
              "      <th>2 LSTM</th>\n",
              "      <td>0.776903</td>\n",
              "      <td>0.806897</td>\n",
              "      <td>0.672414</td>\n",
              "      <td>0.774064</td>\n",
              "    </tr>\n",
              "    <tr>\n",
              "      <th>3 GRU</th>\n",
              "      <td>0.770341</td>\n",
              "      <td>0.783607</td>\n",
              "      <td>0.686782</td>\n",
              "      <td>0.768449</td>\n",
              "    </tr>\n",
              "    <tr>\n",
              "      <th>4 Bidirectional</th>\n",
              "      <td>0.771654</td>\n",
              "      <td>0.782468</td>\n",
              "      <td>0.692529</td>\n",
              "      <td>0.769953</td>\n",
              "    </tr>\n",
              "    <tr>\n",
              "      <th>5 Conv1D</th>\n",
              "      <td>0.762467</td>\n",
              "      <td>0.768489</td>\n",
              "      <td>0.686782</td>\n",
              "      <td>0.760879</td>\n",
              "    </tr>\n",
              "    <tr>\n",
              "      <th>6 Hub USE encoder</th>\n",
              "      <td>0.793963</td>\n",
              "      <td>0.807074</td>\n",
              "      <td>0.721264</td>\n",
              "      <td>0.792586</td>\n",
              "    </tr>\n",
              "    <tr>\n",
              "      <th>7 USE 10%</th>\n",
              "      <td>0.818898</td>\n",
              "      <td>0.830189</td>\n",
              "      <td>0.758621</td>\n",
              "      <td>0.817985</td>\n",
              "    </tr>\n",
              "    <tr>\n",
              "      <th>Model 8</th>\n",
              "      <td>0.815789</td>\n",
              "      <td>0.729730</td>\n",
              "      <td>0.870968</td>\n",
              "      <td>0.817337</td>\n",
              "    </tr>\n",
              "    <tr>\n",
              "      <th>Model 9</th>\n",
              "      <td>0.779528</td>\n",
              "      <td>0.800000</td>\n",
              "      <td>0.689655</td>\n",
              "      <td>0.777402</td>\n",
              "    </tr>\n",
              "  </tbody>\n",
              "</table>\n",
              "</div>\n",
              "      <button class=\"colab-df-convert\" onclick=\"convertToInteractive('df-d51ae191-f0f0-4304-b229-826858541c05')\"\n",
              "              title=\"Convert this dataframe to an interactive table.\"\n",
              "              style=\"display:none;\">\n",
              "        \n",
              "  <svg xmlns=\"http://www.w3.org/2000/svg\" height=\"24px\"viewBox=\"0 0 24 24\"\n",
              "       width=\"24px\">\n",
              "    <path d=\"M0 0h24v24H0V0z\" fill=\"none\"/>\n",
              "    <path d=\"M18.56 5.44l.94 2.06.94-2.06 2.06-.94-2.06-.94-.94-2.06-.94 2.06-2.06.94zm-11 1L8.5 8.5l.94-2.06 2.06-.94-2.06-.94L8.5 2.5l-.94 2.06-2.06.94zm10 10l.94 2.06.94-2.06 2.06-.94-2.06-.94-.94-2.06-.94 2.06-2.06.94z\"/><path d=\"M17.41 7.96l-1.37-1.37c-.4-.4-.92-.59-1.43-.59-.52 0-1.04.2-1.43.59L10.3 9.45l-7.72 7.72c-.78.78-.78 2.05 0 2.83L4 21.41c.39.39.9.59 1.41.59.51 0 1.02-.2 1.41-.59l7.78-7.78 2.81-2.81c.8-.78.8-2.07 0-2.86zM5.41 20L4 18.59l7.72-7.72 1.47 1.35L5.41 20z\"/>\n",
              "  </svg>\n",
              "      </button>\n",
              "      \n",
              "  <style>\n",
              "    .colab-df-container {\n",
              "      display:flex;\n",
              "      flex-wrap:wrap;\n",
              "      gap: 12px;\n",
              "    }\n",
              "\n",
              "    .colab-df-convert {\n",
              "      background-color: #E8F0FE;\n",
              "      border: none;\n",
              "      border-radius: 50%;\n",
              "      cursor: pointer;\n",
              "      display: none;\n",
              "      fill: #1967D2;\n",
              "      height: 32px;\n",
              "      padding: 0 0 0 0;\n",
              "      width: 32px;\n",
              "    }\n",
              "\n",
              "    .colab-df-convert:hover {\n",
              "      background-color: #E2EBFA;\n",
              "      box-shadow: 0px 1px 2px rgba(60, 64, 67, 0.3), 0px 1px 3px 1px rgba(60, 64, 67, 0.15);\n",
              "      fill: #174EA6;\n",
              "    }\n",
              "\n",
              "    [theme=dark] .colab-df-convert {\n",
              "      background-color: #3B4455;\n",
              "      fill: #D2E3FC;\n",
              "    }\n",
              "\n",
              "    [theme=dark] .colab-df-convert:hover {\n",
              "      background-color: #434B5C;\n",
              "      box-shadow: 0px 1px 3px 1px rgba(0, 0, 0, 0.15);\n",
              "      filter: drop-shadow(0px 1px 2px rgba(0, 0, 0, 0.3));\n",
              "      fill: #FFFFFF;\n",
              "    }\n",
              "  </style>\n",
              "\n",
              "      <script>\n",
              "        const buttonEl =\n",
              "          document.querySelector('#df-d51ae191-f0f0-4304-b229-826858541c05 button.colab-df-convert');\n",
              "        buttonEl.style.display =\n",
              "          google.colab.kernel.accessAllowed ? 'block' : 'none';\n",
              "\n",
              "        async function convertToInteractive(key) {\n",
              "          const element = document.querySelector('#df-d51ae191-f0f0-4304-b229-826858541c05');\n",
              "          const dataTable =\n",
              "            await google.colab.kernel.invokeFunction('convertToInteractive',\n",
              "                                                     [key], {});\n",
              "          if (!dataTable) return;\n",
              "\n",
              "          const docLinkHtml = 'Like what you see? Visit the ' +\n",
              "            '<a target=\"_blank\" href=https://colab.research.google.com/notebooks/data_table.ipynb>data table notebook</a>'\n",
              "            + ' to learn more about interactive tables.';\n",
              "          element.innerHTML = '';\n",
              "          dataTable['output_type'] = 'display_data';\n",
              "          await google.colab.output.renderOutput(dataTable, element);\n",
              "          const docLink = document.createElement('div');\n",
              "          docLink.innerHTML = docLinkHtml;\n",
              "          element.appendChild(docLink);\n",
              "        }\n",
              "      </script>\n",
              "    </div>\n",
              "  </div>\n",
              "  "
            ]
          },
          "metadata": {},
          "execution_count": 128
        }
      ]
    },
    {
      "cell_type": "code",
      "source": [
        "# Plot and compare all model results\n",
        "all_model_results.plot(kind=\"bar\", figsize=(10,7)).legend(bbox_to_anchor=(1.0,1.0));"
      ],
      "metadata": {
        "colab": {
          "base_uri": "https://localhost:8080/",
          "height": 625
        },
        "id": "IIcppfwFsmdu",
        "outputId": "d167fecf-d248-4376-861e-e8c6fe5550af"
      },
      "execution_count": null,
      "outputs": [
        {
          "output_type": "display_data",
          "data": {
            "text/plain": [
              "<Figure size 1000x700 with 1 Axes>"
            ],
            "image/png": "[encoded data removed]"
          },
          "metadata": {}
        }
      ]
    },
    {
      "cell_type": "markdown",
      "source": [
        "### Uploading model logs to tensorboard"
      ],
      "metadata": {
        "id": "wU2hYsMStNq_"
      }
    },
    {
      "cell_type": "code",
      "source": [
        "! tensorboard dev upload --logdir ./model_logs/ \\\n",
        "  --name \"NLP Modelling Exp\" \\\n",
        "  --description \"Comparing multiple different types of model architectures on Kaggle Tweet text classification\" \\\n",
        "  --one_shot"
      ],
      "metadata": {
        "colab": {
          "base_uri": "https://localhost:8080/"
        },
        "id": "thSHtVw23x9Y",
        "outputId": "987bf99d-6141-458b-a2e2-ec976d302525"
      },
      "execution_count": null,
      "outputs": [
        {
          "output_type": "stream",
          "name": "stdout",
          "text": [
            "2023-04-14 03:53:49.283120: W tensorflow/compiler/tf2tensorrt/utils/py_utils.cc:38] TF-TRT Warning: Could not find TensorRT\n",
            "\n",
            "***** TensorBoard Uploader *****\n",
            "\n",
            "This will upload your TensorBoard logs to https://tensorboard.dev/ from\n",
            "the following directory:\n",
            "\n",
            "./model_logs/\n",
            "\n",
            "This TensorBoard will be visible to everyone. Do not upload sensitive\n",
            "data.\n",
            "\n",
            "Your use of this service is subject to Google's Terms of Service\n",
            "<https://policies.google.com/terms> and Privacy Policy\n",
            "<https://policies.google.com/privacy>, and TensorBoard.dev's Terms of Service\n",
            "<https://tensorboard.dev/policy/terms/>.\n",
            "\n",
            "This notice will not be shown again while you are logged into the uploader.\n",
            "To log out, run `tensorboard dev auth revoke`.\n",
            "\n",
            "Continue? (yes/NO) yes\n",
            "\n",
            "To sign in with the TensorBoard uploader:\n",
            "\n",
            "1. On your computer or phone, visit:\n",
            "\n",
            "   https://www.google.com/device\n",
            "\n",
            "2. Sign in with your Google account, then enter:\n",
            "\n",
            "   BYX-YZL-NNM\n",
            "\n",
            "\n",
            "\n",
            "New experiment created. View your TensorBoard at: https://tensorboard.dev/experiment/Kbh2QLtBQMqaERuZC0iASw/\n",
            "\n",
            "\u001b[1m[2023-04-14T03:55:16]\u001b[0m Started scanning logdir.\n",
            "\u001b[1m[2023-04-14T03:55:31]\u001b[0m Total uploaded: 270 scalars, 0 tensors, 9 binary objects (4.7 MB)\n",
            "\u001b[1m[2023-04-14T03:55:31]\u001b[0m Done scanning logdir.\n",
            "\n",
            "\n",
            "Done. View your TensorBoard at https://tensorboard.dev/experiment/Kbh2QLtBQMqaERuZC0iASw/\n"
          ]
        }
      ]
    },
    {
      "cell_type": "code",
      "source": [
        "! tensorboard dev list"
      ],
      "metadata": {
        "colab": {
          "base_uri": "https://localhost:8080/"
        },
        "id": "cIl9gDVO7L-7",
        "outputId": "27990e88-75b7-41df-daa6-b3365607b12f"
      },
      "execution_count": null,
      "outputs": [
        {
          "output_type": "stream",
          "name": "stdout",
          "text": [
            "2023-04-14 04:01:41.482623: W tensorflow/compiler/tf2tensorrt/utils/py_utils.cc:38] TF-TRT Warning: Could not find TensorRT\n",
            "https://tensorboard.dev/experiment/Kbh2QLtBQMqaERuZC0iASw/\n",
            "\tName                 NLP Modelling Exp\n",
            "\tDescription          Comparing multiple different types of model architectures on Kaggle Tweet text classification\n",
            "\tId                   Kbh2QLtBQMqaERuZC0iASw\n",
            "\tCreated              2023-04-14 03:55:16 (6 minutes ago)\n",
            "\tUpdated              2023-04-14 03:55:31 (6 minutes ago)\n",
            "\tRuns                 18\n",
            "\tTags                 5\n",
            "\tScalars              270\n",
            "\tTensor bytes         0\n",
            "\tBinary object bytes  4879209\n",
            "Total: 1 experiment(s)\n"
          ]
        }
      ]
    },
    {
      "cell_type": "code",
      "source": [
        "# To delete tensorboard experiments run -\n",
        "# ! tensorboard dev delete --expid Kbh2QLtBQMqaERuZC0iASw"
      ],
      "metadata": {
        "id": "KnpX2HWB7V1s"
      },
      "execution_count": null,
      "outputs": []
    },
    {
      "cell_type": "markdown",
      "source": [
        "### USING A PRETRAINED MODEL TO EVALUATE OUR DATA"
      ],
      "metadata": {
        "id": "sqpinSM6v_PB"
      }
    },
    {
      "cell_type": "code",
      "source": [
        "! wget https://storage.googleapis.com/ztm_tf_course/08_model_6_USE_feature_extractor.zip\n",
        "! unzip 08_model_6_USE_feature_extractor.zip"
      ],
      "metadata": {
        "colab": {
          "base_uri": "https://localhost:8080/"
        },
        "id": "LiQhpAjFwHXX",
        "outputId": "9124a094-9bc0-4abe-8c39-093c757fe5e7"
      },
      "execution_count": null,
      "outputs": [
        {
          "output_type": "stream",
          "name": "stdout",
          "text": [
            "--2023-05-06 01:51:02--  https://storage.googleapis.com/ztm_tf_course/08_model_6_USE_feature_extractor.zip\n",
            "Resolving storage.googleapis.com (storage.googleapis.com)... 142.251.10.128, 142.251.12.128, 172.217.194.128, ...\n",
            "Connecting to storage.googleapis.com (storage.googleapis.com)|142.251.10.128|:443... connected.\n",
            "HTTP request sent, awaiting response... 200 OK\n",
            "Length: 960779165 (916M) [application/zip]\n",
            "Saving to: ‘08_model_6_USE_feature_extractor.zip’\n",
            "\n",
            "08_model_6_USE_feat 100%[===================>] 916.27M  19.1MB/s    in 46s     \n",
            "\n",
            "2023-05-06 01:51:49 (19.7 MB/s) - ‘08_model_6_USE_feature_extractor.zip’ saved [960779165/960779165]\n",
            "\n",
            "Archive:  08_model_6_USE_feature_extractor.zip\n",
            "   creating: 08_model_6_USE_feature_extractor/\n",
            "   creating: 08_model_6_USE_feature_extractor/assets/\n",
            "   creating: 08_model_6_USE_feature_extractor/variables/\n",
            "  inflating: 08_model_6_USE_feature_extractor/variables/variables.data-00000-of-00001  \n",
            "  inflating: 08_model_6_USE_feature_extractor/variables/variables.index  \n",
            "  inflating: 08_model_6_USE_feature_extractor/saved_model.pb  \n"
          ]
        }
      ]
    },
    {
      "cell_type": "code",
      "source": [
        "# Import Previously trained model from Google storage\n",
        "model_6_pretrained = tf.keras.models.load_model(\"08_model_6_USE_feature_extractor\")\n",
        "model_6_pretrained.evaluate(val_sentences, val_labels)\n",
        "model_6_pretrained_pred_probs = model_6_pretrained.predict(val_sentences)\n",
        "model_6_pretrained_preds = tf.squeeze(tf.round(model_6_pretrained_pred_probs))\n",
        "model_6_pretrained_preds[:10]"
      ],
      "metadata": {
        "id": "gkoGGcQlwVQ7"
      },
      "execution_count": null,
      "outputs": []
    },
    {
      "cell_type": "code",
      "source": [
        "val_df = pd.DataFrame({\"text\":val_sentences,\n",
        "                       \"target\":val_labels,\n",
        "                       \"pred\":model_6_pretrained_preds,\n",
        "                       \"pred_prob\":tf.squeeze(model_6_pretrained_pred_probs)})"
      ],
      "metadata": {
        "id": "c6TVThT_wz8Z"
      },
      "execution_count": null,
      "outputs": []
    },
    {
      "cell_type": "code",
      "source": [
        "most_wrong = val_df[val_df[\"target\"] != val_df[\"pred\"]].sort_values(\"pred_prob\", ascending = False)\n",
        "most_wrong[:10]"
      ],
      "metadata": {
        "id": "p_LZRiaB3jv8"
      },
      "execution_count": null,
      "outputs": []
    },
    {
      "cell_type": "markdown",
      "source": [
        "### THE SPEED/SCORE TRADEOFF"
      ],
      "metadata": {
        "id": "mM70Bh4Y4Scr"
      }
    },
    {
      "cell_type": "code",
      "source": [
        "import time\n",
        "def pred_timer(model, samples):\n",
        "  \"\"\"\n",
        "  Times how long a model takes to make predictions on samples.\n",
        "  \"\"\"\n",
        "  start_time = time.pref_counter()\n",
        "  model.predict(samples)\n",
        "  end_time = time.pref_counter()\n",
        "  total_time = end_time - start_time\n",
        "  time_per_pred = total_time/len(samples)\n",
        "  return total_time, time_per_pred"
      ],
      "metadata": {
        "id": "H4Q7bO63-OG2"
      },
      "execution_count": null,
      "outputs": []
    },
    {
      "cell_type": "code",
      "source": [
        "model_6_pred_time, model_6_time_per_pred = pred_timer(model=model_6_predtrained, samples = val_sentences)\n",
        "\n",
        "model_6_pred_time, model_6_time_per_pred"
      ],
      "metadata": {
        "id": "VdK9p8o-_n16"
      },
      "execution_count": null,
      "outputs": []
    },
    {
      "cell_type": "code",
      "source": [
        "model_6_pretrained_results = calculate_results(val_labels, model_6_pretrained_preds)\n",
        "model_6_pretrained_results"
      ],
      "metadata": {
        "id": "cTGWH8c3_6So"
      },
      "execution_count": null,
      "outputs": []
    },
    {
      "cell_type": "code",
      "source": [
        "baseline_time, baseline_time_per_pred = pred_timer(model_0, val_sentences)\n",
        "baseline_time, baseline_time_per_pred"
      ],
      "metadata": {
        "id": "jiD82SkzJLsp"
      },
      "execution_count": null,
      "outputs": []
    },
    {
      "cell_type": "code",
      "source": [
        "import matplotlib.pyplot as plt\n",
        "\n",
        "plt.figure(figsize=(10,7))\n",
        "plt.scatter(baseline_time_per_pred, baseline_results[\"f1\"], label = \"baseline\")\n",
        "plt.scatter(model_6_pred_time, model_6_pretrained_results[\"f1\"], label = \"tf_hub_sentence_encoder\")\n",
        "plt.legend()\n",
        "plt.title(\"F1 Score vs Time per prediction\")\n",
        "plt.xlabel(\"Time per prediction\")\n",
        "plt.ylabel(\"F1 Score\");"
      ],
      "metadata": {
        "id": "eFPTKrSxI8gN"
      },
      "execution_count": null,
      "outputs": []
    }
  ]
}